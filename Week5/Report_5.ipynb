{
 "cells": [
  {
   "cell_type": "markdown",
   "id": "b87914e3",
   "metadata": {},
   "source": [
    "# 환경 세팅 및 기본 RDD 생성"
   ]
  },
  {
   "cell_type": "code",
   "execution_count": 1,
   "id": "574b2000",
   "metadata": {
    "collapsed": true
   },
   "outputs": [
    {
     "name": "stderr",
     "output_type": "stream",
     "text": [
      "21/10/10 23:48:23 WARN Utils: Your hostname, Kritiasui-MacBookAir.local resolves to a loopback address: 127.0.0.1; using 172.30.1.24 instead (on interface en0)\n",
      "21/10/10 23:48:23 WARN Utils: Set SPARK_LOCAL_IP if you need to bind to another address\n",
      "21/10/10 23:48:23 WARN NativeCodeLoader: Unable to load native-hadoop library for your platform... using builtin-java classes where applicable\n",
      "Using Spark's default log4j profile: org/apache/spark/log4j-defaults.properties\n",
      "Setting default log level to \"WARN\".\n",
      "To adjust logging level use sc.setLogLevel(newLevel). For SparkR, use setLogLevel(newLevel).\n"
     ]
    }
   ],
   "source": [
    "import pyspark\n",
    "spark = pyspark.sql.SparkSession.builder.master('local').appName('i').config(conf=pyspark.SparkConf()).getOrCreate()"
   ]
  },
  {
   "cell_type": "code",
   "execution_count": 3,
   "id": "c685ea57",
   "metadata": {},
   "outputs": [],
   "source": [
    "origin = [ \n",
    "          ('김하나', 'English', 100.),\n",
    "          ('김하나', 'Math', 80.), \n",
    "          ('임하나', 'English', 70.),\n",
    "          ('임하나', 'Math', 100.),\n",
    "          ('김갑돌', 'English', 82.3),\n",
    "          ('김갑돌', 'Math', 98.5)]\n",
    "rdd = spark.sparkContext.parallelize(origin)"
   ]
  },
  {
   "cell_type": "markdown",
   "id": "6296732c",
   "metadata": {},
   "source": [
    "# 문제"
   ]
  },
  {
   "cell_type": "markdown",
   "id": "a2d9a14b",
   "metadata": {},
   "source": [
    "## 문제 1"
   ]
  },
  {
   "cell_type": "code",
   "execution_count": 8,
   "id": "871af261",
   "metadata": {
    "scrolled": true
   },
   "outputs": [
    {
     "name": "stdout",
     "output_type": "stream",
     "text": [
      "'김하나' 180.0\n",
      "'임하나' 170.0\n",
      "'김갑돌' 180.8\n"
     ]
    }
   ],
   "source": [
    "sumByName = rdd\\\n",
    ".map(lambda ele : (ele[0], ele[2]))\\\n",
    ".combineByKey(lambda value: value,\n",
    "              lambda x, value: x + value,\n",
    "              nothing)\\\n",
    ".map(lambda ele : (ele[0], ele[1]))\\\n",
    ".collect()\n",
    "result(sumByName)"
   ]
  },
  {
   "cell_type": "markdown",
   "id": "83a788fc",
   "metadata": {},
   "source": [
    "## 문제 2"
   ]
  },
  {
   "cell_type": "code",
   "execution_count": 5,
   "id": "d6807687",
   "metadata": {},
   "outputs": [
    {
     "name": "stdout",
     "output_type": "stream",
     "text": [
      "'English' 252.3\n",
      "'Math' 278.5\n"
     ]
    }
   ],
   "source": [
    "sumByName = rdd\\\n",
    ".map(lambda ele : (ele[1], ele[2]))\\\n",
    ".combineByKey(lambda value: value,\n",
    "              lambda x, value: x + value,\n",
    "              nothing)\\\n",
    ".map(lambda ele : (ele[0], ele[1]))\\\n",
    ".collect()\n",
    "result(sumByName)"
   ]
  },
  {
   "cell_type": "markdown",
   "id": "a4c73efb",
   "metadata": {},
   "source": [
    "## 문제 3"
   ]
  },
  {
   "cell_type": "code",
   "execution_count": 6,
   "id": "7d263242",
   "metadata": {},
   "outputs": [
    {
     "name": "stdout",
     "output_type": "stream",
     "text": [
      "'김하나' (180.0, 2)\n",
      "'임하나' (170.0, 2)\n",
      "'김갑돌' (180.8, 2)\n"
     ]
    }
   ],
   "source": [
    "sumByName = rdd\\\n",
    ".map(lambda ele : (ele[0], ele[2]))\\\n",
    ".combineByKey(lambda value: (value, 1),\n",
    "              lambda x, value: (x[0] + value, x[1] + 1),\n",
    "              nothing)\\\n",
    ".collect()\n",
    "result(sumByName)"
   ]
  },
  {
   "cell_type": "markdown",
   "id": "9a3d739e",
   "metadata": {},
   "source": [
    "## 문제 4"
   ]
  },
  {
   "cell_type": "code",
   "execution_count": 7,
   "id": "5292c203",
   "metadata": {},
   "outputs": [
    {
     "name": "stdout",
     "output_type": "stream",
     "text": [
      "'김하나' 90.0\n",
      "'임하나' 85.0\n",
      "'김갑돌' 90.4\n"
     ]
    }
   ],
   "source": [
    "sumByName = rdd\\\n",
    ".map(lambda ele : (ele[0], ele[2]))\\\n",
    ".combineByKey(lambda value: (value, 1),\n",
    "              lambda x, value: (x[0] + value, x[1] + 1),\n",
    "              nothing)\\\n",
    ".map(lambda ele : (ele[0], ele[1][0] / ele[1][1]))\\\n",
    ".collect()\n",
    "result(sumByName)"
   ]
  },
  {
   "cell_type": "markdown",
   "id": "da93e25b",
   "metadata": {},
   "source": [
    "## 구성 함수 선언"
   ]
  },
  {
   "cell_type": "code",
   "execution_count": 1,
   "id": "3143f7c8",
   "metadata": {},
   "outputs": [],
   "source": [
    "def result(_res):\n",
    "    for _,(name, value) in enumerate(_res):\n",
    "        print(\"'{}' {}\".format(name, value))\n",
    "        \n",
    "def nothing(x, y):\n",
    "    pass"
   ]
  }
 ],
 "metadata": {
  "interpreter": {
   "hash": "ebac036784c2d16c9d50bc630311939c724d93f9fd474f8cb81336a45de03920"
  },
  "kernelspec": {
   "display_name": "Python 3 (ipykernel)",
   "language": "python",
   "name": "python3"
  },
  "language_info": {
   "codemirror_mode": {
    "name": "ipython",
    "version": 3
   },
   "file_extension": ".py",
   "mimetype": "text/x-python",
   "name": "python",
   "nbconvert_exporter": "python",
   "pygments_lexer": "ipython3",
   "version": "3.8.11"
  }
 },
 "nbformat": 4,
 "nbformat_minor": 5
}
