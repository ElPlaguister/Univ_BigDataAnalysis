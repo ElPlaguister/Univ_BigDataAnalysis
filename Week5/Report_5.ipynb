{
 "cells": [
  {
   "cell_type": "markdown",
   "id": "44df86fa",
   "metadata": {},
   "source": [
    "# 환경 세팅 및 기본 RDD 생성"
   ]
  },
  {
   "cell_type": "code",
   "execution_count": 2,
   "id": "43bdfb7e",
   "metadata": {
    "collapsed": true
   },
   "outputs": [
    {
     "name": "stderr",
     "output_type": "stream",
     "text": [
      "21/10/03 23:36:10 WARN Utils: Your hostname, Kritiasui-MacBookAir.local resolves to a loopback address: 127.0.0.1; using 172.30.1.28 instead (on interface en0)\n",
      "21/10/03 23:36:10 WARN Utils: Set SPARK_LOCAL_IP if you need to bind to another address\n",
      "21/10/03 23:36:11 WARN NativeCodeLoader: Unable to load native-hadoop library for your platform... using builtin-java classes where applicable\n",
      "Using Spark's default log4j profile: org/apache/spark/log4j-defaults.properties\n",
      "Setting default log level to \"WARN\".\n",
      "To adjust logging level use sc.setLogLevel(newLevel). For SparkR, use setLogLevel(newLevel).\n",
      "21/10/03 23:36:12 WARN Utils: Service 'SparkUI' could not bind on port 4040. Attempting port 4041.\n",
      "21/10/03 23:36:12 WARN Utils: Service 'SparkUI' could not bind on port 4041. Attempting port 4042.\n"
     ]
    }
   ],
   "source": [
    "import pyspark\n",
    "spark = pyspark.sql.SparkSession.builder.master('local').appName('i').config(conf=pyspark.SparkConf()).getOrCreate()"
   ]
  },
  {
   "cell_type": "code",
   "execution_count": 3,
   "id": "21fc7b2a",
   "metadata": {},
   "outputs": [],
   "source": [
    "origin = [ \n",
    "          ('김하나', 'English', 100.),\n",
    "          ('김하나', 'Math', 80.), \n",
    "          ('임하나', 'English', 70.),\n",
    "          ('임하나', 'Math', 100.),\n",
    "          ('김갑돌', 'English', 82.3),\n",
    "          ('김갑돌', 'Math', 98.5)]\n",
    "rdd = spark.sparkContext.parallelize(origin)"
   ]
  },
  {
   "cell_type": "markdown",
   "id": "ba0fe65b",
   "metadata": {},
   "source": [
    "# 문제"
   ]
  },
  {
   "cell_type": "markdown",
   "id": "4165e226",
   "metadata": {},
   "source": [
    "## 문제 1"
   ]
  },
  {
   "cell_type": "code",
   "execution_count": 8,
   "id": "2e9ea81e",
   "metadata": {
    "scrolled": true
   },
   "outputs": [
    {
     "name": "stdout",
     "output_type": "stream",
     "text": [
      "'김하나' 180.0\n",
      "'임하나' 170.0\n",
      "'김갑돌' 180.8\n"
     ]
    }
   ],
   "source": [
    "sumByName = rdd\\\n",
    ".map(lambda ele : (ele[0], ele[2]))\\\n",
    ".combineByKey(lambda value: value,\n",
    "              lambda x, value: x + value,\n",
    "              nothing)\\\n",
    ".map(lambda ele : (ele[0], ele[1]))\\\n",
    ".collect()\n",
    "result(sumByName)"
   ]
  },
  {
   "cell_type": "markdown",
   "id": "7d3f6b10",
   "metadata": {},
   "source": [
    "## 문제 2"
   ]
  },
  {
   "cell_type": "code",
   "execution_count": 5,
   "id": "cf2695d8",
   "metadata": {},
   "outputs": [
    {
     "name": "stdout",
     "output_type": "stream",
     "text": [
      "'English' 252.3\n",
      "'Math' 278.5\n"
     ]
    }
   ],
   "source": [
    "sumByName = rdd\\\n",
    ".map(lambda ele : (ele[1], ele[2]))\\\n",
    ".combineByKey(lambda value: value,\n",
    "              lambda x, value: x + value,\n",
    "              nothing)\\\n",
    ".map(lambda ele : (ele[0], ele[1]))\\\n",
    ".collect()\n",
    "result(sumByName)"
   ]
  },
  {
   "cell_type": "markdown",
   "id": "028d5673",
   "metadata": {},
   "source": [
    "## 문제 3"
   ]
  },
  {
   "cell_type": "code",
   "execution_count": 6,
   "id": "1ada44dd",
   "metadata": {},
   "outputs": [
    {
     "name": "stdout",
     "output_type": "stream",
     "text": [
      "'김하나' (180.0, 2)\n",
      "'임하나' (170.0, 2)\n",
      "'김갑돌' (180.8, 2)\n"
     ]
    }
   ],
   "source": [
    "sumByName = rdd\\\n",
    ".map(lambda ele : (ele[0], ele[2]))\\\n",
    ".combineByKey(lambda value: (value, 1),\n",
    "              lambda x, value: (x[0] + value, x[1] + 1),\n",
    "              nothing)\\\n",
    ".collect()\n",
    "result(sumByName)"
   ]
  },
  {
   "cell_type": "markdown",
   "id": "532aaf44",
   "metadata": {},
   "source": [
    "## 문제 4"
   ]
  },
  {
   "cell_type": "code",
   "execution_count": 7,
   "id": "da6bdad3",
   "metadata": {},
   "outputs": [
    {
     "name": "stdout",
     "output_type": "stream",
     "text": [
      "'김하나' 90.0\n",
      "'임하나' 85.0\n",
      "'김갑돌' 90.4\n"
     ]
    }
   ],
   "source": [
    "sumByName = rdd\\\n",
    ".map(lambda ele : (ele[0], ele[2]))\\\n",
    ".combineByKey(lambda value: (value, 1),\n",
    "              lambda x, value: (x[0] + value, x[1] + 1),\n",
    "              nothing)\\\n",
    ".map(lambda ele : (ele[0], ele[1][0] / ele[1][1]))\\\n",
    ".collect()\n",
    "result(sumByName)"
   ]
  },
  {
   "cell_type": "markdown",
   "id": "781ffad4",
   "metadata": {},
   "source": [
    "## 구성 함수 선언"
   ]
  },
  {
   "cell_type": "code",
   "execution_count": 1,
   "id": "bf874341",
   "metadata": {},
   "outputs": [],
   "source": [
    "def result(_res):\n",
    "    for _,(name, value) in enumerate(_res):\n",
    "        print(\"'{}' {}\".format(name, value))\n",
    "        \n",
    "def nothing(x, y):\n",
    "    pass"
   ]
  }
 ],
 "metadata": {
  "kernelspec": {
   "display_name": "Python 3 (ipykernel)",
   "language": "python",
   "name": "python3"
  },
  "language_info": {
   "codemirror_mode": {
    "name": "ipython",
    "version": 3
   },
   "file_extension": ".py",
   "mimetype": "text/x-python",
   "name": "python",
   "nbconvert_exporter": "python",
   "pygments_lexer": "ipython3",
   "version": "3.8.11"
  }
 },
 "nbformat": 4,
 "nbformat_minor": 5
}
