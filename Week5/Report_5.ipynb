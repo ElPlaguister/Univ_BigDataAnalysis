{
 "cells": [
  {
   "cell_type": "markdown",
   "source": [
    "# 환경 세팅 및 기본 RDD 생성"
   ],
   "metadata": {}
  },
  {
   "cell_type": "code",
   "execution_count": 1,
   "source": [
    "import pyspark\n",
    "spark = pyspark.sql.SparkSession.builder.master('local').appName('i').config(conf=pyspark.SparkConf()).getOrCreate()"
   ],
   "outputs": [
    {
     "output_type": "stream",
     "name": "stderr",
     "text": [
      "21/10/10 23:48:23 WARN Utils: Your hostname, Kritiasui-MacBookAir.local resolves to a loopback address: 127.0.0.1; using 172.30.1.24 instead (on interface en0)\n",
      "21/10/10 23:48:23 WARN Utils: Set SPARK_LOCAL_IP if you need to bind to another address\n",
      "21/10/10 23:48:23 WARN NativeCodeLoader: Unable to load native-hadoop library for your platform... using builtin-java classes where applicable\n",
      "Using Spark's default log4j profile: org/apache/spark/log4j-defaults.properties\n",
      "Setting default log level to \"WARN\".\n",
      "To adjust logging level use sc.setLogLevel(newLevel). For SparkR, use setLogLevel(newLevel).\n"
     ]
    }
   ],
   "metadata": {
    "collapsed": true
   }
  },
  {
   "cell_type": "code",
   "execution_count": 3,
   "source": [
    "origin = [ \n",
    "          ('김하나', 'English', 100.),\n",
    "          ('김하나', 'Math', 80.), \n",
    "          ('임하나', 'English', 70.),\n",
    "          ('임하나', 'Math', 100.),\n",
    "          ('김갑돌', 'English', 82.3),\n",
    "          ('김갑돌', 'Math', 98.5)]\n",
    "rdd = spark.sparkContext.parallelize(origin)"
   ],
   "outputs": [],
   "metadata": {}
  },
  {
   "cell_type": "markdown",
   "source": [
    "# 문제"
   ],
   "metadata": {}
  },
  {
   "cell_type": "markdown",
   "source": [
    "## 문제 1"
   ],
   "metadata": {}
  },
  {
   "cell_type": "code",
   "execution_count": 8,
   "source": [
    "sumByName = rdd\\\n",
    ".map(lambda ele : (ele[0], ele[2]))\\\n",
    ".combineByKey(lambda value: value,\n",
    "              lambda x, value: x + value,\n",
    "              nothing)\\\n",
    ".map(lambda ele : (ele[0], ele[1]))\\\n",
    ".collect()\n",
    "result(sumByName)"
   ],
   "outputs": [
    {
     "output_type": "stream",
     "name": "stdout",
     "text": [
      "'김하나' 180.0\n",
      "'임하나' 170.0\n",
      "'김갑돌' 180.8\n"
     ]
    }
   ],
   "metadata": {
    "scrolled": true
   }
  },
  {
   "cell_type": "markdown",
   "source": [
    "## 문제 2"
   ],
   "metadata": {}
  },
  {
   "cell_type": "code",
   "execution_count": 5,
   "source": [
    "sumByName = rdd\\\n",
    ".map(lambda ele : (ele[1], ele[2]))\\\n",
    ".combineByKey(lambda value: value,\n",
    "              lambda x, value: x + value,\n",
    "              nothing)\\\n",
    ".map(lambda ele : (ele[0], ele[1]))\\\n",
    ".collect()\n",
    "result(sumByName)"
   ],
   "outputs": [
    {
     "output_type": "stream",
     "name": "stdout",
     "text": [
      "'English' 252.3\n",
      "'Math' 278.5\n"
     ]
    }
   ],
   "metadata": {}
  },
  {
   "cell_type": "markdown",
   "source": [
    "## 문제 3"
   ],
   "metadata": {}
  },
  {
   "cell_type": "code",
   "execution_count": 6,
   "source": [
    "sumByName = rdd\\\n",
    ".map(lambda ele : (ele[0], ele[2]))\\\n",
    ".combineByKey(lambda value: (value, 1),\n",
    "              lambda x, value: (x[0] + value, x[1] + 1),\n",
    "              nothing)\\\n",
    ".collect()\n",
    "result(sumByName)"
   ],
   "outputs": [
    {
     "output_type": "stream",
     "name": "stdout",
     "text": [
      "'김하나' (180.0, 2)\n",
      "'임하나' (170.0, 2)\n",
      "'김갑돌' (180.8, 2)\n"
     ]
    }
   ],
   "metadata": {}
  },
  {
   "cell_type": "markdown",
   "source": [
    "## 문제 4"
   ],
   "metadata": {}
  },
  {
   "cell_type": "code",
   "execution_count": 7,
   "source": [
    "sumByName = rdd\\\n",
    ".map(lambda ele : (ele[0], ele[2]))\\\n",
    ".combineByKey(lambda value: (value, 1),\n",
    "              lambda x, value: (x[0] + value, x[1] + 1),\n",
    "              nothing)\\\n",
    ".map(lambda ele : (ele[0], ele[1][0] / ele[1][1]))\\\n",
    ".collect()\n",
    "result(sumByName)"
   ],
   "outputs": [
    {
     "output_type": "stream",
     "name": "stdout",
     "text": [
      "'김하나' 90.0\n",
      "'임하나' 85.0\n",
      "'김갑돌' 90.4\n"
     ]
    }
   ],
   "metadata": {}
  },
  {
   "cell_type": "markdown",
   "source": [
    "## 구성 함수 선언"
   ],
   "metadata": {}
  },
  {
   "cell_type": "code",
   "execution_count": 1,
   "source": [
    "def result(_res):\n",
    "    for _,(name, value) in enumerate(_res):\n",
    "        print(\"'{}' {}\".format(name, value))\n",
    "        \n",
    "def nothing(x, y):\n",
    "    pass"
   ],
   "outputs": [],
   "metadata": {}
  }
 ],
 "metadata": {
  "kernelspec": {
   "name": "python3",
   "display_name": "Python 3.8.11 64-bit ('Analysis': conda)"
  },
  "language_info": {
   "codemirror_mode": {
    "name": "ipython",
    "version": 3
   },
   "file_extension": ".py",
   "mimetype": "text/x-python",
   "name": "python",
   "nbconvert_exporter": "python",
   "pygments_lexer": "ipython3",
   "version": "3.8.11"
  },
  "interpreter": {
   "hash": "ebac036784c2d16c9d50bc630311939c724d93f9fd474f8cb81336a45de03920"
  }
 },
 "nbformat": 4,
 "nbformat_minor": 5
}