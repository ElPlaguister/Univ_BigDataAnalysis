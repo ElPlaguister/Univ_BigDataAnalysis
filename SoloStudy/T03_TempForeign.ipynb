{
 "cells": [
  {
   "cell_type": "markdown",
   "metadata": {},
   "source": [
    "# 행정동별 서울생활인구 (단기체류 외국인)"
   ]
  },
  {
   "cell_type": "markdown",
   "metadata": {},
   "source": [
    "## 1. 데이터 불러오기"
   ]
  },
  {
   "cell_type": "code",
   "execution_count": 5,
   "metadata": {},
   "outputs": [],
   "source": [
    "import os\n",
    "from src import mylib\n",
    "key = mylib.getKey()"
   ]
  },
  {
   "cell_type": "code",
   "execution_count": 3,
   "metadata": {},
   "outputs": [
    {
     "name": "stdout",
     "output_type": "stream",
     "text": [
      "/xml/SPOP_FORN_TEMP_RESD_DONG/1/5/20200617\n"
     ]
    }
   ],
   "source": [
    "KEY = str(key)\n",
    "TYPE = 'xml'\n",
    "SERVICE = 'SPOP_FORN_TEMP_RESD_DONG'\n",
    "START_INDEX = str(1)\n",
    "END_INDEX = str(5)\n",
    "STDR_DE_ID = str(20200617)\n",
    "\n",
    "params = '/'.join([KEY, TYPE, SERVICE, START_INDEX, END_INDEX, STDR_DE_ID])\n",
    "print(params[30:])"
   ]
  },
  {
   "cell_type": "code",
   "execution_count": 6,
   "metadata": {},
   "outputs": [
    {
     "data": {
      "text/plain": [
       "'http://openapi.seoul.go.kr:8088/65714f71456b726938364851437a44/xml/SPOP_FORN_TEMP_RESD_DONG/1/5/20200617'"
      ]
     },
     "execution_count": 6,
     "metadata": {},
     "output_type": "execute_result"
    }
   ],
   "source": [
    "endpoint = 'http://openapi.seoul.go.kr:8088'\n",
    "url = '/'.join([endpoint, params])\n",
    "url"
   ]
  },
  {
   "cell_type": "code",
   "execution_count": 10,
   "metadata": {},
   "outputs": [
    {
     "name": "stdout",
     "output_type": "stream",
     "text": [
      "<?xml version=\"1.0\" encoding=\"UTF-8\"?>\n",
      "<SPOP_FORN_TEMP_RESD_DONG>\n",
      "<list_total_count>9849</list_total_count>\n",
      "<RESULT>\n",
      "<CODE>INFO-000</CODE>\n",
      "<MESSAGE>정상 처리되었습니다</MESSAGE>\n",
      "</RESULT>\n",
      "<row>\n",
      "<STDR_DE_ID>20200617</STDR_DE_ID>\n",
      "<TMZON_PD_SE>00</TMZON_PD_SE>\n",
      "<ADSTRD_CODE_SE>11110515</ADSTRD_CODE_SE>\n",
      "<TOT_LVPOP_CO>248.866</TOT_LVPOP_CO>\n",
      "<CHINA_STAYPOP_CO>86.4335</CHINA_STAYPOP_CO>\n",
      "<ETC_STAYPOP_CO>162.432</ETC_STAYPOP_CO>\n",
      "</row>\n",
      "<row>\n",
      "<STDR_DE_ID>20200617</STDR_DE_ID>\n",
      "<TMZON_PD_SE>00</TMZON_PD_SE>\n",
      "<ADSTRD_CODE_SE>11110530</ADSTRD_CODE_SE>\n",
      "<TOT_LVPOP_CO>71.2628</TOT_LVPOP_CO>\n",
      "<CHINA_STAYPOP_CO>0</CHINA_STAYPOP_CO>\n",
      "<ETC_STAYPOP_CO>71.2627</ETC_STAYPOP_CO>\n",
      "</row>\n",
      "<row>\n",
      "<STDR_DE_ID>20200617</STDR_DE_ID>\n",
      "<TMZON_PD_SE>00</TMZON_PD_SE>\n",
      "<ADSTRD_CODE_SE>11110540</ADSTRD_CODE_SE>\n",
      "<TOT_LVPOP_CO>150.1777</TOT_LVPOP_CO>\n",
      "<CHINA_STAYPOP_CO>86.2246</CHINA_STAYPOP_CO>\n",
      "<ETC_STAYPOP_CO>63.9532</ETC_STAYPOP_CO>\n",
      "</row>\n",
      "<row>\n",
      "<STDR_DE_ID>20200617</STDR_DE_ID>\n",
      "<TMZON_PD_SE>00</TMZON_PD_SE>\n",
      "<ADSTRD_CODE_SE>11110550</ADSTRD_CODE_SE>\n",
      "<TOT_LVPOP_CO>136.7137</TOT_LVPOP_CO>\n",
      "<CHINA_STAYPOP_CO>79.3833</CHINA_STAYPOP_CO>\n",
      "<ETC_STAYPOP_CO>57.3305</ETC_STAYPOP_CO>\n",
      "</row>\n",
      "<row>\n",
      "<STDR_DE_ID>20200617</STDR_DE_ID>\n",
      "<TMZON_PD_SE>00</TMZON_PD_SE>\n",
      "<ADSTRD_CODE_SE>11110560</ADSTRD_CODE_SE>\n",
      "<TOT_LVPOP_CO>174.824</TOT_LVPOP_CO>\n",
      "<CHINA_STAYPOP_CO>0</CHINA_STAYPOP_CO>\n",
      "<ETC_STAYPOP_CO>174.8241</ETC_STAYPOP_CO>\n",
      "</row>\n",
      "</SPOP_FORN_TEMP_RESD_DONG>\n",
      "\n"
     ]
    }
   ],
   "source": [
    "import requests\n",
    "data = requests.get(url).text\n",
    "print(data)"
   ]
  },
  {
   "cell_type": "code",
   "execution_count": 11,
   "metadata": {},
   "outputs": [],
   "source": [
    "import lxml\n",
    "import lxml.etree\n",
    "\n",
    "tree = lxml.etree.fromstring(data.encode('utf-8'))"
   ]
  },
  {
   "cell_type": "code",
   "execution_count": 12,
   "metadata": {},
   "outputs": [
    {
     "name": "stdout",
     "output_type": "stream",
     "text": [
      "248.866\n",
      "71.2628\n",
      "150.1777\n",
      "136.7137\n",
      "174.824\n"
     ]
    }
   ],
   "source": [
    "\n",
    "nodes = tree.xpath('//TOT_LVPOP_CO')\n",
    "for node in nodes:\n",
    "    print(node.text)"
   ]
  }
 ],
 "metadata": {
  "interpreter": {
   "hash": "0fe295ad4522a8f3a1c00f73e8c1fc4bffda693b9f244974c35f867e6985c135"
  },
  "kernelspec": {
   "display_name": "Python 3.8.11 64-bit ('Analysis': conda)",
   "language": "python",
   "name": "python3"
  },
  "language_info": {
   "codemirror_mode": {
    "name": "ipython",
    "version": 3
   },
   "file_extension": ".py",
   "mimetype": "text/x-python",
   "name": "python",
   "nbconvert_exporter": "python",
   "pygments_lexer": "ipython3",
   "version": "3.8.11"
  },
  "orig_nbformat": 4
 },
 "nbformat": 4,
 "nbformat_minor": 2
}
