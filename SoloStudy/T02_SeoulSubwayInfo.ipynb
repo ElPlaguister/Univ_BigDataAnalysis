{
 "cells": [
  {
   "cell_type": "markdown",
   "metadata": {},
   "source": [
    "# 서울시 지하철역 정보 수집"
   ]
  },
  {
   "cell_type": "code",
   "execution_count": 1,
   "metadata": {},
   "outputs": [],
   "source": [
    "from src import mylib\n",
    "import os\n",
    "\n",
    "key = mylib.getKey(keyId='dataseoul')"
   ]
  },
  {
   "cell_type": "code",
   "execution_count": 2,
   "metadata": {},
   "outputs": [
    {
     "data": {
      "text/plain": [
       "'/json/SearchSTNMySubwayLineInfo/1/10///2'"
      ]
     },
     "execution_count": 2,
     "metadata": {},
     "output_type": "execute_result"
    }
   ],
   "source": [
    "KEY = str(key)\n",
    "TYPE = 'json'\n",
    "SERVICE = 'SearchSTNMySubwayLineInfo'\n",
    "START_INDEX = str(1)\n",
    "END_INDEX = str(10)\n",
    "LINE_NUM = str(2)\n",
    "\n",
    "params = '/'.join([KEY, TYPE, SERVICE, START_INDEX, END_INDEX, '', '', LINE_NUM])\n",
    "params[30:]"
   ]
  },
  {
   "cell_type": "code",
   "execution_count": 5,
   "metadata": {},
   "outputs": [
    {
     "data": {
      "text/plain": [
       "'http://openapi.seoul.go.kr:8088/65714f71456b726938364851437a44/json/SearchSTNMySubwayLineInfo/1/10///2'"
      ]
     },
     "execution_count": 5,
     "metadata": {},
     "output_type": "execute_result"
    }
   ],
   "source": [
    "end_point = 'http://openapi.seoul.go.kr:8088'\n",
    "url = '/'.join([end_point, params])\n",
    "url"
   ]
  },
  {
   "cell_type": "code",
   "execution_count": 6,
   "metadata": {},
   "outputs": [
    {
     "data": {
      "text/plain": [
       "{'RESULT': {'CODE': 'ERROR-500',\n",
       "  'MESSAGE': '서버 오류입니다.\\n지속적으로 발생시 열린 데이터 광장으로 문의(Q&A) 바랍니다.'}}"
      ]
     },
     "execution_count": 6,
     "metadata": {},
     "output_type": "execute_result"
    }
   ],
   "source": [
    "import requests\n",
    "r = requests.get(url)\n",
    "data = r.json()\n",
    "data"
   ]
  },
  {
   "cell_type": "code",
   "execution_count": null,
   "metadata": {},
   "outputs": [],
   "source": [
    "rowData = data['SearchSTNBySubwayLineInfo']['row']\n",
    "for e in rowData:\n",
    "    print(\"{0:4s}\\t{1:15s}\\t{2:3s}\\t{3:2s}\".format(e['STATION_CD'], e['STATION_NM'], e['FR_CODE'], e['LINE_NUM']))\n"
   ]
  }
 ],
 "metadata": {
  "interpreter": {
   "hash": "0fe295ad4522a8f3a1c00f73e8c1fc4bffda693b9f244974c35f867e6985c135"
  },
  "kernelspec": {
   "display_name": "Python 3.8.11 64-bit ('Analysis': conda)",
   "language": "python",
   "name": "python3"
  },
  "language_info": {
   "codemirror_mode": {
    "name": "ipython",
    "version": 3
   },
   "file_extension": ".py",
   "mimetype": "text/x-python",
   "name": "python",
   "nbconvert_exporter": "python",
   "pygments_lexer": "ipython3",
   "version": "3.8.11"
  },
  "orig_nbformat": 4
 },
 "nbformat": 4,
 "nbformat_minor": 2
}
