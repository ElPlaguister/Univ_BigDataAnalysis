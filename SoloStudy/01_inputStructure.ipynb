{
 "cells": [
  {
   "cell_type": "markdown",
   "metadata": {},
   "source": [
    "# Requests"
   ]
  },
  {
   "cell_type": "code",
   "execution_count": 2,
   "metadata": {},
   "outputs": [],
   "source": [
    "import requests"
   ]
  },
  {
   "cell_type": "markdown",
   "metadata": {},
   "source": [
    "requests로 url이 어떤 HTTP method를 지원하는지 알려준다."
   ]
  },
  {
   "cell_type": "code",
   "execution_count": 11,
   "metadata": {},
   "outputs": [
    {
     "data": {
      "text/plain": [
       "requests.models.Response"
      ]
     },
     "execution_count": 11,
     "metadata": {},
     "output_type": "execute_result"
    }
   ],
   "source": [
    "req_opt = requests.options('http://httpbin.org/')\n",
    "type(req_opt)"
   ]
  },
  {
   "cell_type": "code",
   "execution_count": 10,
   "metadata": {},
   "outputs": [
    {
     "data": {
      "text/plain": [
       "'GET, HEAD, OPTIONS'"
      ]
     },
     "execution_count": 10,
     "metadata": {},
     "output_type": "execute_result"
    }
   ],
   "source": [
    "req_opt.headers['allow']"
   ]
  },
  {
   "cell_type": "code",
   "execution_count": 14,
   "metadata": {},
   "outputs": [
    {
     "data": {
      "text/plain": [
       "(200, int)"
      ]
     },
     "execution_count": 14,
     "metadata": {},
     "output_type": "execute_result"
    }
   ],
   "source": [
    "# 200: 성공, 300: 리디렉션, 400: 클라측 오류, 500: 서버측 오류\n",
    "req_opt.status_code, type(req_opt.status_code)"
   ]
  },
  {
   "cell_type": "code",
   "execution_count": 19,
   "metadata": {},
   "outputs": [
    {
     "data": {
      "text/plain": [
       "{'args': {'myname': '\"seung min\"'},\n",
       " 'headers': {'Accept': '*/*',\n",
       "  'Accept-Encoding': 'gzip, deflate, br',\n",
       "  'Host': 'httpbin.org',\n",
       "  'User-Agent': 'python-requests/2.26.0',\n",
       "  'X-Amzn-Trace-Id': 'Root=1-61990aec-088ba4f1718c506504246378'},\n",
       " 'origin': '210.179.33.205',\n",
       " 'url': 'http://httpbin.org/get?myname=\"seung min\"'}"
      ]
     },
     "execution_count": 19,
     "metadata": {},
     "output_type": "execute_result"
    }
   ],
   "source": [
    "req = requests.get('http://httpbin.org/get?myname=\"seung min\"')\n",
    "req.json()"
   ]
  },
  {
   "cell_type": "markdown",
   "metadata": {},
   "source": [
    "# XML"
   ]
  },
  {
   "cell_type": "code",
   "execution_count": 23,
   "metadata": {},
   "outputs": [],
   "source": [
    "input = '''\n",
    "<students>\n",
    "    <student x=\"1\">\n",
    "        <id>001</id>\n",
    "        <name>Kim</name>\n",
    "    </student>\n",
    "    <student x=\"2\">\n",
    "        <id>002</id>\n",
    "        <name>Lee</name>\n",
    "    </student>\n",
    "</students>\n",
    "'''"
   ]
  },
  {
   "cell_type": "code",
   "execution_count": 24,
   "metadata": {},
   "outputs": [],
   "source": [
    "import lxml.etree"
   ]
  },
  {
   "cell_type": "markdown",
   "metadata": {},
   "source": [
    "문자열에서 읽는 경우"
   ]
  },
  {
   "cell_type": "code",
   "execution_count": 32,
   "metadata": {},
   "outputs": [],
   "source": [
    "import os\n",
    "from io import StringIO\n",
    "# 문자열에서 읽는 경우\n",
    "root_str = lxml.etree.fromstring(input)\n",
    "# 파일에서 읽는 경우\n",
    "tree_file = lxml.etree.parse(os.path.join('data', 'student.xml'))\n",
    "# 문자열을 파일처럼 읽는 경우\n",
    "tree_str = lxml.etree.parse(StringIO(input))"
   ]
  },
  {
   "cell_type": "markdown",
   "metadata": {},
   "source": [
    "fromstring은 root element를 반환하고, parse는 tree를 반환한다."
   ]
  },
  {
   "cell_type": "code",
   "execution_count": 33,
   "metadata": {},
   "outputs": [
    {
     "data": {
      "text/plain": [
       "(lxml.etree._Element, lxml.etree._ElementTree, lxml.etree._ElementTree)"
      ]
     },
     "execution_count": 33,
     "metadata": {},
     "output_type": "execute_result"
    }
   ],
   "source": [
    "type(root_str), type(tree_file), type(tree_str)"
   ]
  },
  {
   "cell_type": "code",
   "execution_count": 34,
   "metadata": {},
   "outputs": [],
   "source": [
    "root_file = tree_file.getroot()"
   ]
  },
  {
   "cell_type": "code",
   "execution_count": 39,
   "metadata": {},
   "outputs": [
    {
     "name": "stdout",
     "output_type": "stream",
     "text": [
      "root.tag = students (<class 'str'>)\n"
     ]
    }
   ],
   "source": [
    "print('root.tag = {} ({})'.format(root_str.tag, type(root_str.tag)))"
   ]
  },
  {
   "cell_type": "code",
   "execution_count": 40,
   "metadata": {},
   "outputs": [
    {
     "name": "stdout",
     "output_type": "stream",
     "text": [
      "root.attrib = {} (<class 'lxml.etree._Attrib'>)\n"
     ]
    }
   ],
   "source": [
    "print('root.attrib = {} ({})'.format(root_str.attrib, type(root_str.attrib)))"
   ]
  },
  {
   "cell_type": "code",
   "execution_count": 41,
   "metadata": {},
   "outputs": [
    {
     "name": "stdout",
     "output_type": "stream",
     "text": [
      "student\n",
      "student\n"
     ]
    }
   ],
   "source": [
    "for e in root_str:\n",
    "    print(e.tag)"
   ]
  },
  {
   "cell_type": "code",
   "execution_count": 43,
   "metadata": {},
   "outputs": [
    {
     "data": {
      "text/plain": [
       "([<Element student at 0x7fd61880cec0>, <Element student at 0x7fd618845640>],\n",
       " {'x': '1'})"
      ]
     },
     "execution_count": 43,
     "metadata": {},
     "output_type": "execute_result"
    }
   ],
   "source": [
    "root_str.getchildren(), root_str.getchildren()[0].attrib"
   ]
  },
  {
   "cell_type": "code",
   "execution_count": 50,
   "metadata": {},
   "outputs": [
    {
     "name": "stdout",
     "output_type": "stream",
     "text": [
      "students {} \n",
      "    \n",
      "student {'x': '1'} \n",
      "        \n",
      "id {} 001\n",
      "name {} Kim\n",
      "student {'x': '2'} \n",
      "        \n",
      "id {} 002\n",
      "name {} Lee\n"
     ]
    }
   ],
   "source": [
    "for node in root_str.getiterator():\n",
    "    print(node.tag, node.attrib, node.text)"
   ]
  },
  {
   "cell_type": "markdown",
   "metadata": {},
   "source": [
    "## 검색 ##"
   ]
  },
  {
   "cell_type": "code",
   "execution_count": 51,
   "metadata": {},
   "outputs": [],
   "source": [
    "root = root_str"
   ]
  },
  {
   "cell_type": "markdown",
   "metadata": {},
   "source": [
    "find : 가장 앞에 위치하는 element 만 가져온다."
   ]
  },
  {
   "cell_type": "code",
   "execution_count": 56,
   "metadata": {},
   "outputs": [
    {
     "name": "stdout",
     "output_type": "stream",
     "text": [
      "<class 'lxml.etree._Element'>\n",
      "001\n",
      "Kim\n"
     ]
    }
   ],
   "source": [
    "std = root.find('student')\n",
    "print(type(std))\n",
    "for node in std:\n",
    "    print(node.text)"
   ]
  },
  {
   "cell_type": "markdown",
   "metadata": {},
   "source": [
    "findall : 조건에 일치하는 모든 노드를 가져온다."
   ]
  },
  {
   "cell_type": "code",
   "execution_count": 59,
   "metadata": {},
   "outputs": [
    {
     "name": "stdout",
     "output_type": "stream",
     "text": [
      "<class 'list'> [<Element student at 0x7fd61880cec0>, <Element student at 0x7fd618845640>]\n",
      "001\n",
      "Kim\n",
      "002\n",
      "Lee\n"
     ]
    }
   ],
   "source": [
    "stds = root.findall('student')\n",
    "print(type(stds), stds)\n",
    "for node in stds:\n",
    "    for item in node:\n",
    "        print(item.text)"
   ]
  },
  {
   "cell_type": "markdown",
   "metadata": {},
   "source": [
    "## XPath ##\n",
    "- /: 루트 바로 아래만 검색\n",
    "- //: 어디에 있던 모두 검색\n",
    "- @: 속성을 검색"
   ]
  },
  {
   "cell_type": "code",
   "execution_count": 60,
   "metadata": {},
   "outputs": [
    {
     "data": {
      "text/plain": [
       "['1', '2']"
      ]
     },
     "execution_count": 60,
     "metadata": {},
     "output_type": "execute_result"
    }
   ],
   "source": [
    "root.xpath('//@x')"
   ]
  },
  {
   "cell_type": "code",
   "execution_count": 66,
   "metadata": {},
   "outputs": [
    {
     "data": {
      "text/plain": [
       "['001']"
      ]
     },
     "execution_count": 66,
     "metadata": {},
     "output_type": "execute_result"
    }
   ],
   "source": [
    "# text 뒤에 괄호는 왜 붙는가?\n",
    "root.xpath('//*[@x=\"1\"]/id/text()')"
   ]
  },
  {
   "cell_type": "markdown",
   "metadata": {},
   "source": [
    "## CSSSelect\n",
    "css를 통해 검색할 수 있게 해준다.  \n",
    "'.'으로 클래스, '#'으로 아이디 검색을 하게 해준다."
   ]
  },
  {
   "cell_type": "code",
   "execution_count": 68,
   "metadata": {},
   "outputs": [
    {
     "name": "stdout",
     "output_type": "stream",
     "text": [
      "<class 'lxml.cssselect.CSSSelector'> student descendant-or-self::student\n"
     ]
    }
   ],
   "source": [
    "from lxml.cssselect import CSSSelector\n",
    "sel = CSSSelector('student')\n",
    "print(type(sel), sel.css, sel.path)"
   ]
  },
  {
   "cell_type": "code",
   "execution_count": 83,
   "metadata": {},
   "outputs": [
    {
     "name": "stdout",
     "output_type": "stream",
     "text": [
      "type: <class 'list'>\n",
      "length: 2\n",
      "elements: [<Element student at 0x7fd61880cec0>, <Element student at 0x7fd618845640>]\n",
      "x: 1\n",
      "x: 2\n"
     ]
    }
   ],
   "source": [
    "# student태그를 모두 검색해서 x출력하기\n",
    "sel = CSSSelector('student')\n",
    "nodes = sel(root)\n",
    "print('type: {}\\nlength: {}\\nelements: {}'.format(type(nodes), len(nodes), nodes))\n",
    "for e in nodes:\n",
    "    print('x:',e.get('x'))"
   ]
  },
  {
   "cell_type": "code",
   "execution_count": 82,
   "metadata": {},
   "outputs": [
    {
     "name": "stdout",
     "output_type": "stream",
     "text": [
      "id: 001\n",
      "id: 002\n"
     ]
    }
   ],
   "source": [
    "sel = CSSSelector('id')\n",
    "nodes = sel(root)\n",
    "for e in nodes:\n",
    "    print('id:', e.text)"
   ]
  },
  {
   "cell_type": "markdown",
   "metadata": {},
   "source": [
    "# JSON"
   ]
  },
  {
   "cell_type": "code",
   "execution_count": 84,
   "metadata": {},
   "outputs": [],
   "source": [
    "input = '''[\n",
    "    {\"id\" : \"001\", \"x\" : \"2\", \"name\" : \"Chuck\"},\n",
    "    {\"id\" : \"002\", \"x\" : \"7\", \"name\" : \"Brent\"}\n",
    "]'''"
   ]
  },
  {
   "cell_type": "code",
   "execution_count": 87,
   "metadata": {},
   "outputs": [
    {
     "name": "stdout",
     "output_type": "stream",
     "text": [
      "len: 2 {'id': '001', 'x': '2', 'name': 'Chuck'}\n"
     ]
    }
   ],
   "source": [
    "import json\n",
    "info = json.loads(input)\n",
    "print('len:', len(info), info[0])"
   ]
  },
  {
   "cell_type": "markdown",
   "metadata": {},
   "source": [
    "### json.dumps\n",
    "> 주어진 리스트, 딕셔너리를 json형식의 문자열로 변환해준다.\n",
    "- 튜플을 리스트로, None을 null로 바꿔준다.\n",
    "- 기본적 문법은 javascript로 되어있다."
   ]
  },
  {
   "cell_type": "code",
   "execution_count": 88,
   "metadata": {},
   "outputs": [
    {
     "data": {
      "text/plain": [
       "(str, '[\"foo\", {\"bar\": [\"baz\", null, 1.0, 2]}]')"
      ]
     },
     "execution_count": 88,
     "metadata": {},
     "output_type": "execute_result"
    }
   ],
   "source": [
    "dumped = json.dumps(\n",
    "    ['foo', {'bar': ('baz', None, 1.0, 2)}]\n",
    ")\n",
    "type(dumped), dumped"
   ]
  }
 ],
 "metadata": {
  "interpreter": {
   "hash": "0fe295ad4522a8f3a1c00f73e8c1fc4bffda693b9f244974c35f867e6985c135"
  },
  "kernelspec": {
   "display_name": "Python 3.8.11 64-bit ('Analysis': conda)",
   "language": "python",
   "name": "python3"
  },
  "language_info": {
   "codemirror_mode": {
    "name": "ipython",
    "version": 3
   },
   "file_extension": ".py",
   "mimetype": "text/x-python",
   "name": "python",
   "nbconvert_exporter": "python",
   "pygments_lexer": "ipython3",
   "version": "3.8.11"
  },
  "orig_nbformat": 4
 },
 "nbformat": 4,
 "nbformat_minor": 2
}
