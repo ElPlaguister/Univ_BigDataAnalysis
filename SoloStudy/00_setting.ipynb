{
 "cells": [
  {
   "cell_type": "code",
   "execution_count": 3,
   "metadata": {},
   "outputs": [
    {
     "name": "stdout",
     "output_type": "stream",
     "text": [
      "Overwriting src/mylib.py\n"
     ]
    }
   ],
   "source": [
    "%%writefile src/mylib.py\n",
    "def getDict(keyPath):\n",
    "    d = dict()\n",
    "    f = open(keyPath, 'r')\n",
    "    for line in f.readlines():\n",
    "        row = line.split('=')\n",
    "        key = row[0]\n",
    "        d[key] = row[1].strip()\n",
    "    return d\n",
    "\n",
    "def getKey(keyPath = 'src/key.properties', keyId = 'dataseoul'):\n",
    "    keyDict = getDict(keyPath)\n",
    "    return keyDict[keyId]"
   ]
  }
 ],
 "metadata": {
  "interpreter": {
   "hash": "0fe295ad4522a8f3a1c00f73e8c1fc4bffda693b9f244974c35f867e6985c135"
  },
  "kernelspec": {
   "display_name": "Python 3.8.11 64-bit ('Analysis': conda)",
   "language": "python",
   "name": "python3"
  },
  "language_info": {
   "codemirror_mode": {
    "name": "ipython",
    "version": 3
   },
   "file_extension": ".py",
   "mimetype": "text/x-python",
   "name": "python",
   "nbconvert_exporter": "python",
   "pygments_lexer": "ipython3",
   "version": "3.8.11"
  },
  "orig_nbformat": 4
 },
 "nbformat": 4,
 "nbformat_minor": 2
}
