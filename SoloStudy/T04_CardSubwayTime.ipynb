{
 "cells": [
  {
   "cell_type": "markdown",
   "metadata": {},
   "source": [
    "# 서울시 지하철 호선별 역별 시간대별 승하차 인원 정보"
   ]
  },
  {
   "cell_type": "code",
   "execution_count": 1,
   "metadata": {},
   "outputs": [],
   "source": [
    "from src import mylib\n",
    "key = mylib.getKey()"
   ]
  },
  {
   "cell_type": "code",
   "execution_count": 17,
   "metadata": {},
   "outputs": [],
   "source": [
    "endpoint = 'http://openAPI.seoul.go.kr:8088'\n",
    "KEY = str(key)\n",
    "TYPE = 'json'\n",
    "SERVICE = 'CardSubwayTime'\n",
    "start_index = 1\n",
    "end_index = 20\n",
    "USE_MON = '202106'"
   ]
  },
  {
   "cell_type": "code",
   "execution_count": 18,
   "metadata": {},
   "outputs": [],
   "source": [
    "import requests\n",
    "from math import ceil\n",
    "_maxIter = 1\n",
    "_iter = 0\n",
    "INF = 1e10\n",
    "\n",
    "data_len = INF\n",
    "block_size = 20\n",
    "myTable = []\n",
    "\n",
    "while _iter < _maxIter:\n",
    "    url = '/'.join([endpoint, KEY, TYPE, SERVICE, str(start_index), str(end_index), USE_MON])\n",
    "    response = requests.get(url)\n",
    "    # response.json()과 json.loads(response.text)는 같은 결과를 가져온다.\n",
    "    whole_data = response.json()\n",
    "    # 최초 로드 시\n",
    "    if _iter == 0:\n",
    "        data_len = int(whole_data['CardSubwayTime']['list_total_count'])\n",
    "        _maxIter = ceil(data_len / block_size)\n",
    "    data = whole_data['CardSubwayTime']['row']\n",
    "    myTable.extend(data)\n",
    "    start_index += block_size\n",
    "    end_index += block_size\n",
    "    _iter += 1\n",
    "    if _iter == _maxIter - 1:\n",
    "        end_index = data_len"
   ]
  },
  {
   "cell_type": "code",
   "execution_count": 19,
   "metadata": {},
   "outputs": [
    {
     "data": {
      "text/plain": [
       "608"
      ]
     },
     "execution_count": 19,
     "metadata": {},
     "output_type": "execute_result"
    }
   ],
   "source": [
    "len(myTable)"
   ]
  },
  {
   "cell_type": "code",
   "execution_count": 21,
   "metadata": {},
   "outputs": [],
   "source": [
    "import pymongo"
   ]
  },
  {
   "cell_type": "code",
   "execution_count": 33,
   "metadata": {},
   "outputs": [
    {
     "data": {
      "text/plain": [
       "<pymongo.results.InsertManyResult at 0x7f7ff824f240>"
      ]
     },
     "execution_count": 33,
     "metadata": {},
     "output_type": "execute_result"
    }
   ],
   "source": [
    "# 이거 여러번 시행하면 안됨\n",
    "Client = pymongo.MongoClient()\n",
    "db = Client.CardSubwayTimeDB\n",
    "db.T202106.insert_many(myTable)"
   ]
  },
  {
   "cell_type": "code",
   "execution_count": 34,
   "metadata": {},
   "outputs": [
    {
     "data": {
      "text/plain": [
       "['T202106']"
      ]
     },
     "execution_count": 34,
     "metadata": {},
     "output_type": "execute_result"
    }
   ],
   "source": [
    "db.list_collection_names()"
   ]
  }
 ],
 "metadata": {
  "interpreter": {
   "hash": "0fe295ad4522a8f3a1c00f73e8c1fc4bffda693b9f244974c35f867e6985c135"
  },
  "kernelspec": {
   "display_name": "Python 3.8.11 64-bit ('Analysis': conda)",
   "language": "python",
   "name": "python3"
  },
  "language_info": {
   "codemirror_mode": {
    "name": "ipython",
    "version": 3
   },
   "file_extension": ".py",
   "mimetype": "text/x-python",
   "name": "python",
   "nbconvert_exporter": "python",
   "pygments_lexer": "ipython3",
   "version": "3.8.11"
  },
  "orig_nbformat": 4
 },
 "nbformat": 4,
 "nbformat_minor": 2
}
