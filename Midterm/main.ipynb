{
 "cells": [
  {
   "cell_type": "markdown",
   "metadata": {},
   "source": [
    "201911181 이승민"
   ]
  },
  {
   "cell_type": "markdown",
   "metadata": {},
   "source": [
    "## 임포트 및 세팅"
   ]
  },
  {
   "cell_type": "code",
   "execution_count": 1,
   "metadata": {},
   "outputs": [],
   "source": [
    "import pyspark\n",
    "import os\n",
    "import json\n",
    "import requests\n",
    "import pandas as pd\n",
    "import numpy as np\n",
    "from pyspark.sql import Row\n",
    "from pyspark.sql.functions import udf\n",
    "from pyspark.sql import functions as F\n",
    "from pyspark.sql.types import *"
   ]
  },
  {
   "cell_type": "code",
   "execution_count": 2,
   "metadata": {
    "scrolled": true
   },
   "outputs": [
    {
     "name": "stderr",
     "output_type": "stream",
     "text": [
      "21/10/23 21:32:20 WARN NativeCodeLoader: Unable to load native-hadoop library for your platform... using builtin-java classes where applicable\n",
      "Using Spark's default log4j profile: org/apache/spark/log4j-defaults.properties\n",
      "Setting default log level to \"WARN\".\n",
      "To adjust logging level use sc.setLogLevel(newLevel). For SparkR, use setLogLevel(newLevel).\n"
     ]
    }
   ],
   "source": [
    "myConf = pyspark.SparkConf()\n",
    "spark = pyspark.sql.SparkSession\\\n",
    ".builder\\\n",
    ".master('local')\\\n",
    ".appName('myApp')\\\n",
    ".config(conf=myConf)\\\n",
    ".getOrCreate()"
   ]
  },
  {
   "cell_type": "code",
   "execution_count": 5,
   "metadata": {},
   "outputs": [],
   "source": [
    "def getKey(keyPath):\n",
    "    d = dict()\n",
    "    f = open(keyPath, 'r')\n",
    "    for line in f.readlines():\n",
    "        row = line.split('=')\n",
    "        row0 = row[0]\n",
    "        d[row0] = row[1].strip()\n",
    "    return d"
   ]
  },
  {
   "cell_type": "markdown",
   "metadata": {},
   "source": [
    "# 문제 1-1의 답"
   ]
  },
  {
   "cell_type": "code",
   "execution_count": 12,
   "metadata": {},
   "outputs": [
    {
     "name": "stdout",
     "output_type": "stream",
     "text": [
      "http://openapi.seoul.go.kr:8088/65714f71456b726938364851437a44/json/InfoTrdarAptQq/1/100/2021\n"
     ]
    }
   ],
   "source": [
    "base = 'http://openapi.seoul.go.kr:8088'\n",
    "key = '65714f71456b726938364851437a44'\n",
    "form = 'json'\n",
    "service = 'InfoTrdarAptQq'\n",
    "year = '2021'\n",
    "start = '1'\n",
    "end = '100'\n",
    "url = '/'.join([base, key, form, service, start, end, year])\n",
    "info = requests.get(url).json()\n",
    "print(url)"
   ]
  },
  {
   "cell_type": "markdown",
   "metadata": {},
   "source": [
    "# 문제 1-2의 답"
   ]
  },
  {
   "cell_type": "code",
   "execution_count": 15,
   "metadata": {},
   "outputs": [
    {
     "data": {
      "text/plain": [
       "{'STDR_YY_CD': '2021',\n",
       " 'TRDAR_SE_CD': 'A',\n",
       " 'TRDAR_SE_CD_NM': '골목상권',\n",
       " 'APT_HSMP_CO': 5.0,\n",
       " 'AE_66_SQMT_BELO_HSHLD_CO': 32.0,\n",
       " 'AE_66_SQMT_HSHLD_CO': 0.0,\n",
       " 'AE_99_SQMT_HSHLD_CO': 0.0,\n",
       " 'AE_132_SQMT_HSHLD_CO': 0.0,\n",
       " 'AE_165_SQMT_HSHLD_CO': 0.0,\n",
       " 'PC_1_HDMIL_BELO_HSHLD_CO': 0.0,\n",
       " 'PC_1_HDMIL_HSHLD_CO': 32.0,\n",
       " 'PC_2_HDMIL_HSHLD_CO': 0.0,\n",
       " 'PC_3_HDMIL_HSHLD_CO': 0.0,\n",
       " 'PC_4_HDMIL_HSHLD_CO': 0.0,\n",
       " 'PC_5_HDMIL_HSHLD_CO': 0.0,\n",
       " 'PC_6_HDMIL_ABOVE_HSHLD_CO': 0.0,\n",
       " 'AVRG_AE': 44.0,\n",
       " 'AVRG_MKTC': 150247619.0,\n",
       " 'STDR_QU_CD': '1',\n",
       " 'TRDAR_CD': '1000975',\n",
       " 'TRDAR_CD_NM': '동남로82길'}"
      ]
     },
     "execution_count": 15,
     "metadata": {},
     "output_type": "execute_result"
    }
   ],
   "source": [
    "info['InfoTrdarAptQq']['row'][0]"
   ]
  },
  {
   "cell_type": "markdown",
   "metadata": {},
   "source": [
    "# 문제 1-3의 답"
   ]
  },
  {
   "cell_type": "code",
   "execution_count": 27,
   "metadata": {},
   "outputs": [
    {
     "name": "stdout",
     "output_type": "stream",
     "text": [
      "골목상권\t5.0\t0.0\t150247619.0\t동남로82길\n",
      "발달상권\t3.0\t0.0\t161157476.0\t당산역_2\n",
      "발달상권\t1.0\t0.0\t81750000.0\t서울 성북구 안암역\n",
      "전통시장\t37.0\t1.0\t183067389.0\t길동복조리시장\n",
      "관광특구\t71.0\t87.0\t409473123.0\t이태원 관광특구\n",
      "관광특구\t8.0\t271.0\t237967427.0\t동대문패션타운 관광특구\n",
      "관광특구\t5.0\t0.0\t112097903.0\t종로·청계 관광특구\n",
      "관광특구\t22.0\t1156.0\t527347107.0\t잠실 관광특구\n",
      "골목상권\t26.0\t22.0\t249322039.0\t계동길\n",
      "골목상권\t5.0\t0.0\t87700490.0\t난계로27길\n",
      "골목상권\t5.0\t0.0\t161118305.0\t돈화문로11가길\n",
      "골목상권\t41.0\t0.0\t105457249.0\t명륜길\n",
      "골목상권\t41.0\t0.0\t214023214.0\t백석동길\n",
      "골목상권\t3.0\t0.0\t213246032.0\t북촌로11길\n",
      "골목상권\t2.0\t2.0\t443000000.0\t북촌로5길\n",
      "골목상권\t5.0\t6.0\t430007143.0\t북촌로5나길\n",
      "골목상권\t1.0\t2.0\t572000000.0\t삼청로5길\n",
      "골목상권\t12.0\t0.0\t152368531.0\t성균관로5길\n",
      "골목상권\t19.0\t0.0\t141952840.0\t숭인동길\n",
      "골목상권\t100.0\t0.0\t177741821.0\t옥인길\n",
      "골목상권\t1.0\t0.0\t112279412.0\t율곡로16길\n",
      "골목상권\t20.0\t0.0\t153940955.0\t이화장길\n",
      "골목상권\t9.0\t0.0\t256264683.0\t자하문로7길\n",
      "골목상권\t3.0\t0.0\t81284178.0\t종로58가길\n",
      "골목상권\t87.0\t0.0\t124591950.0\t종로65길\n",
      "골목상권\t15.0\t0.0\t185365873.0\t지봉로8길\n",
      "골목상권\t8.0\t0.0\t142664918.0\t창경궁로35길\n",
      "골목상권\t17.0\t0.0\t107096078.0\t창신2길\n",
      "골목상권\t8.0\t0.0\t95141667.0\t창신5길\n",
      "골목상권\t86.0\t0.0\t116533576.0\t창신길\n",
      "골목상권\t50.0\t0.0\t99746000.0\t통일로12길\n",
      "골목상권\t19.0\t30.0\t309926113.0\t평창길\n",
      "골목상권\t14.0\t0.0\t229306432.0\t필운대로1길\n",
      "골목상권\t16.0\t33.0\t272737678.0\t난계로11길\n",
      "골목상권\t9.0\t0.0\t157574074.0\t난계로21길\n",
      "골목상권\t32.0\t0.0\t153392079.0\t다산로33길\n",
      "골목상권\t8.0\t0.0\t179132297.0\t다산로36길\n",
      "골목상권\t10.0\t1.0\t242063093.0\t다산로38길\n",
      "골목상권\t2.0\t0.0\t176972222.0\t다산로39길\n",
      "골목상권\t27.0\t0.0\t181864758.0\t동호로10길\n",
      "골목상권\t150.0\t0.0\t124396733.0\t동호로11길\n",
      "골목상권\t41.0\t12.0\t208647667.0\t동호로15길\n",
      "골목상권\t42.0\t43.0\t307355149.0\t동호로20길\n",
      "골목상권\t18.0\t0.0\t155018621.0\t동호로8길\n",
      "골목상권\t28.0\t1.0\t184979178.0\t장충단로8길\n",
      "골목상권\t33.0\t0.0\t206531628.0\t청구로17길\n",
      "골목상권\t9.0\t0.0\t189915947.0\t청구로1길\n",
      "골목상권\t7.0\t0.0\t167530465.0\t퇴계로12길\n",
      "골목상권\t3.0\t0.0\t168158730.0\t퇴계로18길\n",
      "골목상권\t7.0\t0.0\t119134454.0\t퇴계로46길\n",
      "골목상권\t6.0\t0.0\t130876389.0\t퇴계로56길\n",
      "골목상권\t13.0\t0.0\t213297572.0\t퇴계로8길\n",
      "골목상권\t27.0\t0.0\t170019584.0\t퇴계로90길\n",
      "골목상권\t4.0\t0.0\t250343750.0\t녹사평대로11길\n",
      "골목상권\t10.0\t0.0\t380352237.0\t녹사평대로26길\n",
      "골목상권\t8.0\t5.0\t382973462.0\t녹사평대로32길\n",
      "골목상권\t9.0\t13.0\t463599167.0\t녹사평대로40나길\n",
      "골목상권\t22.0\t5.0\t291820883.0\t녹사평대로46길\n",
      "골목상권\t35.0\t84.0\t559442404.0\t대사관로34길\n",
      "골목상권\t38.0\t0.0\t294402723.0\t두텁바위로1길\n",
      "골목상권\t104.0\t16.0\t242145926.0\t백범로79길\n",
      "골목상권\t11.0\t709.0\t496683400.0\t백범로90길\n",
      "골목상권\t72.0\t244.0\t662098926.0\t서빙고로71길\n",
      "골목상권\t44.0\t1.0\t200752888.0\t소월로20길\n",
      "골목상권\t114.0\t4.0\t171466325.0\t신흥로20길\n",
      "골목상권\t49.0\t129.0\t614161825.0\t우사단로10길\n",
      "골목상권\t15.0\t127.0\t654105268.0\t우사단로14길\n",
      "골목상권\t22.0\t12.0\t489858622.0\t우사단로4길\n",
      "골목상권\t23.0\t5.0\t269352177.0\t원효로19길\n",
      "골목상권\t16.0\t0.0\t281720858.0\t원효로41길\n",
      "골목상권\t40.0\t0.0\t228417439.0\t원효로53길\n",
      "골목상권\t10.0\t0.0\t215459650.0\t원효로89길\n",
      "골목상권\t49.0\t10.0\t387698359.0\t이촌로22길\n",
      "골목상권\t11.0\t19.0\t483746950.0\t이태원로27길\n",
      "골목상권\t30.0\t109.0\t480723433.0\t이태원로54길\n",
      "골목상권\t33.0\t106.0\t573284176.0\t장문로45길\n",
      "골목상권\t14.0\t0.0\t166160048.0\t청파로47길\n",
      "골목상권\t89.0\t4.0\t220994083.0\t청파로47나길\n",
      "골목상권\t122.0\t0.0\t215433642.0\t청파로71길\n",
      "골목상권\t58.0\t0.0\t219067232.0\t청파로73길\n",
      "골목상권\t25.0\t240.0\t341969048.0\t한강대로104길\n",
      "골목상권\t8.0\t151.0\t457474986.0\t한강대로15길\n",
      "골목상권\t3.0\t431.0\t989166024.0\t한강대로43길\n",
      "골목상권\t14.0\t1.0\t286364302.0\t한강대로52길\n",
      "골목상권\t9.0\t1.0\t364824342.0\t한강대로62길\n",
      "골목상권\t6.0\t12.0\t419996429.0\t한강대로7길\n",
      "골목상권\t7.0\t58.0\t352673085.0\t한남대로20길\n",
      "골목상권\t22.0\t40.0\t349667714.0\t회나무로13길\n",
      "골목상권\t90.0\t0.0\t231388058.0\t효창원로39길\n",
      "골목상권\t127.0\t21.0\t277169594.0\t후암로28길\n",
      "골목상권\t61.0\t0.0\t201004295.0\t고산자로6길\n",
      "골목상권\t39.0\t0.0\t182191459.0\t금호산2길\n",
      "골목상권\t69.0\t0.0\t200790347.0\t금호산길\n",
      "골목상권\t23.0\t9.0\t451650381.0\t둘레9길\n",
      "골목상권\t15.0\t144.0\t318029114.0\t뚝섬로5길\n",
      "골목상권\t10.0\t0.0\t140662018.0\t마장로27길\n",
      "골목상권\t7.0\t0.0\t261575022.0\t마장로39길\n",
      "골목상권\t20.0\t0.0\t228218098.0\t마조로16길\n",
      "골목상권\t26.0\t0.0\t149740447.0\t마조로1길\n",
      "골목상권\t9.0\t1530.0\t599287898.0\t매봉길\n"
     ]
    }
   ],
   "source": [
    "rows = info['InfoTrdarAptQq']['row']\n",
    "for (i, data) in enumerate(rows):\n",
    "    print('{}\\t{}\\t{}\\t{}\\t{}'.format(data['TRDAR_SE_CD_NM'], data['APT_HSMP_CO'], data['PC_6_HDMIL_ABOVE_HSHLD_CO'], data['AVRG_MKTC'], data['TRDAR_CD_NM']))"
   ]
  },
  {
   "cell_type": "markdown",
   "metadata": {},
   "source": [
    "# 문제 2"
   ]
  },
  {
   "cell_type": "code",
   "execution_count": 29,
   "metadata": {},
   "outputs": [],
   "source": [
    "yesterday=[\n",
    "    [\"Yesterday 어제는\"],\n",
    "    [\"All my troubles seemed to far away 내 모든 문제들이 참 멀리 있는 것 같았는데\"],\n",
    "    [\"Now it looks as though they're here to stay 이제는 그 모든 문제들이 여기에 있는 것처럼 보여\"],\n",
    "    [\"Oh, I believe in yesterday 오, 어제가 좋았는데\"],\n",
    "    [\"Suddenly 갑자기 그-림-자-가 2021 그-림-자-가 2021\"],\n",
    "    [\"I'm not half the man I used to be 난 예전 내 모습의 반도 못한 사람이 되어버렸어\"],\n",
    "    [\"There's a shadow hanging over me 내 위에 그림자가 드리워져 있네\"],\n",
    "    [\"Oh!, yesterday came suddenly 오!, 이제는 너무 갑자기 와버렸어..\"],\n",
    "]\n",
    "# UPPER, 불용어: !, -, 2021\n",
    "# 전부 계산한 뒤 빈도 1 초과의 한글자 키는 제거"
   ]
  },
  {
   "cell_type": "markdown",
   "metadata": {},
   "source": [
    "# 문제 2-1의 답"
   ]
  },
  {
   "cell_type": "code",
   "execution_count": 48,
   "metadata": {},
   "outputs": [
    {
     "data": {
      "text/plain": [
       "[('2021', 2),\n",
       " ('All', 1),\n",
       " ('I', 2),\n",
       " (\"I'm\", 1),\n",
       " ('Now', 1),\n",
       " ('Oh!,', 1),\n",
       " ('Oh,', 1),\n",
       " ('Suddenly', 1),\n",
       " (\"There's\", 1),\n",
       " ('Yesterday', 1),\n",
       " ('a', 1),\n",
       " ('as', 1),\n",
       " ('away', 1),\n",
       " ('be', 1),\n",
       " ('believe', 1),\n",
       " ('came', 1),\n",
       " ('far', 1),\n",
       " ('half', 1),\n",
       " ('hanging', 1),\n",
       " ('here', 1),\n",
       " ('in', 1),\n",
       " ('it', 1),\n",
       " ('looks', 1),\n",
       " ('man', 1),\n",
       " ('me', 1),\n",
       " ('my', 1),\n",
       " ('not', 1),\n",
       " ('over', 1),\n",
       " ('seemed', 1),\n",
       " ('shadow', 1),\n",
       " ('stay', 1),\n",
       " ('suddenly', 1),\n",
       " ('the', 1),\n",
       " (\"they're\", 1),\n",
       " ('though', 1),\n",
       " ('to', 3),\n",
       " ('troubles', 1),\n",
       " ('used', 1),\n",
       " ('yesterday', 2),\n",
       " ('갑자기', 2),\n",
       " ('같았는데', 1),\n",
       " ('것', 1),\n",
       " ('것처럼', 1),\n",
       " ('그', 1),\n",
       " ('그-림-자-가', 2),\n",
       " ('그림자가', 1),\n",
       " ('난', 1),\n",
       " ('내', 3),\n",
       " ('너무', 1),\n",
       " ('되어버렸어', 1),\n",
       " ('드리워져', 1),\n",
       " ('멀리', 1),\n",
       " ('모든', 2),\n",
       " ('모습의', 1),\n",
       " ('못한', 1),\n",
       " ('문제들이', 2),\n",
       " ('반도', 1),\n",
       " ('보여', 1),\n",
       " ('사람이', 1),\n",
       " ('어제가', 1),\n",
       " ('어제는', 1),\n",
       " ('여기에', 1),\n",
       " ('예전', 1),\n",
       " ('오!,', 1),\n",
       " ('오,', 1),\n",
       " ('와버렸어..', 1),\n",
       " ('위에', 1),\n",
       " ('이제는', 2),\n",
       " ('있네', 1),\n",
       " ('있는', 2),\n",
       " ('좋았는데', 1),\n",
       " ('참', 1)]"
      ]
     },
     "execution_count": 48,
     "metadata": {},
     "output_type": "execute_result"
    }
   ],
   "source": [
    "rdd = spark.sparkContext.parallelize(yesterday)\n",
    "corpus = rdd.flatMap(lambda x: x).flatMap(lambda line: line.split())\n",
    "\n",
    "ans = corpus.map(lambda word: (word, 1))\\\n",
    ".groupByKey()\\\n",
    ".mapValues(sum)\\\n",
    ".sortByKey(True)\\\n",
    ".collect()\n",
    "ans"
   ]
  },
  {
   "cell_type": "markdown",
   "metadata": {},
   "source": [
    "# 문제 2-2의 답"
   ]
  },
  {
   "cell_type": "code",
   "execution_count": 55,
   "metadata": {},
   "outputs": [
    {
     "data": {
      "text/plain": [
       "[('to', 3),\n",
       " ('내', 3),\n",
       " ('2021', 2),\n",
       " ('I', 2),\n",
       " ('yesterday', 2),\n",
       " ('갑자기', 2),\n",
       " ('그-림-자-가', 2),\n",
       " ('모든', 2),\n",
       " ('문제들이', 2),\n",
       " ('이제는', 2),\n",
       " ('있는', 2)]"
      ]
     },
     "execution_count": 55,
     "metadata": {},
     "output_type": "execute_result"
    }
   ],
   "source": [
    "ans_sorted = sorted(ans, key = lambda element: -element[1])\n",
    "ans_second_final = list(filter(lambda x: x[1] > 1, ans_sorted))\n",
    "ans_second_final"
   ]
  },
  {
   "cell_type": "markdown",
   "metadata": {},
   "source": [
    "# 문제 2-3의 답"
   ]
  },
  {
   "cell_type": "code",
   "execution_count": 88,
   "metadata": {},
   "outputs": [
    {
     "data": {
      "text/plain": [
       "[('TO', 3),\n",
       " ('YESTERDAY', 3),\n",
       " ('그림자가', 3),\n",
       " ('내', 3),\n",
       " ('I', 2),\n",
       " ('OH,', 2),\n",
       " ('SUDDENLY', 2),\n",
       " ('갑자기', 2),\n",
       " ('모든', 2),\n",
       " ('문제들이', 2),\n",
       " ('오,', 2),\n",
       " ('이제는', 2),\n",
       " ('있는', 2)]"
      ]
     },
     "execution_count": 88,
     "metadata": {},
     "output_type": "execute_result"
    }
   ],
   "source": [
    "first = corpus.map(lambda x: x.upper())\n",
    "second = first.filter(lambda x: not x.isnumeric())\n",
    "third = second.map(lambda x: x.translate(str.maketrans('!-', '  ')).replace(' ', ''))\n",
    "ans = third.map(lambda word: (word, 1))\\\n",
    ".groupByKey()\\\n",
    ".mapValues(sum)\\\n",
    ".sortByKey(True)\\\n",
    ".collect()\n",
    "ans_sorted = sorted(ans, key = lambda element: -element[1])\n",
    "ans_second_final = list(filter(lambda x: x[1] > 1, ans_sorted))\n",
    "ans_second_final"
   ]
  },
  {
   "cell_type": "markdown",
   "metadata": {},
   "source": [
    "# 문제 2-4의 답"
   ]
  },
  {
   "cell_type": "code",
   "execution_count": 90,
   "metadata": {},
   "outputs": [
    {
     "data": {
      "text/plain": [
       "[('TO', 3),\n",
       " ('YESTERDAY', 3),\n",
       " ('그림자가', 3),\n",
       " ('OH,', 2),\n",
       " ('SUDDENLY', 2),\n",
       " ('갑자기', 2),\n",
       " ('모든', 2),\n",
       " ('문제들이', 2),\n",
       " ('오,', 2),\n",
       " ('이제는', 2),\n",
       " ('있는', 2)]"
      ]
     },
     "execution_count": 90,
     "metadata": {},
     "output_type": "execute_result"
    }
   ],
   "source": [
    "ans_third = list(filter(lambda x: len(x[0]) > 1, ans_second_final))\n",
    "ans_third"
   ]
  },
  {
   "cell_type": "markdown",
   "metadata": {},
   "source": [
    "# 문제 3"
   ]
  },
  {
   "cell_type": "code",
   "execution_count": 29,
   "metadata": {},
   "outputs": [],
   "source": [
    "filename = '서울특별시 코로나19 자치구별 확진자 발생동향.json'\n",
    "df= spark.read.json(filename)"
   ]
  },
  {
   "cell_type": "markdown",
   "metadata": {},
   "source": [
    "# 문제 3-1의 답"
   ]
  },
  {
   "cell_type": "code",
   "execution_count": 30,
   "metadata": {},
   "outputs": [
    {
     "name": "stdout",
     "output_type": "stream",
     "text": [
      "633\n"
     ]
    }
   ],
   "source": [
    "print(df.count())\n",
    "df = df.drop('_corrupt_record')\n",
    "pdf = df.toPandas()\n",
    "pdf = pdf.dropna()\n",
    "df = spark.createDataFrame(pdf)"
   ]
  },
  {
   "cell_type": "code",
   "execution_count": 31,
   "metadata": {},
   "outputs": [
    {
     "data": {
      "text/plain": [
       "172"
      ]
     },
     "execution_count": 31,
     "metadata": {},
     "output_type": "execute_result"
    }
   ],
   "source": [
    "df.count()"
   ]
  },
  {
   "cell_type": "markdown",
   "metadata": {},
   "source": [
    "# 문제 3-2의 답"
   ]
  },
  {
   "cell_type": "code",
   "execution_count": 47,
   "metadata": {},
   "outputs": [
    {
     "name": "stdout",
     "output_type": "stream",
     "text": [
      "+------+----+-------+------+\n",
      "|jongno|mapo|yongsan|   tot|\n",
      "+------+----+-------+------+\n",
      "|  1968|4127|   3031|9126.0|\n"
     ]
    }
   ],
   "source": [
    "newDf = df.withColumn('Date', df['jcg_dt'].cast(DateType()))\n",
    "newDf.select(['jongno', 'mapo', 'yongsan', 'tot']).show()"
   ]
  },
  {
   "cell_type": "markdown",
   "metadata": {},
   "source": [
    "# 문제 3-3의 답"
   ]
  },
  {
   "cell_type": "code",
   "execution_count": 50,
   "metadata": {},
   "outputs": [
    {
     "ename": "TypeError",
     "evalue": "'method' object is not subscriptable",
     "output_type": "error",
     "traceback": [
      "\u001b[0;31m---------------------------------------------------------------------------\u001b[0m",
      "\u001b[0;31mTypeError\u001b[0m                                 Traceback (most recent call last)",
      "\u001b[0;32m/var/folders/lr/jj1kxjwn315g3cjyb46358l80000gn/T/ipykernel_20535/3099286120.py\u001b[0m in \u001b[0;36m<module>\u001b[0;34m\u001b[0m\n\u001b[1;32m      1\u001b[0m \u001b[0;32mfrom\u001b[0m \u001b[0mpyspark\u001b[0m\u001b[0;34m.\u001b[0m\u001b[0msql\u001b[0m\u001b[0;34m.\u001b[0m\u001b[0mtypes\u001b[0m \u001b[0;32mimport\u001b[0m \u001b[0;34m*\u001b[0m\u001b[0;34m\u001b[0m\u001b[0;34m\u001b[0m\u001b[0m\n\u001b[1;32m      2\u001b[0m \u001b[0;32mimport\u001b[0m \u001b[0mpyspark\u001b[0m\u001b[0;34m.\u001b[0m\u001b[0msql\u001b[0m\u001b[0;34m.\u001b[0m\u001b[0mfunctions\u001b[0m \u001b[0;32mas\u001b[0m \u001b[0mF\u001b[0m\u001b[0;34m\u001b[0m\u001b[0;34m\u001b[0m\u001b[0m\n\u001b[0;32m----> 3\u001b[0;31m \u001b[0mperfect_df\u001b[0m\u001b[0;34m.\u001b[0m\u001b[0mfilter\u001b[0m\u001b[0;34m(\u001b[0m\u001b[0mF\u001b[0m\u001b[0;34m.\u001b[0m\u001b[0mmonth\u001b[0m\u001b[0;34m(\u001b[0m\u001b[0mperfect_df\u001b[0m\u001b[0;34m[\u001b[0m\u001b[0;34m'Date'\u001b[0m\u001b[0;34m]\u001b[0m\u001b[0;34m)\u001b[0m \u001b[0;34m==\u001b[0m \u001b[0;34m'03'\u001b[0m\u001b[0;34m)\u001b[0m\u001b[0;34m.\u001b[0m\u001b[0mselect\u001b[0m\u001b[0;34m[\u001b[0m\u001b[0;34m'jongno'\u001b[0m\u001b[0;34m]\u001b[0m\u001b[0;34m.\u001b[0m\u001b[0mshow\u001b[0m\u001b[0;34m(\u001b[0m\u001b[0;34m)\u001b[0m\u001b[0;34m\u001b[0m\u001b[0;34m\u001b[0m\u001b[0m\n\u001b[0m",
      "\u001b[0;31mTypeError\u001b[0m: 'method' object is not subscriptable"
     ]
    }
   ],
   "source": [
    "from pyspark.sql.types import *\n",
    "import pyspark.sql.functions as F\n",
    "perfect_df.filter(F.month(perfect_df['Date']) == '03').select[per'jongno']"
   ]
  },
  {
   "cell_type": "markdown",
   "metadata": {},
   "source": [
    "# 문제 3-4의 답"
   ]
  },
  {
   "cell_type": "code",
   "execution_count": 49,
   "metadata": {},
   "outputs": [
    {
     "name": "stdout",
     "output_type": "stream",
     "text": [
      "+-----+-------+-------+\n",
      "|month|   2020|   2021|\n",
      "+-----+-------+-------+\n",
      "|   07| 1273.0|62849.0|\n",
      "+-----+-------+-------+\n"
     ]
    }
   ],
   "source": [
    "perfect_df = newDf.withColumn('year', F.year('Date')).withColumn('month', F.month('Date'))\n",
    "perfect_df.groupby('year').pivot('month').show()"
   ]
  }
 ],
 "metadata": {
  "interpreter": {
   "hash": "0fe295ad4522a8f3a1c00f73e8c1fc4bffda693b9f244974c35f867e6985c135"
  },
  "kernelspec": {
   "display_name": "Python 3 (ipykernel)",
   "language": "python",
   "name": "python3"
  },
  "language_info": {
   "codemirror_mode": {
    "name": "ipython",
    "version": 3
   },
   "file_extension": ".py",
   "mimetype": "text/x-python",
   "name": "python",
   "nbconvert_exporter": "python",
   "pygments_lexer": "ipython3",
   "version": "3.8.11"
  }
 },
 "nbformat": 4,
 "nbformat_minor": 2
}
