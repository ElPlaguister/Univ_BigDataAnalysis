{
 "cells": [
  {
   "cell_type": "markdown",
   "metadata": {},
   "source": [
    "# 세팅"
   ]
  },
  {
   "cell_type": "code",
   "execution_count": 1,
   "metadata": {},
   "outputs": [],
   "source": [
    "import os\n",
    "import pyspark\n",
    "from pyspark.sql.functions import udf\n",
    "from pyspark.sql import functions as F\n",
    "from pyspark.sql.types import *\n",
    "import matplotlib.pyplot as plt\n",
    "import numpy as np"
   ]
  },
  {
   "cell_type": "code",
   "execution_count": 2,
   "metadata": {},
   "outputs": [
    {
     "name": "stderr",
     "output_type": "stream",
     "text": [
      "21/10/11 07:45:07 WARN Utils: Your hostname, Kritiasui-MacBookAir.local resolves to a loopback address: 127.0.0.1; using 172.30.1.24 instead (on interface en0)\n",
      "21/10/11 07:45:07 WARN Utils: Set SPARK_LOCAL_IP if you need to bind to another address\n",
      "21/10/11 07:45:08 WARN NativeCodeLoader: Unable to load native-hadoop library for your platform... using builtin-java classes where applicable\n",
      "Using Spark's default log4j profile: org/apache/spark/log4j-defaults.properties\n",
      "Setting default log level to \"WARN\".\n",
      "To adjust logging level use sc.setLogLevel(newLevel). For SparkR, use setLogLevel(newLevel).\n"
     ]
    }
   ],
   "source": [
    "spark = pyspark.sql.SparkSession.builder.master('local').appName('myApp').config(conf=pyspark.SparkConf()).getOrCreate()"
   ]
  },
  {
   "cell_type": "markdown",
   "metadata": {},
   "source": [
    "# 데이터 로드 및 전처리\n",
    "\n",
    "- 문제 해결에 필요한 것은 년과 월, 대여 건수이므로, date를 파싱해서 년과 월의 integer타입의 새로운 레이블을 생성한다."
   ]
  },
  {
   "cell_type": "code",
   "execution_count": 4,
   "metadata": {},
   "outputs": [
    {
     "name": "stdout",
     "output_type": "stream",
     "text": [
      "root\n",
      " |-- count: integer (nullable = true)\n",
      " |-- year: integer (nullable = true)\n",
      " |-- month: integer (nullable = true)\n",
      "\n"
     ]
    }
   ],
   "source": [
    "parse_year = udf(lambda date : int(date[:4]), IntegerType())\n",
    "parse_month = udf(lambda date : int(date[5:7]), IntegerType())\n",
    "\n",
    "df = spark.read.format('com.databricks.spark.csv').options(header='true', inferschema='true').load(os.path.join('data', 'for_report_6.csv'))\n",
    "df = df.withColumn('year', parse_year(df.date))\n",
    "df = df.withColumn('month', parse_month(df.date))\n",
    "df = df.drop('date')\n",
    "df.printSchema()\n",
    "# 레이블 : date, count, year, month"
   ]
  },
  {
   "cell_type": "markdown",
   "metadata": {},
   "source": [
    "# 1.1"
   ]
  },
  {
   "cell_type": "code",
   "execution_count": 5,
   "metadata": {},
   "outputs": [
    {
     "name": "stderr",
     "output_type": "stream",
     "text": []
    },
    {
     "name": "stdout",
     "output_type": "stream",
     "text": [
      "+----+----------+\n",
      "|year|sum(count)|\n",
      "+----+----------+\n",
      "|2018|  10124874|\n",
      "|2019|   1871935|\n",
      "+----+----------+\n",
      "\n"
     ]
    },
    {
     "name": "stderr",
     "output_type": "stream",
     "text": []
    }
   ],
   "source": [
    "df.groupBy('year').agg({'count' : 'sum'}).show()"
   ]
  },
  {
   "cell_type": "markdown",
   "metadata": {},
   "source": [
    "# 1.2"
   ]
  },
  {
   "cell_type": "code",
   "execution_count": 6,
   "metadata": {},
   "outputs": [
    {
     "name": "stderr",
     "output_type": "stream",
     "text": []
    },
    {
     "name": "stdout",
     "output_type": "stream",
     "text": [
      "+----+-----+----------+\n",
      "|year|month|sum(count)|\n",
      "+----+-----+----------+\n",
      "|2018|   10|   1420621|\n",
      "|2019|    3|    904819|\n",
      "|2018|    1|    164367|\n",
      "|2018|    3|    462661|\n",
      "|2018|    8|   1037505|\n",
      "|2019|    1|    495573|\n",
      "|2019|    2|    471543|\n",
      "|2018|    5|    965609|\n",
      "|2018|    9|   1447993|\n",
      "|2018|    7|   1100015|\n",
      "|2018|   12|    500822|\n",
      "|2018|   11|    961532|\n",
      "|2018|    6|   1207123|\n",
      "|2018|    2|    168741|\n",
      "|2018|    4|    687885|\n",
      "+----+-----+----------+\n",
      "\n"
     ]
    }
   ],
   "source": [
    "grouping = df.groupBy('year', 'month').agg({'count' : 'sum'})\n",
    "grouping.show()"
   ]
  },
  {
   "cell_type": "markdown",
   "metadata": {},
   "source": [
    "# 1.3"
   ]
  },
  {
   "cell_type": "code",
   "execution_count": 11,
   "metadata": {},
   "outputs": [
    {
     "name": "stderr",
     "output_type": "stream",
     "text": []
    }
   ],
   "source": [
    "time_arr = np.array(grouping.rdd.map(lambda x : x[0] * 12 + x[1] - 1).collect())\n",
    "count_arr = np.array(grouping.rdd.map(lambda x : x[2]).collect())"
   ]
  },
  {
   "cell_type": "code",
   "execution_count": 12,
   "metadata": {},
   "outputs": [
    {
     "data": {
      "image/png": "[encoded data removed]",
      "text/plain": [
       "<Figure size 432x288 with 1 Axes>"
      ]
     },
     "metadata": {
      "needs_background": "light"
     },
     "output_type": "display_data"
    }
   ],
   "source": [
    "seq = np.argsort(time_arr)\n",
    "time_sorted = np.array([str(x // 12) + '-' + str(x % 12 + 1) for x in time_arr[seq]])\n",
    "count_sorted = count_arr[seq]\n",
    "\n",
    "plt.plot(time_sorted, count_sorted, 'g-')\n",
    "plt.xticks(rotation=45)\n",
    "plt.yticks()\n",
    "plt.show()"
   ]
  }
 ],
 "metadata": {
  "interpreter": {
   "hash": "ebac036784c2d16c9d50bc630311939c724d93f9fd474f8cb81336a45de03920"
  },
  "kernelspec": {
   "display_name": "Python 3 (ipykernel)",
   "language": "python",
   "name": "python3"
  },
  "language_info": {
   "codemirror_mode": {
    "name": "ipython",
    "version": 3
   },
   "file_extension": ".py",
   "mimetype": "text/x-python",
   "name": "python",
   "nbconvert_exporter": "python",
   "pygments_lexer": "ipython3",
   "version": "3.8.11"
  }
 },
 "nbformat": 4,
 "nbformat_minor": 2
}
