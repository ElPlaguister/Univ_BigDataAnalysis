{
 "cells": [
  {
   "cell_type": "markdown",
   "metadata": {},
   "source": [
    "# 환경 세팅 #"
   ]
  },
  {
   "cell_type": "code",
   "execution_count": 83,
   "metadata": {},
   "outputs": [],
   "source": [
    "# import\n",
    "import pyspark\n",
    "from pyspark.sql import Row\n",
    "import os\n",
    "import json\n",
    "import matplotlib.pyplot as plt\n",
    "import numpy as np"
   ]
  },
  {
   "cell_type": "code",
   "execution_count": 8,
   "metadata": {},
   "outputs": [
    {
     "name": "stderr",
     "output_type": "stream",
     "text": [
      "21/11/04 01:26:50 WARN Utils: Your hostname, Kritiasui-MacBookAir.local resolves to a loopback address: 127.0.0.1; using 172.30.1.28 instead (on interface en0)\n",
      "21/11/04 01:26:50 WARN Utils: Set SPARK_LOCAL_IP if you need to bind to another address\n",
      "21/11/04 01:26:51 WARN NativeCodeLoader: Unable to load native-hadoop library for your platform... using builtin-java classes where applicable\n",
      "Using Spark's default log4j profile: org/apache/spark/log4j-defaults.properties\n",
      "Setting default log level to \"WARN\".\n",
      "To adjust logging level use sc.setLogLevel(newLevel). For SparkR, use setLogLevel(newLevel).\n"
     ]
    }
   ],
   "source": [
    "# Spark\n",
    "myConf = pyspark.SparkConf()\n",
    "spark = pyspark.sql.SparkSession\\\n",
    ".builder\\\n",
    ".master('local')\\\n",
    ".appName('myApp')\\\n",
    ".config(conf=myConf)\\\n",
    ".getOrCreate()"
   ]
  },
  {
   "cell_type": "code",
   "execution_count": 89,
   "metadata": {},
   "outputs": [
    {
     "name": "stdout",
     "output_type": "stream",
     "text": [
      "root\n",
      " |-- gu: string (nullable = true)\n",
      " |-- area: double (nullable = true)\n",
      " |-- cost: long (nullable = true)\n",
      " |-- kind: string (nullable = true)\n",
      "\n"
     ]
    },
    {
     "name": "stderr",
     "output_type": "stream",
     "text": [
      "21/11/04 03:28:42 WARN TaskSetManager: Stage 33 contains a task of very large size (1264 KiB). The maximum recommended task size is 1000 KiB.\n"
     ]
    }
   ],
   "source": [
    "# Load Data\n",
    "jfile = os.path.join('src', 'LandActualPriceInfo.json')\n",
    "with open(jfile, 'rb') as f:\n",
    "    data = f.readlines()\n",
    "myData = json.loads(data[0])['landActualPriceInfo']['row']\n",
    "type(myData)\n",
    "myRdd = spark.sparkContext.parallelize(myData)\n",
    "myRowRdd = myRdd.map(lambda x: Row(gu = x['SGG_NM'], area = float(x['BLDG_AREA']), cost = int(x['OBJ_AMT']), kind = x['BLDG_MUSE_NM']))\n",
    "myDf = spark.createDataFrame(myRowRdd)\n",
    "myDf.printSchema()"
   ]
  },
  {
   "cell_type": "markdown",
   "metadata": {},
   "source": [
    "# 문제 설정 #"
   ]
  },
  {
   "cell_type": "markdown",
   "metadata": {},
   "source": [
    "### 데이터셋: 서울특별시 부동산 실거래가 정보 ###\n",
    "1. 가장 평균가격이 높은 구는 어디인가?\n",
    "2. 건물 면적이 높은 부동산이 대체로 높은 가격에 거래되는가?"
   ]
  },
  {
   "cell_type": "markdown",
   "metadata": {},
   "source": [
    "# 문제의 답 - 1 : 구 별로 거래 가격의 평균 군하기 #"
   ]
  },
  {
   "cell_type": "code",
   "execution_count": 103,
   "metadata": {},
   "outputs": [
    {
     "name": "stderr",
     "output_type": "stream",
     "text": [
      "21/11/04 03:42:12 WARN TaskSetManager: Stage 58 contains a task of very large size (1264 KiB). The maximum recommended task size is 1000 KiB.\n"
     ]
    },
    {
     "data": {
      "text/plain": [
       "array([['강남구', '250093600000'],\n",
       "       ['송파구', '222419480000'],\n",
       "       ['서초구', '179429500000'],\n",
       "       ['강서구', '145742070000'],\n",
       "       ['은평구', '127665300000'],\n",
       "       ['광진구', '63614300000'],\n",
       "       ['종로구', '62284380000'],\n",
       "       ['강북구', '53090960000'],\n",
       "       ['중랑구', '50056500000'],\n",
       "       ['중구', '40565000000']], dtype='<U21')"
      ]
     },
     "execution_count": 103,
     "metadata": {},
     "output_type": "execute_result"
    }
   ],
   "source": [
    "result = myRowRdd.map(lambda ele: (ele['gu'], ele['cost']))\\\n",
    "    .combineByKey(lambda value: value,\n",
    "    lambda x, value: x + value,\n",
    "    lambda x, y: x + y)\\\n",
    "    .map(lambda ele : (ele[0], ele[1])).collect()\n",
    "res = sorted(result, key = lambda element: -element[1])\n",
    "np.vstack([res[:5], res[-5:]])"
   ]
  },
  {
   "cell_type": "markdown",
   "metadata": {},
   "source": [
    "위의 결과는 각 구의 거래가 평균을 구한 뒤, 가장 높은 5개의 구와 가장 낮은 5개의 구를 내림차순으로 정렬한 것이다.\n",
    "\n",
    "결론: 거래가는 강남구, 송파구, 서초구 순으로 가장 높았고, 중구, 중랑구, 강북구 순으로 가장 낮았다."
   ]
  },
  {
   "cell_type": "markdown",
   "metadata": {},
   "source": [
    "# 문제의 답 - 2 : 건물 면적과 가격의 상관관계 분석하기"
   ]
  },
  {
   "cell_type": "code",
   "execution_count": 90,
   "metadata": {},
   "outputs": [
    {
     "name": "stderr",
     "output_type": "stream",
     "text": [
      "21/11/04 03:28:51 WARN TaskSetManager: Stage 34 contains a task of very large size (1264 KiB). The maximum recommended task size is 1000 KiB.\n"
     ]
    },
    {
     "data": {
      "text/plain": [
       "0.6847272294054125"
      ]
     },
     "execution_count": 90,
     "metadata": {},
     "output_type": "execute_result"
    }
   ],
   "source": [
    "myDf.stat.corr('area',  'cost')"
   ]
  },
  {
   "cell_type": "markdown",
   "metadata": {},
   "source": [
    "0.68의 상관관계를 가지고 있으므로, 실제로 가격은 건물의 면적이 높을 수록 완만하게 증가한다고 볼 수 있다. (양의 기울기를 가지기 때문)\n",
    "추가로, 실제 데이터를 플롯해서 아래에 그려보겠다."
   ]
  },
  {
   "cell_type": "code",
   "execution_count": 94,
   "metadata": {},
   "outputs": [
    {
     "name": "stderr",
     "output_type": "stream",
     "text": [
      "21/11/04 03:29:58 WARN TaskSetManager: Stage 41 contains a task of very large size (1264 KiB). The maximum recommended task size is 1000 KiB.\n",
      "21/11/04 03:29:58 WARN TaskSetManager: Stage 42 contains a task of very large size (1264 KiB). The maximum recommended task size is 1000 KiB.\n"
     ]
    },
    {
     "data": {
      "image/png": "[encoded data removed]",
      "text/plain": [
       "<Figure size 432x288 with 1 Axes>"
      ]
     },
     "metadata": {
      "needs_background": "light"
     },
     "output_type": "display_data"
    }
   ],
   "source": [
    "%matplotlib inline\n",
    "area = np.array(myDf.rdd.map(lambda fields: fields[1]).collect())\n",
    "cost = np.array(myDf.rdd.map(lambda fields: fields[2]).collect())\n",
    "\n",
    "plt.plot(area, cost, 'g.')\n",
    "plt.xlim((0, 400))\n",
    "plt.ylim((0, 0.8e10))\n",
    "plt.show()"
   ]
  }
 ],
 "metadata": {
  "interpreter": {
   "hash": "0fe295ad4522a8f3a1c00f73e8c1fc4bffda693b9f244974c35f867e6985c135"
  },
  "kernelspec": {
   "display_name": "Python 3.8.11 64-bit ('Analysis': conda)",
   "name": "python3"
  },
  "language_info": {
   "codemirror_mode": {
    "name": "ipython",
    "version": 3
   },
   "file_extension": ".py",
   "mimetype": "text/x-python",
   "name": "python",
   "nbconvert_exporter": "python",
   "pygments_lexer": "ipython3",
   "version": "3.8.11"
  },
  "orig_nbformat": 4
 },
 "nbformat": 4,
 "nbformat_minor": 2
}
