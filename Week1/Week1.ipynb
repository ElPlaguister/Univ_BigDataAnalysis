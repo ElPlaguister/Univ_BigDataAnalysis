{
 "cells": [
  {
   "cell_type": "markdown",
   "metadata": {},
   "source": [
    "# Curl"
   ]
  },
  {
   "cell_type": "code",
   "execution_count": 8,
   "metadata": {},
   "outputs": [
    {
     "name": "stdout",
     "output_type": "stream",
     "text": [
      "zsh:1: no matches found: http://httpbin.org/get?myname=js\r\n"
     ]
    }
   ],
   "source": [
    "# 안되면 1-3주차 13분30초\n",
    "!curl http://httpbin.org/get?myname=\"js\""
   ]
  },
  {
   "cell_type": "markdown",
   "metadata": {},
   "source": [
    "# Description #\n"
   ]
  },
  {
   "cell_type": "code",
   "execution_count": 6,
   "metadata": {},
   "outputs": [],
   "source": [
    "import requests"
   ]
  },
  {
   "cell_type": "code",
   "execution_count": 7,
   "metadata": {},
   "outputs": [],
   "source": [
    "r = requests.options(\"http://httpbin.org/\")"
   ]
  },
  {
   "cell_type": "code",
   "execution_count": 8,
   "metadata": {},
   "outputs": [
    {
     "name": "stdout",
     "output_type": "stream",
     "text": [
      "OPTIONS, HEAD, GET\n"
     ]
    }
   ],
   "source": [
    "print(r.headers['allow'])"
   ]
  },
  {
   "cell_type": "markdown",
   "metadata": {},
   "source": [
    "## HTTP 의 코드번호 상태 ##\n",
    "- 200: 앞자리 2는 성공을 의미, 200은 성공적으로 처리되었다는 뜻\n",
    "- 300: 앞자리 3은 우회를 의미, 300은 클라이언트가 선택해야 한다는 뜻\n",
    "- 404: 앞자리 4는 클라 오류, 404는 Not Found, 403은 Forbidden\n",
    "- 500: 앞자리 5는 서버 오류, 500은 서버 오류, 501은 서버 미구현"
   ]
  },
  {
   "cell_type": "code",
   "execution_count": 9,
   "metadata": {},
   "outputs": [
    {
     "data": {
      "text/plain": [
       "200"
      ]
     },
     "execution_count": 9,
     "metadata": {},
     "output_type": "execute_result"
    }
   ],
   "source": [
    "r.status_code"
   ]
  },
  {
   "cell_type": "code",
   "execution_count": 10,
   "metadata": {},
   "outputs": [
    {
     "data": {
      "text/plain": [
       "{'args': {},\n",
       " 'data': '',\n",
       " 'files': {},\n",
       " 'form': {'name': 'js'},\n",
       " 'headers': {'Accept': '*/*',\n",
       "  'Accept-Encoding': 'gzip, deflate',\n",
       "  'Content-Length': '7',\n",
       "  'Content-Type': 'application/x-www-form-urlencoded',\n",
       "  'Host': 'httpbin.org',\n",
       "  'User-Agent': 'python-requests/2.26.0',\n",
       "  'X-Amzn-Trace-Id': 'Root=1-6145afa6-124308723e845e3e0806922a'},\n",
       " 'json': None,\n",
       " 'origin': '220.89.202.18',\n",
       " 'url': 'http://httpbin.org/post'}"
      ]
     },
     "execution_count": 10,
     "metadata": {},
     "output_type": "execute_result"
    }
   ],
   "source": [
    "r = requests.post(\"http://httpbin.org/post\", data = {\"name\" : \"js\"})\n",
    "r.json()"
   ]
  },
  {
   "cell_type": "code",
   "execution_count": 11,
   "metadata": {},
   "outputs": [
    {
     "name": "stdout",
     "output_type": "stream",
     "text": [
      "{'Date': 'Sat, 18 Sep 2021 09:21:43 GMT', 'Content-Type': 'text/html; charset=utf-8', 'Content-Length': '9593', 'Connection': 'keep-alive', 'Server': 'gunicorn/19.9.0', 'Access-Control-Allow-Origin': '*', 'Access-Control-Allow-Credentials': 'true'}\n",
      "text/html; charset=utf-8\n"
     ]
    }
   ],
   "source": [
    "r = requests.head(\"http://httpbin.org/\")\n",
    "print(r.headers)\n",
    "print(r.headers['Content-Type'])"
   ]
  },
  {
   "cell_type": "markdown",
   "metadata": {},
   "source": [
    "# urllib"
   ]
  },
  {
   "cell_type": "code",
   "execution_count": 12,
   "metadata": {},
   "outputs": [],
   "source": [
    "import urllib\n",
    "\n",
    "class HeadRequest(urllib.request.Request):\n",
    "    def get_method(self):\n",
    "        return \"HEAD\"\n",
    "\n",
    "response = urllib.request.urlopen(HeadRequest(\"http://httpbin.org/\"))"
   ]
  },
  {
   "cell_type": "code",
   "execution_count": 13,
   "metadata": {},
   "outputs": [
    {
     "name": "stdout",
     "output_type": "stream",
     "text": [
      "Date: Sat, 18 Sep 2021 09:21:45 GMT\n",
      "Content-Type: text/html; charset=utf-8\n",
      "Content-Length: 9593\n",
      "Connection: close\n",
      "Server: gunicorn/19.9.0\n",
      "Access-Control-Allow-Origin: *\n",
      "Access-Control-Allow-Credentials: true\n",
      "\n",
      "\n"
     ]
    }
   ],
   "source": [
    "print(response.info())"
   ]
  },
  {
   "cell_type": "code",
   "execution_count": 14,
   "metadata": {},
   "outputs": [
    {
     "data": {
      "text/plain": [
       "'http://httpbin.org/'"
      ]
     },
     "execution_count": 14,
     "metadata": {},
     "output_type": "execute_result"
    }
   ],
   "source": [
    "response.geturl()"
   ]
  },
  {
   "cell_type": "markdown",
   "metadata": {},
   "source": [
    "# 많이 쓰이는 웹데이터 형식\n",
    "- XML\n",
    "- JSON"
   ]
  },
  {
   "cell_type": "markdown",
   "metadata": {},
   "source": [
    "## XML\n",
    "> Extensible Markup Language"
   ]
  },
  {
   "cell_type": "code",
   "execution_count": 15,
   "metadata": {},
   "outputs": [],
   "source": [
    "input = '''\n",
    "<students>\n",
    "    <student x=\"1\">\n",
    "        <id>001</id>\n",
    "        <name>Kim</name>\n",
    "    </student>\n",
    "    <student x=\"2\">\n",
    "        <id>002</id>\n",
    "        <name>Lee</name>\n",
    "    </student>\n",
    "</students>\n",
    "'''"
   ]
  },
  {
   "cell_type": "code",
   "execution_count": 17,
   "metadata": {},
   "outputs": [],
   "source": [
    "import lxml.etree\n",
    "root = lxml.etree.fromstring(input) # 문자열에서 읽는다."
   ]
  },
  {
   "cell_type": "code",
   "execution_count": 19,
   "metadata": {},
   "outputs": [],
   "source": [
    "from io import StringIO\n",
    "tree = lxml.etree.parse(StringIO(input)) # 파일에서 읽는데, StringIO로 파일처럼 읽듯이 한다.\n",
    "root = tree.getroot()"
   ]
  },
  {
   "cell_type": "code",
   "execution_count": 21,
   "metadata": {},
   "outputs": [
    {
     "name": "stdout",
     "output_type": "stream",
     "text": [
      "Writing ds_open_hello.xml\n"
     ]
    }
   ],
   "source": [
    "%%writefile ds_open_hello.xml\n",
    "<students>\n",
    "    <student x=\"1\">\n",
    "        <id>001</id>\n",
    "        <name>Kim</name>\n",
    "    </student>\n",
    "    <student x=\"2\">\n",
    "        <id>002</id>\n",
    "        <name>Lee</name>\n",
    "    </student>\n",
    "</students>"
   ]
  },
  {
   "cell_type": "code",
   "execution_count": 25,
   "metadata": {},
   "outputs": [],
   "source": [
    "import os\n",
    "tree = lxml.etree.parse('ds_open_hello.xml')\n",
    "root = tree.getroot()"
   ]
  },
  {
   "cell_type": "code",
   "execution_count": 30,
   "metadata": {},
   "outputs": [
    {
     "name": "stdout",
     "output_type": "stream",
     "text": [
      "<class 'str'>\n",
      "student\n",
      "student\n"
     ]
    }
   ],
   "source": [
    "print(type(root.tag))\n",
    "for e in root:\n",
    "    print(e.tag)"
   ]
  },
  {
   "cell_type": "code",
   "execution_count": 33,
   "metadata": {},
   "outputs": [
    {
     "name": "stdout",
     "output_type": "stream",
     "text": [
      "[<Element student at 0x7fefe318a9c0>, <Element student at 0x7fefe3186ec0>]\n",
      "<class 'list'>\n",
      "<Element student at 0x7fefe3186ec0>\n",
      "id => 001\n",
      "name => Kim\n",
      "id => 002\n",
      "name => Lee\n"
     ]
    }
   ],
   "source": [
    "print(root.getchildren())\n",
    "print(type(root.getchildren()))\n",
    "print(root.getchildren()[1])\n",
    "for ee in root.getchildren():\n",
    "    for e in ee.getchildren():\n",
    "        if not e.text:\n",
    "            text = \"None\"\n",
    "        else:\n",
    "            text = e.text\n",
    "        print(e.tag + \" => \" + text)"
   ]
  },
  {
   "cell_type": "code",
   "execution_count": 37,
   "metadata": {},
   "outputs": [
    {
     "name": "stdout",
     "output_type": "stream",
     "text": [
      "Tag: students \tATTRIB: {} \t\ttext: \n",
      "    \n",
      "Tag: student \tATTRIB: {'x': '1'} \t\ttext: \n",
      "        \n",
      "Tag: id \tATTRIB: {} \t\ttext: 001\n",
      "Tag: name \tATTRIB: {} \t\ttext: Kim\n",
      "Tag: student \tATTRIB: {'x': '2'} \t\ttext: \n",
      "        \n",
      "Tag: id \tATTRIB: {} \t\ttext: 002\n",
      "Tag: name \tATTRIB: {} \t\ttext: Lee\n"
     ]
    }
   ],
   "source": [
    "for node in root.getiterator():\n",
    "    print('Tag: {0} \\tATTRIB: {1} \\t\\ttext: {2}'.format(node.tag, node.attrib, node.text))\n"
   ]
  },
  {
   "cell_type": "markdown",
   "metadata": {},
   "source": [
    "## XML 검색\n",
    "- iterfind() : 반복적으로 인자와 일치하는 요소를 검색\n",
    "- findall() : 인자와 일치하는 요소들을 리스트로 반환\n",
    "- find() : 인자와 일치하는 첫 요소를 반환\n",
    "- findtext() : 인자와 일치하는 첫 요소의 .text 내용을 반환"
   ]
  },
  {
   "cell_type": "code",
   "execution_count": 40,
   "metadata": {},
   "outputs": [
    {
     "name": "stdout",
     "output_type": "stream",
     "text": [
      "001\n",
      "Kim\n",
      "{'x': '1'}\n"
     ]
    }
   ],
   "source": [
    "std = root.find('student')\n",
    "for node in std:\n",
    "    print(node.text)\n",
    "print(std.attrib)"
   ]
  },
  {
   "cell_type": "code",
   "execution_count": 42,
   "metadata": {},
   "outputs": [
    {
     "name": "stdout",
     "output_type": "stream",
     "text": [
      "001\n",
      "Kim\n",
      "002\n",
      "Lee\n"
     ]
    }
   ],
   "source": [
    "stds = root.findall('student')\n",
    "for node in stds:\n",
    "    for item in node:\n",
    "        print(item.text)"
   ]
  },
  {
   "cell_type": "markdown",
   "metadata": {},
   "source": [
    "## XPath\n",
    "- /: 루트 바로 아래 수준만 검색\n",
    "- //: 모든 부분에서 검색\n",
    "- @: 속성을 검색"
   ]
  },
  {
   "cell_type": "code",
   "execution_count": 43,
   "metadata": {},
   "outputs": [
    {
     "data": {
      "text/plain": [
       "['1', '2']"
      ]
     },
     "execution_count": 43,
     "metadata": {},
     "output_type": "execute_result"
    }
   ],
   "source": [
    "root.xpath('//@x')"
   ]
  },
  {
   "cell_type": "code",
   "execution_count": 45,
   "metadata": {},
   "outputs": [
    {
     "data": {
      "text/plain": [
       "['001']"
      ]
     },
     "execution_count": 45,
     "metadata": {},
     "output_type": "execute_result"
    }
   ],
   "source": [
    "root.xpath('//*[@x=\"1\"]/id/text()')"
   ]
  },
  {
   "cell_type": "markdown",
   "metadata": {},
   "source": [
    "## CSS 검색 ##\n",
    "- . 을 사용해 클래스\n",
    "- \\# 을 사용해 아이디"
   ]
  },
  {
   "cell_type": "code",
   "execution_count": 46,
   "metadata": {},
   "outputs": [],
   "source": [
    "from lxml.cssselect import CSSSelector\n",
    "sel = CSSSelector('student')"
   ]
  },
  {
   "cell_type": "code",
   "execution_count": 47,
   "metadata": {},
   "outputs": [
    {
     "name": "stdout",
     "output_type": "stream",
     "text": [
      "<CSSSelector 7fefe31944a0 for 'student'>\n",
      "student\n",
      "descendant-or-self::student\n"
     ]
    }
   ],
   "source": [
    "print(sel)\n",
    "print(sel.css)\n",
    "print(sel.path)"
   ]
  },
  {
   "cell_type": "code",
   "execution_count": 52,
   "metadata": {},
   "outputs": [
    {
     "name": "stdout",
     "output_type": "stream",
     "text": [
      "<class 'list'>\n",
      "2\n",
      "1\n",
      "2\n"
     ]
    }
   ],
   "source": [
    "root = lxml.etree.fromstring(input)\n",
    "nodes = sel(root)\n",
    "print(type(nodes))\n",
    "print(len(nodes))\n",
    "for e in nodes:\n",
    "    print(e.get('x'))"
   ]
  },
  {
   "cell_type": "code",
   "execution_count": 54,
   "metadata": {},
   "outputs": [
    {
     "name": "stdout",
     "output_type": "stream",
     "text": [
      "<class 'list'>\n",
      "001\n",
      "002\n"
     ]
    }
   ],
   "source": [
    "sel = CSSSelector('id')\n",
    "nodes = sel(root)\n",
    "print(type(nodes))\n",
    "for e in nodes:\n",
    "    print(e.text)"
   ]
  },
  {
   "cell_type": "markdown",
   "metadata": {},
   "source": [
    "JSON\n",
    "> JavaScript Object Notation"
   ]
  },
  {
   "cell_type": "code",
   "execution_count": 57,
   "metadata": {},
   "outputs": [],
   "source": [
    "input = '''[\n",
    "    { \"id\" : \"001\", \"x\" : \"2\", \"name\" : \"Chuck\"},\n",
    "    { \"id\" : \"009\", \"x\" : \"7\", \"name\" : \"Brent\"}\n",
    "]'''"
   ]
  },
  {
   "cell_type": "code",
   "execution_count": 58,
   "metadata": {},
   "outputs": [],
   "source": [
    "import json\n",
    "info = json.loads(input)"
   ]
  },
  {
   "cell_type": "code",
   "execution_count": 59,
   "metadata": {},
   "outputs": [
    {
     "data": {
      "text/plain": [
       "'User count:2'"
      ]
     },
     "execution_count": 59,
     "metadata": {},
     "output_type": "execute_result"
    }
   ],
   "source": [
    "'User count:{}'.format(len(info))"
   ]
  },
  {
   "cell_type": "code",
   "execution_count": 60,
   "metadata": {},
   "outputs": [
    {
     "name": "stdout",
     "output_type": "stream",
     "text": [
      "id: 001 \tname: Chuck\n",
      "id: 009 \tname: Brent\n"
     ]
    }
   ],
   "source": [
    "for item in info:\n",
    "    print(\"id: {} \\tname: {}\".format(item['id'], item['name']))"
   ]
  },
  {
   "cell_type": "code",
   "execution_count": 63,
   "metadata": {},
   "outputs": [
    {
     "name": "stdout",
     "output_type": "stream",
     "text": [
      "<class 'str'>\n",
      "[\"foo\", {\"bar\": [\"baz\", null, 1.0, 2]}]\n"
     ]
    }
   ],
   "source": [
    "import json\n",
    "my = json.dumps(\n",
    "    ['foo', {'bar': ('baz', None, 1.0, 2)}]\n",
    ")\n",
    "print(type(my))\n",
    "# 자바스크립트에서 사용하는 문법으로 변환해서 출력할 수 있다.\n",
    "print(my)"
   ]
  }
 ],
 "metadata": {
  "interpreter": {
   "hash": "2045bdaa5fc18fa1028b425df8586c6d62386b979435d2a5408e399246556570"
  },
  "kernelspec": {
   "display_name": "Python 3 (ipykernel)",
   "language": "python",
   "name": "python3"
  },
  "language_info": {
   "codemirror_mode": {
    "name": "ipython",
    "version": 3
   },
   "file_extension": ".py",
   "mimetype": "text/x-python",
   "name": "python",
   "nbconvert_exporter": "python",
   "pygments_lexer": "ipython3",
   "version": "3.8.11"
  }
 },
 "nbformat": 4,
 "nbformat_minor": 2
}
