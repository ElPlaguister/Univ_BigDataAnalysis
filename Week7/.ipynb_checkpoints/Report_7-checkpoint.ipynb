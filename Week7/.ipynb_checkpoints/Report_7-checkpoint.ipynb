{
 "cells": [
  {
   "cell_type": "code",
   "execution_count": 15,
   "id": "45c9a9ed",
   "metadata": {},
   "outputs": [],
   "source": [
    "import pyspark\n",
    "import os\n",
    "import numpy as np\n",
    "import pandas as pd\n",
    "from scipy.stats import *\n",
    "from pyspark.sql.functions import *\n",
    "import pyspark.sql.functions as f\n",
    "from pyspark.sql.types import *\n",
    "from scipy.stats import norm\n",
    "from scipy.stats import t"
   ]
  },
  {
   "cell_type": "code",
   "execution_count": 2,
   "id": "a2cc1dd9",
   "metadata": {
    "scrolled": true
   },
   "outputs": [
    {
     "name": "stderr",
     "output_type": "stream",
     "text": [
      "21/10/18 10:15:32 WARN NativeCodeLoader: Unable to load native-hadoop library for your platform... using builtin-java classes where applicable\n",
      "Using Spark's default log4j profile: org/apache/spark/log4j-defaults.properties\n",
      "Setting default log level to \"WARN\".\n",
      "To adjust logging level use sc.setLogLevel(newLevel). For SparkR, use setLogLevel(newLevel).\n",
      "21/10/18 10:15:34 WARN Utils: Service 'SparkUI' could not bind on port 4040. Attempting port 4041.\n"
     ]
    }
   ],
   "source": [
    "myConf = pyspark.SparkConf()\n",
    "spark = pyspark.sql.SparkSession\\\n",
    ".builder\\\n",
    ".master('local')\\\n",
    ".appName('myApp')\\\n",
    ".config(conf=myConf)\\\n",
    ".getOrCreate()"
   ]
  },
  {
   "cell_type": "code",
   "execution_count": 3,
   "id": "941d6477",
   "metadata": {},
   "outputs": [],
   "source": [
    "marks = [\n",
    "    '김하나, English, 100',\n",
    "    '김하나, Math, 80',\n",
    "    '임하나, English, 70',\n",
    "    '임하나, Math, 100',\n",
    "    '김갑돌, English, 82.3',\n",
    "    '김갑돌, Math, 98.5'\n",
    "]"
   ]
  },
  {
   "cell_type": "markdown",
   "id": "37e91d69",
   "metadata": {},
   "source": [
    "# 문제 1"
   ]
  },
  {
   "cell_type": "code",
   "execution_count": 4,
   "id": "cc955543",
   "metadata": {},
   "outputs": [
    {
     "name": "stderr",
     "output_type": "stream",
     "text": [
      "                                                                                \r"
     ]
    },
    {
     "name": "stdout",
     "output_type": "stream",
     "text": [
      "root\n",
      " |-- name: string (nullable = true)\n",
      " |-- subject: string (nullable = true)\n",
      " |-- score: float (nullable = true)\n",
      "\n",
      "+------+-------+-----+\n",
      "|  name|subject|score|\n",
      "+------+-------+-----+\n",
      "|김하나|English|100.0|\n",
      "|김하나|   Math| 80.0|\n",
      "|임하나|English| 70.0|\n",
      "|임하나|   Math|100.0|\n",
      "|김갑돌|English| 82.3|\n",
      "|김갑돌|   Math| 98.5|\n",
      "+------+-------+-----+\n",
      "\n"
     ]
    }
   ],
   "source": [
    "col = ['name', 'subject', '_score']\n",
    "\n",
    "_rdd = spark.sparkContext.parallelize(marks).map(lambda x : x.split(', '))\n",
    "_df = spark.createDataFrame(_rdd, col)\n",
    "_df = _df.withColumn('score', _df['_score'].cast('float')).drop('_score')\n",
    "\n",
    "_df.printSchema()\n",
    "_df.show()"
   ]
  },
  {
   "cell_type": "markdown",
   "id": "674f4a33",
   "metadata": {},
   "source": [
    "# 문제 2"
   ]
  },
  {
   "cell_type": "code",
   "execution_count": 6,
   "id": "f018938d",
   "metadata": {},
   "outputs": [
    {
     "data": {
      "text/plain": [
       "(88.46666666666665, 11.672141572517397)"
      ]
     },
     "execution_count": 6,
     "metadata": {},
     "output_type": "execute_result"
    }
   ],
   "source": [
    "# 전체 데이터의 평균과 표준편차를 알아야 한다.\n",
    "# zscore 데이터 컬럼 생성\n",
    "scores = np.array(_rdd.map(lambda x : float(x[2])).collect())\n",
    "xbar = scores.mean()\n",
    "sig = scores.std()\n",
    "xbar, sig"
   ]
  },
  {
   "cell_type": "code",
   "execution_count": 13,
   "id": "61ae02e2",
   "metadata": {
    "scrolled": true
   },
   "outputs": [
    {
     "name": "stdout",
     "output_type": "stream",
     "text": [
      "root\n",
      " |-- name: string (nullable = true)\n",
      " |-- subject: string (nullable = true)\n",
      " |-- score: float (nullable = true)\n",
      " |-- zscore: float (nullable = true)\n",
      "\n",
      "+------+-------+-----+-----------+\n",
      "|  name|subject|score|     zscore|\n",
      "+------+-------+-----+-----------+\n",
      "|김하나|English|100.0| 0.98810774|\n",
      "|김하나|   Math| 80.0|-0.72537386|\n",
      "|임하나|English| 70.0| -1.5821147|\n",
      "|임하나|   Math|100.0| 0.98810774|\n",
      "|김갑돌|English| 82.3|-0.52832323|\n",
      "|김갑돌|   Math| 98.5|  0.8595966|\n",
      "+------+-------+-----+-----------+\n",
      "\n"
     ]
    }
   ],
   "source": [
    "udf_zscore = udf(lambda x : float((x - xbar) / sig), FloatType())\n",
    "_df = _df.withColumn('zscore', udf_zscore(_df.score))\n",
    "_df.printSchema()\n",
    "_df.show()"
   ]
  },
  {
   "cell_type": "markdown",
   "id": "680efd8c",
   "metadata": {},
   "source": [
    "# 문제 3 (N이 작지 않다고 봤을 때"
   ]
  },
  {
   "cell_type": "code",
   "execution_count": 14,
   "id": "0dbb1f96",
   "metadata": {
    "scrolled": true
   },
   "outputs": [
    {
     "name": "stdout",
     "output_type": "stream",
     "text": [
      "root\n",
      " |-- name: string (nullable = true)\n",
      " |-- subject: string (nullable = true)\n",
      " |-- score: float (nullable = true)\n",
      " |-- zscore: float (nullable = true)\n",
      " |-- cdf: float (nullable = true)\n",
      "\n",
      "+------+-------+-----+-----------+-----------+\n",
      "|  name|subject|score|     zscore|        cdf|\n",
      "+------+-------+-----+-----------+-----------+\n",
      "|김하나|English|100.0| 0.98810774|  0.8384501|\n",
      "|김하나|   Math| 80.0|-0.72537386| 0.23411134|\n",
      "|임하나|English| 70.0| -1.5821147|0.056811694|\n",
      "|임하나|   Math|100.0| 0.98810774|  0.8384501|\n",
      "|김갑돌|English| 82.3|-0.52832323|  0.2986375|\n",
      "|김갑돌|   Math| 98.5|  0.8595966|  0.8049943|\n",
      "+------+-------+-----+-----------+-----------+\n",
      "\n"
     ]
    }
   ],
   "source": [
    "# 각 row의 zscore에 대한 cdf를 구하라는 건가요??\n",
    "udf_cdf = udf(lambda x : float(norm.cdf(x, loc = 0, scale = 1)), FloatType())\n",
    "_df = _df.withColumn('cdf', udf_cdf(_df.zscore))\n",
    "_df.printSchema()\n",
    "_df.show()"
   ]
  },
  {
   "cell_type": "markdown",
   "id": "d1344138",
   "metadata": {},
   "source": [
    "# 문제 3 (N이 작다고 봤을 때 (t score)"
   ]
  },
  {
   "cell_type": "code",
   "execution_count": 16,
   "id": "056f68b2",
   "metadata": {
    "scrolled": true
   },
   "outputs": [
    {
     "name": "stdout",
     "output_type": "stream",
     "text": [
      "root\n",
      " |-- name: string (nullable = true)\n",
      " |-- subject: string (nullable = true)\n",
      " |-- score: float (nullable = true)\n",
      " |-- zscore: float (nullable = true)\n",
      " |-- cdf: float (nullable = true)\n",
      " |-- t.cdf: float (nullable = true)\n",
      "\n"
     ]
    },
    {
     "name": "stderr",
     "output_type": "stream",
     "text": [
      "\r",
      "[Stage 9:>                                                          (0 + 1) / 1]\r"
     ]
    },
    {
     "name": "stdout",
     "output_type": "stream",
     "text": [
      "+------+-------+-----+-----------+-----------+----------+\n",
      "|  name|subject|score|     zscore|        cdf|     t.cdf|\n",
      "+------+-------+-----+-----------+-----------+----------+\n",
      "|김하나|English|100.0| 0.98810774|  0.8384501|  0.748096|\n",
      "|김하나|   Math| 80.0|-0.72537386| 0.23411134|0.30024362|\n",
      "|임하나|English| 70.0| -1.5821147|0.056811694| 0.1794198|\n",
      "|임하나|   Math|100.0| 0.98810774|  0.8384501|  0.748096|\n",
      "|김갑돌|English| 82.3|-0.52832323|  0.2986375|0.34528592|\n",
      "|김갑돌|   Math| 98.5|  0.8595966|  0.8049943|0.72601247|\n",
      "+------+-------+-----+-----------+-----------+----------+\n",
      "\n"
     ]
    },
    {
     "name": "stderr",
     "output_type": "stream",
     "text": [
      "\r",
      "                                                                                \r"
     ]
    }
   ],
   "source": [
    "# 각 row의 zscore에 대한 cdf를 구하라는 건가요??\n",
    "udf_cdf = udf(lambda x : float(t.cdf(x, 1, loc = 0, scale = 1)), FloatType())\n",
    "_df = _df.withColumn('t.cdf', udf_cdf(_df.zscore))\n",
    "_df.printSchema()\n",
    "_df.show()"
   ]
  }
 ],
 "metadata": {
  "kernelspec": {
   "display_name": "Python 3 (ipykernel)",
   "language": "python",
   "name": "python3"
  },
  "language_info": {
   "codemirror_mode": {
    "name": "ipython",
    "version": 3
   },
   "file_extension": ".py",
   "mimetype": "text/x-python",
   "name": "python",
   "nbconvert_exporter": "python",
   "pygments_lexer": "ipython3",
   "version": "3.8.11"
  }
 },
 "nbformat": 4,
 "nbformat_minor": 5
}
