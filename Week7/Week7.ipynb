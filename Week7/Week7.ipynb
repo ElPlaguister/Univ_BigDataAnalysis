{
 "cells": [
  {
   "cell_type": "code",
   "execution_count": 1,
   "id": "b9662e83",
   "metadata": {},
   "outputs": [],
   "source": [
    "import pyspark\n",
    "import os"
   ]
  },
  {
   "cell_type": "code",
   "execution_count": 2,
   "id": "7a828535",
   "metadata": {
    "scrolled": true
   },
   "outputs": [
    {
     "name": "stderr",
     "output_type": "stream",
     "text": [
      "21/10/18 07:29:51 WARN Utils: Your hostname, Kritiasui-MacBookAir.local resolves to a loopback address: 127.0.0.1; using 172.30.1.51 instead (on interface en0)\n",
      "21/10/18 07:29:51 WARN Utils: Set SPARK_LOCAL_IP if you need to bind to another address\n",
      "21/10/18 07:29:52 WARN NativeCodeLoader: Unable to load native-hadoop library for your platform... using builtin-java classes where applicable\n",
      "Using Spark's default log4j profile: org/apache/spark/log4j-defaults.properties\n",
      "Setting default log level to \"WARN\".\n",
      "To adjust logging level use sc.setLogLevel(newLevel). For SparkR, use setLogLevel(newLevel).\n"
     ]
    }
   ],
   "source": [
    "myConf = pyspark.SparkConf()\n",
    "spark = pyspark.sql.SparkSession\\\n",
    ".builder\\\n",
    ".master('local')\\\n",
    ".appName('myApp')\\\n",
    ".config(conf=myConf)\\\n",
    ".getOrCreate()"
   ]
  },
  {
   "cell_type": "markdown",
   "id": "956e8528",
   "metadata": {},
   "source": [
    "# 데이터 준비"
   ]
  },
  {
   "cell_type": "code",
   "execution_count": 3,
   "id": "a8252a30",
   "metadata": {},
   "outputs": [],
   "source": [
    "import requests\n",
    "import json\n",
    "from pyspark.sql import Row\n",
    "r = requests.get('https://raw.githubusercontent.com/jokecamp/FootballData/master/World%20Cups/all-world-cup-players.json')\n",
    "wc = r.json()\n",
    "wcDf = spark.createDataFrame(Row(**x) for x in wc)"
   ]
  },
  {
   "cell_type": "markdown",
   "id": "12e73095",
   "metadata": {},
   "source": [
    "# Spark SQL"
   ]
  },
  {
   "cell_type": "code",
   "execution_count": 4,
   "id": "6282f12c",
   "metadata": {},
   "outputs": [
    {
     "name": "stdout",
     "output_type": "stream",
     "text": [
      "root\n",
      " |-- Competition: string (nullable = true)\n",
      " |-- Year: long (nullable = true)\n",
      " |-- Team: string (nullable = true)\n",
      " |-- Number: string (nullable = true)\n",
      " |-- Position: string (nullable = true)\n",
      " |-- FullName: string (nullable = true)\n",
      " |-- Club: string (nullable = true)\n",
      " |-- ClubCountry: string (nullable = true)\n",
      " |-- DateOfBirth: string (nullable = true)\n",
      " |-- IsCaptain: boolean (nullable = true)\n",
      "\n"
     ]
    }
   ],
   "source": [
    "wcDf.printSchema()"
   ]
  },
  {
   "cell_type": "code",
   "execution_count": 5,
   "id": "8c2c63fe",
   "metadata": {
    "scrolled": true
   },
   "outputs": [
    {
     "name": "stderr",
     "output_type": "stream",
     "text": [
      "\r",
      "[Stage 0:>                                                          (0 + 0) / 1]\r",
      "\r",
      "[Stage 0:>                                                          (0 + 1) / 1]\r"
     ]
    },
    {
     "name": "stdout",
     "output_type": "stream",
     "text": [
      "+--------------------+---------+----+\n",
      "|                Club|     Team|Year|\n",
      "+--------------------+---------+----+\n",
      "|Club AtlÃ©tico Ta...|Argentina|1930|\n",
      "+--------------------+---------+----+\n",
      "only showing top 1 row\n",
      "\n"
     ]
    },
    {
     "name": "stderr",
     "output_type": "stream",
     "text": [
      "\r",
      "                                                                                \r"
     ]
    }
   ],
   "source": [
    "# 임시테이블 뷰 wc를 만들고 SQL문으로 데이터 조회\n",
    "wcDf.createOrReplaceTempView('wc')\n",
    "spark.sql('select Club,Team,Year from wc').show(1)"
   ]
  },
  {
   "cell_type": "code",
   "execution_count": 6,
   "id": "26a55c96",
   "metadata": {
    "scrolled": false
   },
   "outputs": [
    {
     "name": "stdout",
     "output_type": "stream",
     "text": [
      "+------------+--------------------+---------+----+\n",
      "|    FullName|                Club|     Team|Year|\n",
      "+------------+--------------------+---------+----+\n",
      "|Ãngel Bossio|Club AtlÃ©tico Ta...|Argentina|1930|\n",
      "+------------+--------------------+---------+----+\n",
      "only showing top 1 row\n",
      "\n"
     ]
    },
    {
     "data": {
      "text/plain": [
       "pyspark.sql.dataframe.DataFrame"
      ]
     },
     "execution_count": 6,
     "metadata": {},
     "output_type": "execute_result"
    }
   ],
   "source": [
    "# for문으로 출력하기 위해 변수에 할당시킨다.\n",
    "wcPlayers = spark.sql('select FullName,Club,Team,Year from wc')\n",
    "wcPlayers.show(1)\n",
    "type(wcPlayers)"
   ]
  },
  {
   "cell_type": "code",
   "execution_count": 7,
   "id": "a43cbb64",
   "metadata": {},
   "outputs": [
    {
     "data": {
      "text/plain": [
       "[Table(name='wc', database=None, description=None, tableType='TEMPORARY', isTemporary=True)]"
      ]
     },
     "execution_count": 7,
     "metadata": {},
     "output_type": "execute_result"
    }
   ],
   "source": [
    "# 현재까지 만들어둔 테이블 목록 가져오기\n",
    "spark.catalog.listTables()"
   ]
  },
  {
   "cell_type": "code",
   "execution_count": 8,
   "id": "603cbd74",
   "metadata": {},
   "outputs": [
    {
     "name": "stdout",
     "output_type": "stream",
     "text": [
      "Full name: Ãngel Bossio\n",
      "Full name: Juan Botasso\n",
      "Full name: Roberto Cherro\n",
      "Full name: Alberto Chividini\n",
      "Full name: \n"
     ]
    },
    {
     "data": {
      "text/plain": [
       "pyspark.rdd.PipelinedRDD"
      ]
     },
     "execution_count": 8,
     "metadata": {},
     "output_type": "execute_result"
    }
   ],
   "source": [
    "namesRdd = wcPlayers.rdd.map(lambda x : 'Full name: ' + x[0])\n",
    "for e in namesRdd.take(5):\n",
    "    print(e)\n",
    "type(namesRdd)"
   ]
  },
  {
   "cell_type": "code",
   "execution_count": 9,
   "id": "30e5ba06",
   "metadata": {},
   "outputs": [
    {
     "name": "stdout",
     "output_type": "stream",
     "text": [
      "+--------+----------------------------+\n",
      "|bucketId|items                       |\n",
      "+--------+----------------------------+\n",
      "|1       |[orange, apple, pineapple]  |\n",
      "|2       |[watermelon, apple, bananas]|\n",
      "+--------+----------------------------+\n",
      "\n"
     ]
    }
   ],
   "source": [
    "bucketDf = spark.createDataFrame([[1, ['orange', 'apple', 'pineapple']], \\\n",
    "                                  [2, ['watermelon', 'apple', 'bananas']]], \\\n",
    "                                 ['bucketId', 'items'])\n",
    "bucketDf.show(truncate = False)"
   ]
  },
  {
   "cell_type": "code",
   "execution_count": 10,
   "id": "de86c179",
   "metadata": {},
   "outputs": [
    {
     "name": "stdout",
     "output_type": "stream",
     "text": [
      "+--------+----------+\n",
      "|bucketId|      item|\n",
      "+--------+----------+\n",
      "|       1|    orange|\n",
      "|       1|     apple|\n",
      "|       1| pineapple|\n",
      "|       2|watermelon|\n",
      "|       2|     apple|\n",
      "|       2|   bananas|\n",
      "+--------+----------+\n",
      "\n"
     ]
    }
   ],
   "source": [
    "# explode : 컬럼에 list나 array가 포함된 경우, flat해서 새로운 컬럼을 생성한다.\n",
    "from pyspark.sql.functions import explode\n",
    "bDf = bucketDf.select(bucketDf.bucketId, explode(bucketDf.items).alias('item'))\n",
    "bDf.show()"
   ]
  },
  {
   "cell_type": "code",
   "execution_count": 11,
   "id": "f6d70c60",
   "metadata": {},
   "outputs": [],
   "source": [
    "fDf = spark.createDataFrame([['orange', 'F1'],\\\n",
    "                            ['', 'F2'],\\\n",
    "                            ['pineapple', 'F3'],\\\n",
    "                            ['watermelon', 'F4'],\\\n",
    "                            ['bananas', 'F5'],],\n",
    "                           ['item', 'itemId'])"
   ]
  },
  {
   "cell_type": "code",
   "execution_count": 12,
   "id": "fcf0e1a6",
   "metadata": {},
   "outputs": [
    {
     "name": "stdout",
     "output_type": "stream",
     "text": [
      "+----------+------+\n",
      "|      item|itemId|\n",
      "+----------+------+\n",
      "|    orange|    F1|\n",
      "|          |    F2|\n",
      "| pineapple|    F3|\n",
      "|watermelon|    F4|\n",
      "|   bananas|    F5|\n",
      "+----------+------+\n",
      "\n"
     ]
    }
   ],
   "source": [
    "fDf.show()"
   ]
  },
  {
   "cell_type": "markdown",
   "id": "88a2ce21",
   "metadata": {},
   "source": [
    "## Join\n",
    "- inner, cross, outer, full, full_outer, left, left_outer, right, right_outer, left_semi, left_anti.."
   ]
  },
  {
   "cell_type": "code",
   "execution_count": 13,
   "id": "a8ad2a37",
   "metadata": {},
   "outputs": [],
   "source": [
    "joinDf = fDf.join(bDf, fDf.item == bDf.item, 'inner')"
   ]
  },
  {
   "cell_type": "code",
   "execution_count": 14,
   "id": "0337172d",
   "metadata": {},
   "outputs": [
    {
     "name": "stderr",
     "output_type": "stream",
     "text": [
      "[Stage 21:=======================================>                (53 + 1) / 75]\r"
     ]
    },
    {
     "name": "stdout",
     "output_type": "stream",
     "text": [
      "+------+----------+--------+\n",
      "|itemId|      item|bucketId|\n",
      "+------+----------+--------+\n",
      "|    F5|   bananas|       2|\n",
      "|    F1|    orange|       1|\n",
      "|    F3| pineapple|       1|\n",
      "|    F4|watermelon|       2|\n",
      "+------+----------+--------+\n",
      "\n"
     ]
    },
    {
     "name": "stderr",
     "output_type": "stream",
     "text": [
      "\r",
      "[Stage 21:=====================================================>  (72 + 1) / 75]\r",
      "\r",
      "                                                                                \r"
     ]
    }
   ],
   "source": [
    "joinDf.select(fDf.itemId, fDf.item, bDf.bucketId).show()"
   ]
  },
  {
   "cell_type": "markdown",
   "id": "4d1aa417",
   "metadata": {},
   "source": [
    "# 네트워크에 불법적으로 침입하는 사용자의 분석"
   ]
  },
  {
   "cell_type": "code",
   "execution_count": 15,
   "id": "d6bd90b9",
   "metadata": {},
   "outputs": [],
   "source": [
    "_url = 'http://kdd.ics.uci.edu/databases/kddcup99/kddcup.data_10_percent.gz'\n",
    "_fname = os.path.join(os.getcwd(), 'data', 'kddcup.data_10_percent.gz')"
   ]
  },
  {
   "cell_type": "code",
   "execution_count": 17,
   "id": "22ae2ea1",
   "metadata": {
    "scrolled": true
   },
   "outputs": [
    {
     "name": "stdout",
     "output_type": "stream",
     "text": [
      "/Users/elplaguister/Workspace/Univ_BigDataAnalysis/Week7/data/kddcup.data_10_percent.gz data does not exist! retrieving..\n"
     ]
    }
   ],
   "source": [
    "import os\n",
    "import urllib\n",
    "\n",
    "if(not os.path.exists(_fname)):\n",
    "    print('{} data does not exist! retrieving..'.format(_fname))\n",
    "    _f = urllib.request.urlretrieve(_url, _fname)"
   ]
  },
  {
   "cell_type": "markdown",
   "id": "5f19cc2f",
   "metadata": {},
   "source": [
    "1. 파일 -> RDD : 가능\n",
    "2. 파일 -> DF : 불가능\n",
    "3. 파일 -> RDD -> DF : 가능"
   ]
  },
  {
   "cell_type": "code",
   "execution_count": 18,
   "id": "2ee5cf2a",
   "metadata": {},
   "outputs": [
    {
     "name": "stderr",
     "output_type": "stream",
     "text": [
      "                                                                                \r"
     ]
    },
    {
     "data": {
      "text/plain": [
       "494021"
      ]
     },
     "execution_count": 18,
     "metadata": {},
     "output_type": "execute_result"
    }
   ],
   "source": [
    "_rdd = spark.sparkContext.textFile(_fname)\n",
    "_rdd.count()"
   ]
  },
  {
   "cell_type": "code",
   "execution_count": 19,
   "id": "bdfc5bc2",
   "metadata": {},
   "outputs": [
    {
     "data": {
      "text/plain": [
       "['0,tcp,http,SF,181,5450,0,0,0,0,0,1,0,0,0,0,0,0,0,0,0,0,8,8,0.00,0.00,0.00,0.00,1.00,0.00,0.00,9,9,1.00,0.00,0.11,0.00,0.00,0.00,0.00,0.00,normal.']"
      ]
     },
     "execution_count": 19,
     "metadata": {},
     "output_type": "execute_result"
    }
   ],
   "source": [
    "_rdd.take(1)"
   ]
  },
  {
   "cell_type": "code",
   "execution_count": 20,
   "id": "57f9e89f",
   "metadata": {},
   "outputs": [],
   "source": [
    "_allRdd = _rdd.map(lambda x : x.split(','))"
   ]
  },
  {
   "cell_type": "code",
   "execution_count": 21,
   "id": "195e3faf",
   "metadata": {
    "scrolled": true
   },
   "outputs": [
    {
     "data": {
      "text/plain": [
       "[['0',\n",
       "  'tcp',\n",
       "  'http',\n",
       "  'SF',\n",
       "  '181',\n",
       "  '5450',\n",
       "  '0',\n",
       "  '0',\n",
       "  '0',\n",
       "  '0',\n",
       "  '0',\n",
       "  '1',\n",
       "  '0',\n",
       "  '0',\n",
       "  '0',\n",
       "  '0',\n",
       "  '0',\n",
       "  '0',\n",
       "  '0',\n",
       "  '0',\n",
       "  '0',\n",
       "  '0',\n",
       "  '8',\n",
       "  '8',\n",
       "  '0.00',\n",
       "  '0.00',\n",
       "  '0.00',\n",
       "  '0.00',\n",
       "  '1.00',\n",
       "  '0.00',\n",
       "  '0.00',\n",
       "  '9',\n",
       "  '9',\n",
       "  '1.00',\n",
       "  '0.00',\n",
       "  '0.11',\n",
       "  '0.00',\n",
       "  '0.00',\n",
       "  '0.00',\n",
       "  '0.00',\n",
       "  '0.00',\n",
       "  'normal.']]"
      ]
     },
     "execution_count": 21,
     "metadata": {},
     "output_type": "execute_result"
    }
   ],
   "source": [
    "_allRdd.take(1)"
   ]
  },
  {
   "cell_type": "code",
   "execution_count": 23,
   "id": "cb5f84a6",
   "metadata": {},
   "outputs": [],
   "source": [
    "# 정상, 공격 건수\n",
    "# 정상이면 normal, 공격이면 attack\n",
    "_normalRdd = _allRdd.filter(lambda x: x[41] == 'normal.')\n",
    "_attackRdd = _allRdd.filter(lambda x: x[41] != 'normal.')"
   ]
  },
  {
   "cell_type": "code",
   "execution_count": 24,
   "id": "90ac3b7d",
   "metadata": {},
   "outputs": [
    {
     "name": "stderr",
     "output_type": "stream",
     "text": [
      "                                                                                \r"
     ]
    },
    {
     "data": {
      "text/plain": [
       "(97278, 396743)"
      ]
     },
     "execution_count": 24,
     "metadata": {},
     "output_type": "execute_result"
    }
   ],
   "source": [
    "_normalRdd.count(), _attackRdd.count()"
   ]
  },
  {
   "cell_type": "markdown",
   "id": "5884b66f",
   "metadata": {},
   "source": [
    "# attack별 건수\n",
    "- DOS, R2L, U2R, probing"
   ]
  },
  {
   "cell_type": "code",
   "execution_count": 25,
   "id": "e1493ed0",
   "metadata": {
    "collapsed": true
   },
   "outputs": [
    {
     "name": "stderr",
     "output_type": "stream",
     "text": [
      "                                                                                \r"
     ]
    },
    {
     "data": {
      "text/plain": [
       "[('normal.', 97278),\n",
       " ('buffer_overflow.', 30),\n",
       " ('loadmodule.', 9),\n",
       " ('perl.', 3),\n",
       " ('neptune.', 107201),\n",
       " ('smurf.', 280790),\n",
       " ('guess_passwd.', 53),\n",
       " ('pod.', 264),\n",
       " ('teardrop.', 979),\n",
       " ('portsweep.', 1040),\n",
       " ('ipsweep.', 1247),\n",
       " ('land.', 21),\n",
       " ('ftp_write.', 8),\n",
       " ('back.', 2203),\n",
       " ('imap.', 12),\n",
       " ('satan.', 1589),\n",
       " ('phf.', 4),\n",
       " ('nmap.', 231),\n",
       " ('multihop.', 7),\n",
       " ('warezmaster.', 20),\n",
       " ('warezclient.', 1020),\n",
       " ('spy.', 2),\n",
       " ('rootkit.', 10)]"
      ]
     },
     "execution_count": 25,
     "metadata": {},
     "output_type": "execute_result"
    }
   ],
   "source": [
    "# reduceByKey 이용\n",
    "_41 = _allRdd.map(lambda x: (x[41], 1))\n",
    "_41.reduceByKey(lambda x,y: x+y).collect()"
   ]
  },
  {
   "cell_type": "code",
   "execution_count": 27,
   "id": "6120d983",
   "metadata": {
    "collapsed": true
   },
   "outputs": [
    {
     "name": "stderr",
     "output_type": "stream",
     "text": [
      "                                                                                \r"
     ]
    },
    {
     "data": {
      "text/plain": [
       "[('normal.', 97278),\n",
       " ('buffer_overflow.', 30),\n",
       " ('loadmodule.', 9),\n",
       " ('perl.', 3),\n",
       " ('neptune.', 107201),\n",
       " ('smurf.', 280790),\n",
       " ('guess_passwd.', 53),\n",
       " ('pod.', 264),\n",
       " ('teardrop.', 979),\n",
       " ('portsweep.', 1040),\n",
       " ('ipsweep.', 1247),\n",
       " ('land.', 21),\n",
       " ('ftp_write.', 8),\n",
       " ('back.', 2203),\n",
       " ('imap.', 12),\n",
       " ('satan.', 1589),\n",
       " ('phf.', 4),\n",
       " ('nmap.', 231),\n",
       " ('multihop.', 7),\n",
       " ('warezmaster.', 20),\n",
       " ('warezclient.', 1020),\n",
       " ('spy.', 2),\n",
       " ('rootkit.', 10)]"
      ]
     },
     "execution_count": 27,
     "metadata": {},
     "output_type": "execute_result"
    }
   ],
   "source": [
    "# groupByKey.mapValues 이용\n",
    "def f(x): return len(x)\n",
    "_41.groupByKey().mapValues(f).collect()"
   ]
  },
  {
   "cell_type": "markdown",
   "id": "3830b909",
   "metadata": {},
   "source": [
    "# Dataframe 생성"
   ]
  },
  {
   "cell_type": "code",
   "execution_count": 29,
   "id": "bdc3d8bf",
   "metadata": {},
   "outputs": [],
   "source": [
    "from pyspark.sql import Row\n",
    "\n",
    "_csv = _rdd.map(lambda l: l.split(','))\n",
    "_csvRdd = _csv.map(lambda p:\n",
    "                  Row(\n",
    "                  duration = int(p[0]),\n",
    "                  protocol = p[1],\n",
    "                  service = p[2],\n",
    "                  flag = p[3],\n",
    "                  src_bytes = int(p[4]),\n",
    "                  dst_bytes = int(p[5]),\n",
    "                  attack = p[41]\n",
    "                  )\n",
    "                  )"
   ]
  },
  {
   "cell_type": "code",
   "execution_count": 30,
   "id": "455add24",
   "metadata": {},
   "outputs": [
    {
     "name": "stdout",
     "output_type": "stream",
     "text": [
      "root\n",
      " |-- duration: long (nullable = true)\n",
      " |-- protocol: string (nullable = true)\n",
      " |-- service: string (nullable = true)\n",
      " |-- flag: string (nullable = true)\n",
      " |-- src_bytes: long (nullable = true)\n",
      " |-- dst_bytes: long (nullable = true)\n",
      " |-- attack: string (nullable = true)\n",
      "\n",
      "+--------+--------+-------+----+---------+---------+-------+\n",
      "|duration|protocol|service|flag|src_bytes|dst_bytes| attack|\n",
      "+--------+--------+-------+----+---------+---------+-------+\n",
      "|       0|     tcp|   http|  SF|      181|     5450|normal.|\n",
      "|       0|     tcp|   http|  SF|      239|      486|normal.|\n",
      "|       0|     tcp|   http|  SF|      235|     1337|normal.|\n",
      "|       0|     tcp|   http|  SF|      219|     1337|normal.|\n",
      "|       0|     tcp|   http|  SF|      217|     2032|normal.|\n",
      "+--------+--------+-------+----+---------+---------+-------+\n",
      "only showing top 5 rows\n",
      "\n"
     ]
    }
   ],
   "source": [
    "_df = spark.createDataFrame(_csvRdd)\n",
    "_df.printSchema()\n",
    "_df.show(5)"
   ]
  },
  {
   "cell_type": "markdown",
   "id": "1b7e8d54",
   "metadata": {},
   "source": [
    "# Attack Classification"
   ]
  },
  {
   "cell_type": "code",
   "execution_count": 33,
   "id": "66c8a843",
   "metadata": {},
   "outputs": [],
   "source": [
    "from pyspark.sql.functions import udf\n",
    "from pyspark.sql.types import *\n",
    "attack_udf = udf(lambda x: 'normal' if x == 'normal.' else 'attack', StringType())\n",
    "myDf = _df.withColumn('attackB', attack_udf(_df.attack))"
   ]
  },
  {
   "cell_type": "code",
   "execution_count": 34,
   "id": "f260483b",
   "metadata": {
    "scrolled": true
   },
   "outputs": [
    {
     "name": "stdout",
     "output_type": "stream",
     "text": [
      "root\n",
      " |-- duration: long (nullable = true)\n",
      " |-- protocol: string (nullable = true)\n",
      " |-- service: string (nullable = true)\n",
      " |-- flag: string (nullable = true)\n",
      " |-- src_bytes: long (nullable = true)\n",
      " |-- dst_bytes: long (nullable = true)\n",
      " |-- attack: string (nullable = true)\n",
      " |-- attackB: string (nullable = true)\n",
      "\n"
     ]
    }
   ],
   "source": [
    "myDf.printSchema()"
   ]
  },
  {
   "cell_type": "code",
   "execution_count": 35,
   "id": "edd1a98a",
   "metadata": {},
   "outputs": [],
   "source": [
    "def classify41(s):\n",
    "    _5=\"\"\n",
    "    if s==\"normal.\":\n",
    "        _5=\"normal\"\n",
    "    elif s==\"back.\" or s==\"land.\" or s==\"neptune.\" or s==\"pod.\" or s==\"smurf.\" or s==\"teardrop.\":\n",
    "        _5=\"dos\"\n",
    "    elif s==\"ftp_write.\" or s==\"guess_passwd.\" or s==\"imap.\" or s==\"multihop.\" or s==\"phf.\" or\\\n",
    "        s==\"spy.\" or s==\"warezclient.\" or s==\"warezmaster.\":\n",
    "        _5=\"r2l\"\n",
    "    elif s==\"buffer_overflow.\" or s==\"loadmodule.\" or s==\"perl.\" or s==\"rootkit.\":\n",
    "        _5=\"u2r\"\n",
    "    elif s==\"ipsweep.\" or s==\"nmap.\" or s==\"portsweep.\" or s==\"satan.\":\n",
    "        _5=\"probing\"\n",
    "    return _5\n",
    "\n",
    "attack5_udf = udf(classify41, StringType())"
   ]
  },
  {
   "cell_type": "code",
   "execution_count": 37,
   "id": "c12c52bc",
   "metadata": {},
   "outputs": [
    {
     "name": "stdout",
     "output_type": "stream",
     "text": [
      "root\n",
      " |-- duration: long (nullable = true)\n",
      " |-- protocol: string (nullable = true)\n",
      " |-- service: string (nullable = true)\n",
      " |-- flag: string (nullable = true)\n",
      " |-- src_bytes: long (nullable = true)\n",
      " |-- dst_bytes: long (nullable = true)\n",
      " |-- attack: string (nullable = true)\n",
      " |-- attackB: string (nullable = true)\n",
      " |-- attack5: string (nullable = true)\n",
      "\n"
     ]
    },
    {
     "name": "stderr",
     "output_type": "stream",
     "text": [
      "\r",
      "[Stage 33:>                                                         (0 + 1) / 1]\r",
      "\r",
      "                                                                                \r"
     ]
    },
    {
     "data": {
      "text/plain": [
       "[Row(duration=0, protocol='tcp', service='http', flag='SF', src_bytes=181, dst_bytes=5450, attack='normal.', attackB='normal', attack5='normal')]"
      ]
     },
     "execution_count": 37,
     "metadata": {},
     "output_type": "execute_result"
    },
    {
     "name": "stderr",
     "output_type": "stream",
     "text": [
      "Traceback (most recent call last):\n",
      "  File \"/Users/elplaguister/opt/anaconda3/envs/Analysis/lib/python3.8/site-packages/pyspark/python/lib/pyspark.zip/pyspark/daemon.py\", line 186, in manager\n",
      "  File \"/Users/elplaguister/opt/anaconda3/envs/Analysis/lib/python3.8/site-packages/pyspark/python/lib/pyspark.zip/pyspark/daemon.py\", line 74, in worker\n",
      "  File \"/Users/elplaguister/opt/anaconda3/envs/Analysis/lib/python3.8/site-packages/pyspark/python/lib/pyspark.zip/pyspark/worker.py\", line 643, in main\n",
      "    if read_int(infile) == SpecialLengths.END_OF_STREAM:\n",
      "  File \"/Users/elplaguister/opt/anaconda3/envs/Analysis/lib/python3.8/site-packages/pyspark/python/lib/pyspark.zip/pyspark/serializers.py\", line 564, in read_int\n",
      "    raise EOFError\n",
      "EOFError\n"
     ]
    }
   ],
   "source": [
    "myDf = myDf.withColumn('attack5', attack5_udf(_df.attack))\n",
    "myDf.printSchema()\n",
    "myDf.take(1)"
   ]
  },
  {
   "cell_type": "code",
   "execution_count": 38,
   "id": "e838dce5",
   "metadata": {},
   "outputs": [
    {
     "name": "stderr",
     "output_type": "stream",
     "text": [
      "                                                                                \r"
     ]
    },
    {
     "name": "stdout",
     "output_type": "stream",
     "text": [
      "+-------+------+\n",
      "|attack5| count|\n",
      "+-------+------+\n",
      "|probing|  4107|\n",
      "|    u2r|    52|\n",
      "| normal| 97278|\n",
      "|    r2l|  1126|\n",
      "|    dos|391458|\n",
      "+-------+------+\n",
      "\n"
     ]
    }
   ],
   "source": [
    "myDf.groupBy('attack5').count().show()"
   ]
  },
  {
   "cell_type": "code",
   "execution_count": 40,
   "id": "674281d6",
   "metadata": {},
   "outputs": [
    {
     "name": "stderr",
     "output_type": "stream",
     "text": [
      "                                                                                \r"
     ]
    },
    {
     "name": "stdout",
     "output_type": "stream",
     "text": [
      "+--------+------+\n",
      "|protocol| count|\n",
      "+--------+------+\n",
      "|     tcp|190065|\n",
      "|     udp| 20354|\n",
      "|    icmp|283602|\n",
      "+--------+------+\n",
      "\n"
     ]
    }
   ],
   "source": [
    "myDf.groupBy('protocol').count().show()"
   ]
  },
  {
   "cell_type": "code",
   "execution_count": 41,
   "id": "67d9acee",
   "metadata": {},
   "outputs": [
    {
     "name": "stderr",
     "output_type": "stream",
     "text": [
      "                                                                                \r"
     ]
    },
    {
     "name": "stdout",
     "output_type": "stream",
     "text": [
      "+-------+--------+------+\n",
      "|attackB|protocol| count|\n",
      "+-------+--------+------+\n",
      "| normal|     udp| 19177|\n",
      "| normal|    icmp|  1288|\n",
      "| normal|     tcp| 76813|\n",
      "| attack|    icmp|282314|\n",
      "| attack|     tcp|113252|\n",
      "| attack|     udp|  1177|\n",
      "+-------+--------+------+\n",
      "\n"
     ]
    }
   ],
   "source": [
    "myDf.groupBy('attackB', 'protocol').count().show()"
   ]
  },
  {
   "cell_type": "code",
   "execution_count": 43,
   "id": "5072b616",
   "metadata": {},
   "outputs": [
    {
     "name": "stderr",
     "output_type": "stream",
     "text": [
      "                                                                                \r"
     ]
    },
    {
     "name": "stdout",
     "output_type": "stream",
     "text": [
      "+-------+------+------+-----+\n",
      "|attackB|  icmp|   tcp|  udp|\n",
      "+-------+------+------+-----+\n",
      "| normal|  1288| 76813|19177|\n",
      "| attack|282314|113252| 1177|\n",
      "+-------+------+------+-----+\n",
      "\n"
     ]
    }
   ],
   "source": [
    "#pivot\n",
    "myDf.groupBy('attackB').pivot('protocol').count().show()"
   ]
  },
  {
   "cell_type": "code",
   "execution_count": 44,
   "id": "2a0e2a99",
   "metadata": {},
   "outputs": [
    {
     "name": "stderr",
     "output_type": "stream",
     "text": [
      "                                                                                \r"
     ]
    },
    {
     "name": "stdout",
     "output_type": "stream",
     "text": [
      "+-------+------------------+------------------+------------------+\n",
      "|attack5|              icmp|               tcp|               udp|\n",
      "+-------+------------------+------------------+------------------+\n",
      "|probing|10.700793650793651| 261454.6003016591|25.235897435897435|\n",
      "|    u2r|              null| 960.8979591836735|13.333333333333334|\n",
      "| normal| 91.47049689440993|1439.3120305156679| 98.01220211711947|\n",
      "|    r2l|              null|271972.57460035523|              null|\n",
      "|    dos| 936.2672084368129| 1090.303422435458|              28.0|\n",
      "+-------+------------------+------------------+------------------+\n",
      "\n"
     ]
    }
   ],
   "source": [
    "myDf.groupBy('attack5').pivot('protocol').avg('src_bytes').show()"
   ]
  },
  {
   "cell_type": "code",
   "execution_count": 45,
   "id": "6597e446",
   "metadata": {},
   "outputs": [
    {
     "name": "stderr",
     "output_type": "stream",
     "text": [
      "                                                                                \r"
     ]
    },
    {
     "name": "stdout",
     "output_type": "stream",
     "text": [
      "+-------+--------------------+\n",
      "|attack5|       avg(duration)|\n",
      "+-------+--------------------+\n",
      "|probing|   485.0299488677867|\n",
      "|    u2r|    80.9423076923077|\n",
      "| normal|  216.65732231336992|\n",
      "|    r2l|   559.7522202486679|\n",
      "|    dos|7.254929008986916E-4|\n",
      "+-------+--------------------+\n",
      "\n"
     ]
    }
   ],
   "source": [
    "myDf.groupBy('attack5').avg('duration').show()"
   ]
  },
  {
   "cell_type": "code",
   "execution_count": 48,
   "id": "fd2006b9",
   "metadata": {},
   "outputs": [
    {
     "name": "stderr",
     "output_type": "stream",
     "text": [
      "                                                                                \r"
     ]
    },
    {
     "name": "stdout",
     "output_type": "stream",
     "text": [
      "+-------+----+-------+---+\n",
      "|attackB|icmp|    tcp|udp|\n",
      "+-------+----+-------+---+\n",
      "| normal|   0|5134218|516|\n",
      "| attack|   0|5155468| 74|\n",
      "+-------+----+-------+---+\n",
      "\n"
     ]
    }
   ],
   "source": [
    "from pyspark.sql import functions as F\n",
    "myDf.groupBy('attackB').pivot('protocol').agg(F.max('dst_bytes')).show()"
   ]
  },
  {
   "cell_type": "code",
   "execution_count": 50,
   "id": "5d62af4e",
   "metadata": {
    "scrolled": true
   },
   "outputs": [
    {
     "name": "stderr",
     "output_type": "stream",
     "text": [
      "                                                                                \r"
     ]
    },
    {
     "name": "stdout",
     "output_type": "stream",
     "text": [
      "+--------+-----+\n",
      "|protocol|count|\n",
      "+--------+-----+\n",
      "|     tcp|  139|\n",
      "+--------+-----+\n",
      "\n"
     ]
    }
   ],
   "source": [
    "myDf.select('protocol', 'duration', 'dst_bytes')\\\n",
    ".filter(_df.duration > 1000)\\\n",
    ".filter(_df.dst_bytes == 0)\\\n",
    ".groupBy('protocol')\\\n",
    ".count()\\\n",
    ".show()"
   ]
  },
  {
   "cell_type": "markdown",
   "id": "8a9e602e",
   "metadata": {},
   "source": [
    "# SQL"
   ]
  },
  {
   "cell_type": "code",
   "execution_count": 51,
   "id": "c687d7ec",
   "metadata": {},
   "outputs": [],
   "source": [
    "_df.registerTempTable('_tab')\n",
    "tcp_interactions = spark.sql(\n",
    "'''SELECT duration,dst_bytes FROM _tab WHERE protocol='tcp'AND duration > 1000 AND dst_bytes =0\n",
    "''')"
   ]
  },
  {
   "cell_type": "code",
   "execution_count": 53,
   "id": "01e5287b",
   "metadata": {},
   "outputs": [
    {
     "name": "stderr",
     "output_type": "stream",
     "text": [
      "\r",
      "[Stage 172:>                                                        (0 + 1) / 1]\r"
     ]
    },
    {
     "name": "stdout",
     "output_type": "stream",
     "text": [
      "+--------+---------+\n",
      "|duration|dst_bytes|\n",
      "+--------+---------+\n",
      "|    5057|        0|\n",
      "|    5059|        0|\n",
      "|    5051|        0|\n",
      "|    5056|        0|\n",
      "|    5051|        0|\n",
      "+--------+---------+\n",
      "only showing top 5 rows\n",
      "\n"
     ]
    },
    {
     "name": "stderr",
     "output_type": "stream",
     "text": [
      "\r",
      "                                                                                \r"
     ]
    }
   ],
   "source": [
    "tcp_interactions.show(5)"
   ]
  },
  {
   "cell_type": "code",
   "execution_count": 54,
   "id": "4d863a6c",
   "metadata": {},
   "outputs": [],
   "source": [
    "tcp_interactions_out = tcp_interactions.rdd\\\n",
    ".map(lambda p: 'Duration: {}, Dest. bytes: {}'.format(p.duration, p.dst_bytes))"
   ]
  },
  {
   "cell_type": "code",
   "execution_count": 55,
   "id": "37417811",
   "metadata": {},
   "outputs": [
    {
     "name": "stderr",
     "output_type": "stream",
     "text": [
      "\r",
      "[Stage 173:>                                                        (0 + 1) / 1]\r"
     ]
    },
    {
     "name": "stdout",
     "output_type": "stream",
     "text": [
      "Duration: 5057, Dest. bytes: 0\n",
      "Duration: 5043, Dest. bytes: 0\n",
      "Duration: 5046, Dest. bytes: 0\n",
      "Duration: 5051, Dest. bytes: 0\n",
      "Duration: 5057, Dest. bytes: 0\n",
      "Duration: 5063, Dest. bytes: 0\n",
      "Duration: 42448, Dest. bytes: 0\n",
      "Duration: 40121, Dest. bytes: 0\n",
      "Duration: 31709, Dest. bytes: 0\n",
      "Duration: 30619, Dest. bytes: 0\n",
      "Duration: 22616, Dest. bytes: 0\n",
      "Duration: 21455, Dest. bytes: 0\n",
      "Duration: 13998, Dest. bytes: 0\n",
      "Duration: 12933, Dest. bytes: 0\n"
     ]
    },
    {
     "name": "stderr",
     "output_type": "stream",
     "text": [
      "\r",
      "                                                                                \r"
     ]
    }
   ],
   "source": [
    "for i, ti_out in enumerate(tcp_interactions_out.collect()):\n",
    "    if(i % 10 == 0):\n",
    "        print(ti_out)"
   ]
  },
  {
   "cell_type": "markdown",
   "id": "c46d883e",
   "metadata": {},
   "source": [
    "# 통계\n",
    "- 샘플링, 분포, 중심극한정리, 분산, zscore, outliers를 배운다.\n",
    "- 그룹 간에 차이가 있는지 통계 추론을 배운다.\n",
    "- 명목 변수에 대한 빈도 분석을 배운다.\n",
    "- 변수 간 상관관계를 배운다."
   ]
  },
  {
   "cell_type": "markdown",
   "id": "e89e0cdc",
   "metadata": {},
   "source": [
    "## 샘플링"
   ]
  },
  {
   "cell_type": "markdown",
   "id": "136e4d43",
   "metadata": {},
   "source": [
    "### 무작위 수"
   ]
  },
  {
   "cell_type": "code",
   "execution_count": 60,
   "id": "52f9d272",
   "metadata": {},
   "outputs": [
    {
     "name": "stdout",
     "output_type": "stream",
     "text": [
      "0.23796462709189137 0.5442292252959519\n"
     ]
    }
   ],
   "source": [
    "import random\n",
    "\n",
    "random.seed(3)\n",
    "print(random.random(), random.random())"
   ]
  },
  {
   "cell_type": "code",
   "execution_count": 62,
   "id": "311a9b88",
   "metadata": {},
   "outputs": [
    {
     "name": "stdout",
     "output_type": "stream",
     "text": [
      "[[0.08359891 0.63150376]\n",
      " [0.44748063 0.18520825]\n",
      " [0.90715448 0.43501525]]\n"
     ]
    }
   ],
   "source": [
    "import numpy as np\n",
    "print(np.random.random((3, 2)))"
   ]
  },
  {
   "cell_type": "code",
   "execution_count": 63,
   "id": "0895edf9",
   "metadata": {},
   "outputs": [
    {
     "data": {
      "text/plain": [
       "-1.942216383035862"
      ]
     },
     "execution_count": 63,
     "metadata": {},
     "output_type": "execute_result"
    }
   ],
   "source": [
    "# rand : 균등 분포\n",
    "# randn : 표준 정규 분포\n",
    "np.random.randn()"
   ]
  },
  {
   "cell_type": "markdown",
   "id": "5a4783aa",
   "metadata": {},
   "source": [
    "np.random.random_sample, random.sample 모두 균등 분포에서 표본을 추출한다."
   ]
  },
  {
   "cell_type": "code",
   "execution_count": 64,
   "id": "a4091c85",
   "metadata": {},
   "outputs": [
    {
     "data": {
      "text/plain": [
       "array([[0.97237925, 0.63535377],\n",
       "       [0.93690497, 0.39525728],\n",
       "       [0.85391854, 0.26958584]])"
      ]
     },
     "execution_count": 64,
     "metadata": {},
     "output_type": "execute_result"
    }
   ],
   "source": [
    "np.random.random_sample((3, 2))"
   ]
  },
  {
   "cell_type": "code",
   "execution_count": 65,
   "id": "e95a7a8e",
   "metadata": {},
   "outputs": [
    {
     "data": {
      "text/plain": [
       "[3, 4]"
      ]
     },
     "execution_count": 65,
     "metadata": {},
     "output_type": "execute_result"
    }
   ],
   "source": [
    "random.sample([1,2,3,4,6], 2)"
   ]
  },
  {
   "cell_type": "code",
   "execution_count": 74,
   "id": "c82bb03e",
   "metadata": {},
   "outputs": [],
   "source": [
    "dice = []\n",
    "for i in range(1000000):\n",
    "    dice.append(random.randrange(1, 7))"
   ]
  },
  {
   "cell_type": "code",
   "execution_count": 75,
   "id": "6b9d0f1d",
   "metadata": {},
   "outputs": [
    {
     "name": "stdout",
     "output_type": "stream",
     "text": [
      "[2, 5, 3, 2, 6, 1, 6, 1, 2, 4]\n"
     ]
    }
   ],
   "source": [
    "print(dice[:10])"
   ]
  },
  {
   "cell_type": "markdown",
   "id": "a2d9205f",
   "metadata": {},
   "source": [
    "## 히스토그램"
   ]
  },
  {
   "cell_type": "code",
   "execution_count": 76,
   "id": "86cdbc2f",
   "metadata": {},
   "outputs": [
    {
     "name": "stdout",
     "output_type": "stream",
     "text": [
      "Dice 1: 166460회\n",
      "Dice 2: 166807회\n",
      "Dice 3: 166450회\n",
      "Dice 4: 167198회\n",
      "Dice 5: 166715회\n",
      "Dice 6: 166370회\n"
     ]
    }
   ],
   "source": [
    "for i in range(1, 7):\n",
    "    print('Dice {}: {}회'.format(i, dice.count(i)))"
   ]
  },
  {
   "cell_type": "code",
   "execution_count": 77,
   "id": "d3e45108",
   "metadata": {},
   "outputs": [
    {
     "data": {
      "image/png": "[encoded data removed]",
      "text/plain": [
       "<Figure size 432x288 with 1 Axes>"
      ]
     },
     "metadata": {
      "needs_background": "light"
     },
     "output_type": "display_data"
    }
   ],
   "source": [
    "%matplotlib inline\n",
    "import matplotlib.pyplot as plt\n",
    "plt.hist(dice)\n",
    "plt.show()"
   ]
  },
  {
   "cell_type": "code",
   "execution_count": 78,
   "id": "cf86c747",
   "metadata": {},
   "outputs": [
    {
     "data": {
      "text/plain": [
       "array([0.5, 1.5, 2.5, 3.5, 4.5, 5.5, 6.5])"
      ]
     },
     "execution_count": 78,
     "metadata": {},
     "output_type": "execute_result"
    }
   ],
   "source": [
    "np.arange(0.5, 7, 1)"
   ]
  },
  {
   "cell_type": "code",
   "execution_count": 79,
   "id": "9e574a95",
   "metadata": {},
   "outputs": [
    {
     "data": {
      "image/png": "[encoded data removed]",
      "text/plain": [
       "<Figure size 432x288 with 1 Axes>"
      ]
     },
     "metadata": {
      "needs_background": "light"
     },
     "output_type": "display_data"
    }
   ],
   "source": [
    "plt.hist(dice, bins = np.arange(0.5, 7))\n",
    "plt.show()"
   ]
  },
  {
   "cell_type": "code",
   "execution_count": 80,
   "id": "5ed46aa3",
   "metadata": {},
   "outputs": [
    {
     "data": {
      "text/plain": [
       "<AxesSubplot:>"
      ]
     },
     "execution_count": 80,
     "metadata": {},
     "output_type": "execute_result"
    },
    {
     "data": {
      "image/png": "[encoded data removed]",
      "text/plain": [
       "<Figure size 432x288 with 1 Axes>"
      ]
     },
     "metadata": {
      "needs_background": "light"
     },
     "output_type": "display_data"
    }
   ],
   "source": [
    "import pandas as pd\n",
    "pd.Series(dice).hist(bins = np.arange(0.5 , 7))"
   ]
  },
  {
   "cell_type": "markdown",
   "id": "9ea08bac",
   "metadata": {},
   "source": [
    "## describe\n",
    "- 기술 통계량"
   ]
  },
  {
   "cell_type": "code",
   "execution_count": 81,
   "id": "fa957b19",
   "metadata": {},
   "outputs": [],
   "source": [
    "s = pd.Series(dice)"
   ]
  },
  {
   "cell_type": "code",
   "execution_count": 82,
   "id": "c445adb5",
   "metadata": {},
   "outputs": [
    {
     "name": "stdout",
     "output_type": "stream",
     "text": [
      "count    1000000.000000\n",
      "mean           3.500011\n",
      "std            1.707052\n",
      "min            1.000000\n",
      "25%            2.000000\n",
      "50%            4.000000\n",
      "75%            5.000000\n",
      "max            6.000000\n",
      "dtype: float64\n"
     ]
    }
   ],
   "source": [
    "print(s.describe())"
   ]
  },
  {
   "cell_type": "markdown",
   "id": "fdb73f49",
   "metadata": {},
   "source": [
    "# 정규분포"
   ]
  },
  {
   "cell_type": "code",
   "execution_count": 83,
   "id": "120e3b1e",
   "metadata": {},
   "outputs": [],
   "source": [
    "import numpy as np\n",
    "comp1 = np.random.normal(0, 1, size = 200)"
   ]
  },
  {
   "cell_type": "code",
   "execution_count": 84,
   "id": "a8547424",
   "metadata": {},
   "outputs": [
    {
     "data": {
      "text/plain": [
       "array([ 1.20601182, -0.43279131, -0.25373855,  0.93872346, -0.19920446])"
      ]
     },
     "execution_count": 84,
     "metadata": {},
     "output_type": "execute_result"
    }
   ],
   "source": [
    "comp1[:5]"
   ]
  },
  {
   "cell_type": "code",
   "execution_count": 85,
   "id": "9790c77f",
   "metadata": {},
   "outputs": [],
   "source": [
    "x = np.random.randn(100)"
   ]
  },
  {
   "cell_type": "code",
   "execution_count": 87,
   "id": "8c64fa82",
   "metadata": {
    "scrolled": true
   },
   "outputs": [
    {
     "name": "stdout",
     "output_type": "stream",
     "text": [
      "[ 2  0  7 12 15 18 23 11  7  5]\n",
      "[-3.07662163 -2.52627432 -1.97592701 -1.4255797  -0.87523239 -0.32488508\n",
      "  0.22546222  0.77580953  1.32615684  1.87650415  2.42685146]\n"
     ]
    }
   ],
   "source": [
    "count, binends = np.histogram(x)\n",
    "print(count)\n",
    "print(binends)"
   ]
  },
  {
   "cell_type": "code",
   "execution_count": 88,
   "id": "f0737352",
   "metadata": {},
   "outputs": [
    {
     "data": {
      "text/plain": [
       "(array([ 2.,  0.,  7., 12., 15., 18., 23., 11.,  7.,  5.]),\n",
       " array([-3.07662163, -2.52627432, -1.97592701, -1.4255797 , -0.87523239,\n",
       "        -0.32488508,  0.22546222,  0.77580953,  1.32615684,  1.87650415,\n",
       "         2.42685146]),\n",
       " <BarContainer object of 10 artists>)"
      ]
     },
     "execution_count": 88,
     "metadata": {},
     "output_type": "execute_result"
    },
    {
     "data": {
      "image/png": "[encoded data removed]",
      "text/plain": [
       "<Figure size 432x288 with 1 Axes>"
      ]
     },
     "metadata": {
      "needs_background": "light"
     },
     "output_type": "display_data"
    }
   ],
   "source": [
    "%matplotlib inline\n",
    "import matplotlib.pyplot as plt\n",
    "plt.hist(x)"
   ]
  },
  {
   "cell_type": "code",
   "execution_count": 91,
   "id": "7f6ff02a",
   "metadata": {},
   "outputs": [
    {
     "data": {
      "text/plain": [
       "<AxesSubplot:>"
      ]
     },
     "execution_count": 91,
     "metadata": {},
     "output_type": "execute_result"
    },
    {
     "data": {
      "image/png": "[encoded data removed]",
      "text/plain": [
       "<Figure size 432x288 with 1 Axes>"
      ]
     },
     "metadata": {
      "needs_background": "light"
     },
     "output_type": "display_data"
    }
   ],
   "source": [
    "import pandas as pd\n",
    "comp2 = np.random.normal(10, 2, size = 200)\n",
    "values = pd.Series(np.concatenate([comp1, comp2]))\n",
    "values.hist()"
   ]
  },
  {
   "cell_type": "code",
   "execution_count": 92,
   "id": "5483fb1a",
   "metadata": {
    "scrolled": true
   },
   "outputs": [
    {
     "data": {
      "image/png": "[encoded data removed]",
      "text/plain": [
       "<Figure size 432x288 with 1 Axes>"
      ]
     },
     "metadata": {
      "needs_background": "light"
     },
     "output_type": "display_data"
    }
   ],
   "source": [
    "values.plot()\n",
    "plt.show()"
   ]
  },
  {
   "cell_type": "markdown",
   "id": "4af4d67f",
   "metadata": {},
   "source": [
    "# 중심극한정리"
   ]
  },
  {
   "cell_type": "code",
   "execution_count": 96,
   "id": "cff3db61",
   "metadata": {
    "scrolled": true
   },
   "outputs": [
    {
     "name": "stdout",
     "output_type": "stream",
     "text": [
      "0.050286064426013695 0.018287213362384445\n"
     ]
    }
   ],
   "source": [
    "x = np.random.randn(100)\n",
    "print(np.mean(x),np.median(x))"
   ]
  },
  {
   "cell_type": "code",
   "execution_count": 97,
   "id": "ad94a641",
   "metadata": {},
   "outputs": [
    {
     "name": "stdout",
     "output_type": "stream",
     "text": [
      "skewness\t:  -0.26857190161311456\n"
     ]
    }
   ],
   "source": [
    "# skewness : 0이면 정규분포 음수면 양의 방향으로 치우침\n",
    "from scipy.stats import skew\n",
    "\n",
    "print('skewness\\t: ', skew(x))"
   ]
  },
  {
   "cell_type": "code",
   "execution_count": 98,
   "id": "5ca19b5a",
   "metadata": {
    "scrolled": true
   },
   "outputs": [
    {
     "name": "stdout",
     "output_type": "stream",
     "text": [
      "kurtosis\t:  -0.20098946315575716\n"
     ]
    }
   ],
   "source": [
    "# kurtosis : 양수일수록 뾰족함\n",
    "from scipy.stats import kurtosis\n",
    "print('kurtosis\\t: ', kurtosis(x))"
   ]
  },
  {
   "cell_type": "code",
   "execution_count": 99,
   "id": "e135b1bf",
   "metadata": {},
   "outputs": [],
   "source": [
    "import pandas as pd\n",
    "xPd = pd.DataFrame(x, columns = ['x'], dtype = float)\n",
    "df = spark.createDataFrame(xPd)"
   ]
  },
  {
   "cell_type": "code",
   "execution_count": 100,
   "id": "8fc4d9e4",
   "metadata": {},
   "outputs": [
    {
     "name": "stdout",
     "output_type": "stream",
     "text": [
      "+--------------------+--------------------+\n",
      "|         skewness(x)|         kurtosis(x)|\n",
      "+--------------------+--------------------+\n",
      "|-0.26857190161311456|-0.20098946315575672|\n",
      "+--------------------+--------------------+\n",
      "\n"
     ]
    }
   ],
   "source": [
    "from pyspark.sql import functions as f\n",
    "df.select(f.skewness(df['x']), f.kurtosis(df['x'])).show()"
   ]
  },
  {
   "cell_type": "markdown",
   "id": "dd403e17",
   "metadata": {},
   "source": [
    "## 분산"
   ]
  },
  {
   "cell_type": "code",
   "execution_count": 101,
   "id": "b5967905",
   "metadata": {},
   "outputs": [],
   "source": [
    "X = x\n"
   ]
  },
  {
   "cell_type": "code",
   "execution_count": 107,
   "id": "d4bb6e92",
   "metadata": {},
   "outputs": [
    {
     "name": "stdout",
     "output_type": "stream",
     "text": [
      "simple mean of x = 0.050\n"
     ]
    }
   ],
   "source": [
    "# 평균 수식 \n",
    "print('simple mean of x = {:.3f}'.format(float(sum(X)/len(X))))"
   ]
  },
  {
   "cell_type": "code",
   "execution_count": 108,
   "id": "a85a9c5d",
   "metadata": {},
   "outputs": [],
   "source": [
    "# 평균 라이브러리\n",
    "xbar = np.mean(X)\n",
    "#ybar = np.mean(Y)"
   ]
  },
  {
   "cell_type": "code",
   "execution_count": 105,
   "id": "e8cf8bea",
   "metadata": {},
   "outputs": [
    {
     "name": "stdout",
     "output_type": "stream",
     "text": [
      "simple mean of x = 0.050\n"
     ]
    }
   ],
   "source": [
    "print('simple mean of x = {:.3f}'.format(xbar))"
   ]
  },
  {
   "cell_type": "code",
   "execution_count": 109,
   "id": "44972761",
   "metadata": {},
   "outputs": [
    {
     "name": "stdout",
     "output_type": "stream",
     "text": [
      "1.0798232362990245\n"
     ]
    }
   ],
   "source": [
    "# 분산 수식\n",
    "print(np.sqrt(sum( [ (x - xbar) ** 2 for x in X] )/len(x)))"
   ]
  },
  {
   "cell_type": "code",
   "execution_count": 111,
   "id": "74f8106d",
   "metadata": {},
   "outputs": [],
   "source": [
    "# 표준편차\n",
    "sx = np.sqrt(np.var(X, ddof = 1))"
   ]
  },
  {
   "cell_type": "code",
   "execution_count": 112,
   "id": "e81a2a42",
   "metadata": {},
   "outputs": [
    {
     "data": {
      "text/plain": [
       "1.0852631862761035"
      ]
     },
     "execution_count": 112,
     "metadata": {},
     "output_type": "execute_result"
    }
   ],
   "source": [
    "np.std(X, ddof = 1)"
   ]
  },
  {
   "cell_type": "code",
   "execution_count": 118,
   "id": "c5257350",
   "metadata": {},
   "outputs": [
    {
     "data": {
      "text/plain": [
       "(array([1, 2, 3, 4, 5]), 3.0)"
      ]
     },
     "execution_count": 118,
     "metadata": {},
     "output_type": "execute_result"
    }
   ],
   "source": [
    "a = np.arange(1, 6)\n",
    "p = np.percentile(a, 50)\n",
    "a, p"
   ]
  },
  {
   "cell_type": "code",
   "execution_count": 119,
   "id": "64ae60e7",
   "metadata": {},
   "outputs": [
    {
     "data": {
      "image/png": "[encoded data removed]",
      "text/plain": [
       "<Figure size 432x288 with 1 Axes>"
      ]
     },
     "metadata": {
      "needs_background": "light"
     },
     "output_type": "display_data"
    }
   ],
   "source": [
    "import matplotlib.pyplot as plt\n",
    "x1 = np.random.normal(0, 1, 50) # mu sigma n\n",
    "x2 = np.random.normal(1, 1, 50)\n",
    "x3 = np.random.normal(2, 1, 50)\n",
    "plt.boxplot([x1, x2, x3])\n",
    "plt.show()"
   ]
  },
  {
   "cell_type": "markdown",
   "id": "aa40847b",
   "metadata": {},
   "source": [
    "## zscore : 평균에서 표준편차의 몇 배가 떨어져 있는지\n"
   ]
  },
  {
   "cell_type": "code",
   "execution_count": 124,
   "id": "331066d9",
   "metadata": {},
   "outputs": [
    {
     "name": "stdout",
     "output_type": "stream",
     "text": [
      "-0.669534063411986 -1.5965812281362746 -0.05150262026246029 -0.05150262026246029 -0.9785497849867488 1.184560266036591 -0.05150262026246029 1.8025917091861168 -1.2875655065615117 -0.05150262026246029 0.5665288228870654 1.184560266036591 "
     ]
    }
   ],
   "source": [
    "X = [10, 7, 12, 12, 9, 16, 12, 18, 8, 12, 14, 16]\n",
    "\n",
    "xbar = np.mean(X)\n",
    "sigmax = np.std(X)\n",
    "sx = np.std(X, ddof = 1)\n",
    "for x in X:\n",
    "    zscore = (x - xbar) / sigmax\n",
    "    print(zscore, end = ' ')"
   ]
  },
  {
   "cell_type": "code",
   "execution_count": 122,
   "id": "6786cf62",
   "metadata": {},
   "outputs": [],
   "source": [
    "from scipy import stats"
   ]
  },
  {
   "cell_type": "code",
   "execution_count": 123,
   "id": "6650105d",
   "metadata": {
    "scrolled": true
   },
   "outputs": [
    {
     "data": {
      "text/plain": [
       "array([-0.66953406, -1.59658123, -0.05150262, -0.05150262, -0.97854978,\n",
       "        1.18456027, -0.05150262,  1.80259171, -1.28756551, -0.05150262,\n",
       "        0.56652882,  1.18456027])"
      ]
     },
     "execution_count": 123,
     "metadata": {},
     "output_type": "execute_result"
    }
   ],
   "source": [
    "stats.zscore(X)"
   ]
  },
  {
   "cell_type": "markdown",
   "id": "611faf9c",
   "metadata": {},
   "source": [
    "## cdf | Cumulative Distribition Function -> 누적 확률"
   ]
  },
  {
   "cell_type": "code",
   "execution_count": 125,
   "id": "7a87292d",
   "metadata": {},
   "outputs": [
    {
     "data": {
      "text/plain": [
       "0.5"
      ]
     },
     "execution_count": 125,
     "metadata": {},
     "output_type": "execute_result"
    }
   ],
   "source": [
    "from scipy.stats import norm\n",
    "\n",
    "norm.cdf(0, loc = 0, scale = 1)"
   ]
  },
  {
   "cell_type": "code",
   "execution_count": 127,
   "id": "d6d38e0d",
   "metadata": {},
   "outputs": [
    {
     "data": {
      "text/plain": [
       "0.6826894921370859"
      ]
     },
     "execution_count": 127,
     "metadata": {},
     "output_type": "execute_result"
    }
   ],
   "source": [
    "norm.cdf(1) - norm.cdf(-1)"
   ]
  },
  {
   "cell_type": "markdown",
   "id": "b01ca560",
   "metadata": {},
   "source": [
    "## n이 작을 땐 t분포"
   ]
  },
  {
   "cell_type": "code",
   "execution_count": 130,
   "id": "b7a69e8c",
   "metadata": {},
   "outputs": [
    {
     "data": {
      "text/plain": [
       "0.7500000000000002"
      ]
     },
     "execution_count": 130,
     "metadata": {},
     "output_type": "execute_result"
    }
   ],
   "source": [
    "from scipy.stats import t\n",
    "t.cdf(1, 1) # dof 1"
   ]
  },
  {
   "cell_type": "code",
   "execution_count": 131,
   "id": "83aad36c",
   "metadata": {},
   "outputs": [
    {
     "data": {
      "text/plain": [
       "0.7500000000000002"
      ]
     },
     "execution_count": 131,
     "metadata": {},
     "output_type": "execute_result"
    }
   ],
   "source": [
    "t.cdf(1, 1, loc = 0, scale = 1)"
   ]
  },
  {
   "cell_type": "markdown",
   "id": "9d224694",
   "metadata": {},
   "source": [
    "# outliers\n",
    "- 이상값 체크"
   ]
  },
  {
   "cell_type": "code",
   "execution_count": 132,
   "id": "311274a5",
   "metadata": {},
   "outputs": [],
   "source": [
    "def reject_outliers(data):\n",
    "    m = np.mean(data)\n",
    "    s = np.std(data)\n",
    "    filtered = [d for d in data if (m - 2 * s < d < m + 2 * s)]\n",
    "    return filtered"
   ]
  },
  {
   "cell_type": "code",
   "execution_count": 134,
   "id": "dcf11ff1",
   "metadata": {},
   "outputs": [
    {
     "name": "stdout",
     "output_type": "stream",
     "text": [
      "[2, 4, 5, 1, 6, 5]\n"
     ]
    }
   ],
   "source": [
    "d = [2, 4, 5, 1, 6, 5, 40]\n",
    "filtered_d = reject_outliers(d)\n",
    "print(filtered_d)"
   ]
  }
 ],
 "metadata": {
  "kernelspec": {
   "display_name": "Python 3 (ipykernel)",
   "language": "python",
   "name": "python3"
  },
  "language_info": {
   "codemirror_mode": {
    "name": "ipython",
    "version": 3
   },
   "file_extension": ".py",
   "mimetype": "text/x-python",
   "name": "python",
   "nbconvert_exporter": "python",
   "pygments_lexer": "ipython3",
   "version": "3.8.11"
  }
 },
 "nbformat": 4,
 "nbformat_minor": 5
}
