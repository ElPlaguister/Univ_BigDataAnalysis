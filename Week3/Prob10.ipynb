{
 "cells": [
  {
   "cell_type": "markdown",
   "source": [
    "# 공공데이터포털 대기 오염 정보"
   ],
   "metadata": {}
  },
  {
   "cell_type": "code",
   "execution_count": 2,
   "source": [
    "import os\n",
    "from src import mylib\n",
    "\n",
    "keyPath = os.path.join(os.getcwd(), 'src', 'key.properties')\n",
    "key = mylib.getKey(keyPath)"
   ],
   "outputs": [],
   "metadata": {}
  },
  {
   "cell_type": "code",
   "execution_count": 5,
   "source": [
    "SERVICE = 'ArpltnInforInqireSvc'\n",
    "OPERATION_NAME = 'getMinuDustFrcstDspth'\n",
    "params1 = os.path.join(SERVICE, OPERATION_NAME)\n",
    "print(params1)"
   ],
   "outputs": [
    {
     "output_type": "stream",
     "name": "stdout",
     "text": [
      "ArpltnInforInqireSvc/getMinuDustFrcstDspth\n"
     ]
    }
   ],
   "metadata": {}
  },
  {
   "cell_type": "code",
   "execution_count": 6,
   "source": [
    "import urllib\n",
    "_d = dict()\n",
    "\n",
    "_d['searchDate'] = '2021-08-10'\n",
    "params2 = urllib.parse.urlencode(_d)\n",
    "print(params2)"
   ],
   "outputs": [
    {
     "output_type": "stream",
     "name": "stdout",
     "text": [
      "searchDate=2021-08-10\n"
     ]
    }
   ],
   "metadata": {}
  },
  {
   "cell_type": "code",
   "execution_count": 7,
   "source": [
    "params = params1 + '?' + 'serviceKey=' + key['gokr'] + '&' + params2\n",
    "print(params)"
   ],
   "outputs": [
    {
     "output_type": "stream",
     "name": "stdout",
     "text": [
      "ArpltnInforInqireSvc/getMinuDustFrcstDspth?serviceKey=OSdOZ2N1Ury8A%2BtbMlsanmK%2FA%2F437Jh%2FpVyl65JSYpiGiMJe6yYQZ0PCLRWsuNRyKHl2kLuvjzqGFzqzBrp9Jw%3D%3D&searchDate=2021-08-10\n"
     ]
    }
   ],
   "metadata": {}
  },
  {
   "cell_type": "code",
   "execution_count": 9,
   "source": [
    "import urllib\n",
    "endpoint = 'http://apis.data.go.kr/B552584'\n",
    "print(endpoint)"
   ],
   "outputs": [
    {
     "output_type": "stream",
     "name": "stdout",
     "text": [
      "http://apis.data.go.kr/B552584\n"
     ]
    }
   ],
   "metadata": {}
  },
  {
   "cell_type": "code",
   "execution_count": 10,
   "source": [
    "url = \"/\".join([endpoint, params])\n",
    "print(url)"
   ],
   "outputs": [
    {
     "output_type": "stream",
     "name": "stdout",
     "text": [
      "http://apis.data.go.kr/B552584/ArpltnInforInqireSvc/getMinuDustFrcstDspth?serviceKey=OSdOZ2N1Ury8A%2BtbMlsanmK%2FA%2F437Jh%2FpVyl65JSYpiGiMJe6yYQZ0PCLRWsuNRyKHl2kLuvjzqGFzqzBrp9Jw%3D%3D&searchDate=2021-08-10\n"
     ]
    }
   ],
   "metadata": {}
  },
  {
   "cell_type": "code",
   "execution_count": 12,
   "source": [
    "import requests\n",
    "\n",
    "data = requests.get(url).text\n",
    "print(data)"
   ],
   "outputs": [
    {
     "output_type": "stream",
     "name": "stdout",
     "text": [
      "<?xml version=\"1.0\" encoding=\"UTF-8\"?>\n",
      "<response>\n",
      "  <header>\n",
      "    <resultCode>00</resultCode>\n",
      "    <resultMsg>NORMAL_CODE</resultMsg>\n",
      "  </header>\n",
      "  <body>\n",
      "    <items/>\n",
      "    <numOfRows>10</numOfRows>\n",
      "    <pageNo>1</pageNo>\n",
      "    <totalCount>0</totalCount>\n",
      "  </body>\n",
      "</response>\n"
     ]
    }
   ],
   "metadata": {}
  },
  {
   "cell_type": "code",
   "execution_count": 13,
   "source": [
    "%%writefile src/prob10.py\n",
    "import os\n",
    "import mylib\n",
    "import urllib\n",
    "import requests\n",
    "\n",
    "def doIt():\n",
    "    keyPath = os.path.join(os.getcwd(), 'src', 'key.properties')\n",
    "    key = mylib.getKey(keyPath)\n",
    "\n",
    "    SERVICE = 'ArpltnInforInqireSvc'\n",
    "    OPERATION_NAME = 'getMinuDustFrcstDspth'\n",
    "    params1 = os.path.join(SERVICE, OPERATION_NAME)\n",
    "\n",
    "    _d = dict()\n",
    "    _d['searchDate'] = '2021-08-10'\n",
    "    params2 = urllib.parse.urlencode(_d)\n",
    "\n",
    "    params = params1 + '?' + 'serviceKey=' + key['gokr'] + '&' + params2\n",
    "    endpoint = 'http://apis.data.go.kr/B552584'\n",
    "    url = \"/\".join([endpoint, params])\n",
    "\n",
    "    data = requests.get(url).text\n",
    "    print(data)\n",
    "\n",
    "if __name__=='__main__':\n",
    "    doIt()"
   ],
   "outputs": [
    {
     "output_type": "stream",
     "name": "stdout",
     "text": [
      "Writing src/prob10.py\n"
     ]
    }
   ],
   "metadata": {}
  },
  {
   "cell_type": "code",
   "execution_count": 14,
   "source": [
    "!python src/prob10.py"
   ],
   "outputs": [
    {
     "output_type": "stream",
     "name": "stdout",
     "text": [
      "\n",
      "<response>\n",
      "  <header>\n",
      "    <resultCode>00</resultCode>\n",
      "    <resultMsg>NORMAL_CODE</resultMsg>\n",
      "  </header>\n",
      "  <body>\n",
      "    <items/>\n",
      "    <numOfRows>10</numOfRows>\n",
      "    <pageNo>1</pageNo>\n",
      "    <totalCount>0</totalCount>\n",
      "  </body>\n",
      "</response>\n"
     ]
    }
   ],
   "metadata": {}
  }
 ],
 "metadata": {
  "orig_nbformat": 4,
  "language_info": {
   "name": "python",
   "version": "3.9.0",
   "mimetype": "text/x-python",
   "codemirror_mode": {
    "name": "ipython",
    "version": 3
   },
   "pygments_lexer": "ipython3",
   "nbconvert_exporter": "python",
   "file_extension": ".py"
  },
  "kernelspec": {
   "name": "python3",
   "display_name": "Python 3.9.0 64-bit ('analysis': conda)"
  },
  "interpreter": {
   "hash": "2045bdaa5fc18fa1028b425df8586c6d62386b979435d2a5408e399246556570"
  }
 },
 "nbformat": 4,
 "nbformat_minor": 2
}