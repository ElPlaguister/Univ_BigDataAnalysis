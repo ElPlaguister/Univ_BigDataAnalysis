{
 "cells": [
  {
   "cell_type": "markdown",
   "source": [
    "# 서울시 골목상권 분석"
   ],
   "metadata": {}
  },
  {
   "cell_type": "code",
   "execution_count": 3,
   "source": [
    "import os\n",
    "from src import mylib\n",
    "\n",
    "keyPath = os.path.join(os.getcwd(), 'src', 'key.properties')\n",
    "key = mylib.getKey(keyPath)\n",
    "KEY = str(key['dataseoul'])"
   ],
   "outputs": [],
   "metadata": {}
  },
  {
   "cell_type": "code",
   "execution_count": 4,
   "source": [
    "TYPE = 'json'\n",
    "SERVICE = 'VwsmTrdarFlpopQq'\n",
    "START_INDEX = str(1)\n",
    "END_INDEX = str(10)\n",
    "STDR_YM_CD = str(2017)\n",
    "\n",
    "params = os.path.join(KEY, TYPE, SERVICE, START_INDEX, END_INDEX, STDR_YM_CD)"
   ],
   "outputs": [],
   "metadata": {}
  },
  {
   "cell_type": "code",
   "execution_count": 5,
   "source": [
    "import urllib.parse\n",
    "\n",
    "endpoint = 'http://openAPI.seoul.go.kr:8088'\n",
    "url = urllib.parse.urljoin(endpoint, params)"
   ],
   "outputs": [],
   "metadata": {}
  },
  {
   "cell_type": "code",
   "execution_count": 6,
   "source": [
    "import requests\n",
    "r = requests.get(url)\n",
    "trade = r.json()"
   ],
   "outputs": [],
   "metadata": {}
  },
  {
   "cell_type": "code",
   "execution_count": 7,
   "source": [
    "for e in trade['VwsmTrdarFlpopQq']['row']:\n",
    "    print(e['TRDAR_CD'], e['TRDAR_CD_NM'], e['TOT_FLPOP_CO'], e['ML_FLPOP_CO'])"
   ],
   "outputs": [
    {
     "output_type": "stream",
     "name": "stdout",
     "text": [
      "1000665 독산로78다길 126387.0 63047.0\n",
      "1000684 경인로77길 88535.0 56169.0\n",
      "1001438 우리시장 37397.0 17333.0\n",
      "1000751 사당로23나길 37872.0 17695.0\n",
      "1001317 청량리농수산물시장 16591.0 8933.0\n",
      "1000645 부일로11길 30997.0 15035.0\n",
      "1000663 독산로64길 56797.0 29467.0\n",
      "1001297 뚝도시장 36458.0 21109.0\n",
      "1001420 고척근린시장 50021.0 26396.0\n",
      "1000770 여의대방로22길 54849.0 29080.0\n"
     ]
    }
   ],
   "metadata": {}
  },
  {
   "cell_type": "code",
   "execution_count": 10,
   "source": [
    "%%writefile src/prob8_json.py\n",
    "import os\n",
    "import mylib\n",
    "import requests\n",
    "\n",
    "def doIt():\n",
    "    keyPath = os.path.join(os.getcwd(), 'src', 'key.properties')\n",
    "    key = mylib.getKey(keyPath)\n",
    "    KEY = str(key['dataseoul'])\n",
    "    TYPE = 'json'\n",
    "    SERVICE = 'VwsmTrdarFlpopQq'\n",
    "    START_INDEX = str(1)\n",
    "    END_INDEX = str(10)\n",
    "    STDR_YM_CD = str(2017)\n",
    "    params = os.path.join(KEY, TYPE, SERVICE, START_INDEX, END_INDEX, STDR_YM_CD)\n",
    "    endpoint = 'http://openAPI.seoul.go.kr:8088'\n",
    "    url = \"/\".join([endpoint, params])\n",
    "    r = requests.get(url)\n",
    "    trade = r.json()\n",
    "    for e in trade['VwsmTrdarFlpopQq']['row']:\n",
    "        print(e['TRDAR_CD'], e['TRDAR_CD_NM'], e['TOT_FLPOP_CO'], e['ML_FLPOP_CO'])\n",
    "\n",
    "\n",
    "if __name__ == '__main__':\n",
    "    doIt()"
   ],
   "outputs": [
    {
     "output_type": "stream",
     "name": "stdout",
     "text": [
      "Overwriting src/prob8_json.py\n"
     ]
    }
   ],
   "metadata": {}
  },
  {
   "cell_type": "code",
   "execution_count": 11,
   "source": [
    "!python src/prob8_json.py"
   ],
   "outputs": [
    {
     "output_type": "stream",
     "name": "stdout",
     "text": [
      "1000665 독산로78다길 126387.0 63047.0\n",
      "1000684 경인로77길 88535.0 56169.0\n",
      "1001438 우리시장 37397.0 17333.0\n",
      "1000751 사당로23나길 37872.0 17695.0\n",
      "1001317 청량리농수산물시장 16591.0 8933.0\n",
      "1000645 부일로11길 30997.0 15035.0\n",
      "1000663 독산로64길 56797.0 29467.0\n",
      "1001297 뚝도시장 36458.0 21109.0\n",
      "1001420 고척근린시장 50021.0 26396.0\n",
      "1000770 여의대방로22길 54849.0 29080.0\n"
     ]
    }
   ],
   "metadata": {}
  }
 ],
 "metadata": {
  "orig_nbformat": 4,
  "language_info": {
   "name": "python",
   "version": "3.9.0",
   "mimetype": "text/x-python",
   "codemirror_mode": {
    "name": "ipython",
    "version": 3
   },
   "pygments_lexer": "ipython3",
   "nbconvert_exporter": "python",
   "file_extension": ".py"
  },
  "kernelspec": {
   "name": "python3",
   "display_name": "Python 3.9.0 64-bit ('analysis': conda)"
  },
  "interpreter": {
   "hash": "2045bdaa5fc18fa1028b425df8586c6d62386b979435d2a5408e399246556570"
  }
 },
 "nbformat": 4,
 "nbformat_minor": 2
}