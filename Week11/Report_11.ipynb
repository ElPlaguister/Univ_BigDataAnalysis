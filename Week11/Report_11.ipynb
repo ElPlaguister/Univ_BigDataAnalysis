{
 "cells": [
  {
   "cell_type": "markdown",
   "metadata": {},
   "source": [
    "201911181 이승민 11주차 과제입니다.\n",
    "- 코드 준비, 문제1의 정답, 문제2의 정답으로 이루어져 있습니다.\n",
    "- 각각의 정답은 첫 Centroid의 결정 방법에 대해 두 가지의 영역으로 나뉘어져 있습니다.\n",
    "- 추가로 적지는 않았지만 첫 Centroid를 랜덤으로 설정했을 때에는 Nan, Nan값으로 진행할 수 없는 경우가 있어서 데이터를 열어본 뒤 Centroid를 결정했습니다."
   ]
  },
  {
   "cell_type": "markdown",
   "metadata": {},
   "source": [
    "# 코드 준비"
   ]
  },
  {
   "cell_type": "code",
   "execution_count": 1,
   "metadata": {},
   "outputs": [],
   "source": [
    "import numpy as np\n",
    "import matplotlib.pyplot as plt\n",
    "from sklearn.datasets import make_blobs"
   ]
  },
  {
   "cell_type": "code",
   "execution_count": 2,
   "metadata": {},
   "outputs": [],
   "source": [
    "def normDist(x1, x2):\n",
    "    dist = np.linalg.norm(x1 - x2)\n",
    "    return dist"
   ]
  },
  {
   "cell_type": "code",
   "execution_count": 3,
   "metadata": {},
   "outputs": [],
   "source": [
    "def cluster(x, k, centroids):\n",
    "    row, col = x.shape\n",
    "    clusterAssigned = np.zeros(shape=(row, 2), dtype=float)\n",
    "    clusterUpdated=True\n",
    "    iter = 1\n",
    "    while(clusterUpdated):\n",
    "        # STEP 1: assign to closer cluster\n",
    "        for i in range(row):\n",
    "            minDist = np.inf\n",
    "            minIndex = -1\n",
    "            for j in range(k):\n",
    "                distJI = normDist(centroids[j], x[i])\n",
    "                if distJI < minDist:\n",
    "                    minDist = distJI\n",
    "                    minIndex = j\n",
    "            clusterAssigned[i] = [minIndex, minDist]\n",
    "        # STEP 2: update centroids\n",
    "        _centroids=np.zeros(shape = (k, x.shape[1]), dtype=float)\n",
    "        for cent in range(k):\n",
    "            _centroids[cent] = np.mean(x[clusterAssigned[:,0]==cent],axis=0)\n",
    "        # STEP 3: see if centroids is updated. STOP if NOT updated\n",
    "        comparison = np.isclose(centroids, _centroids)\n",
    "        if(comparison.all() == True):\n",
    "            print('반복 수: {}, 반복 멈춤. Centroids: \\n{}'.format(iter, centroids))\n",
    "            clusterUpdated = False\n",
    "            return centroids, clusterAssigned\n",
    "        else:\n",
    "            print('반복 수: {}, 반복 계속함. Centroids: \\n{}'.format(iter, _centroids))\n",
    "            centroids = _centroids\n",
    "            iter += 1"
   ]
  },
  {
   "cell_type": "markdown",
   "metadata": {},
   "source": [
    "# 문제 1의 정답\n",
    "## (최소한의 정보로 첫 Centroid를 정한 경우)"
   ]
  },
  {
   "cell_type": "code",
   "execution_count": 4,
   "metadata": {},
   "outputs": [
    {
     "name": "stdout",
     "output_type": "stream",
     "text": [
      "반복 수: 1, 반복 계속함. Centroids: \n",
      "[[-0.64580057  5.13951434]\n",
      " [ 1.24210088  1.36426475]\n",
      " [ 1.06285245  2.32381559]\n",
      " [ 2.14946106  0.83965188]]\n",
      "반복 수: 2, 반복 계속함. Centroids: \n",
      "[[-0.83321186  5.56747189]\n",
      " [ 1.50356228  1.45032521]\n",
      " [ 0.28556777  3.20403725]\n",
      " [ 2.21196493  0.7214053 ]]\n",
      "반복 수: 3, 반복 계속함. Centroids: \n",
      "[[-1.16945605  6.95388986]\n",
      " [ 1.56184022  1.52219555]\n",
      " [-0.16819504  3.60493507]\n",
      " [ 2.21394821  0.67376519]]\n",
      "반복 수: 4, 반복 계속함. Centroids: \n",
      "[[-1.22498973  7.6619397 ]\n",
      " [ 1.75844579  1.742375  ]\n",
      " [-0.33634648  3.71341746]\n",
      " [ 2.16499683  0.58300306]]\n",
      "반복 수: 5, 반복 계속함. Centroids: \n",
      "[[-1.27208964  7.74944718]\n",
      " [ 1.82737296  1.77808197]\n",
      " [-0.33045149  3.74935287]\n",
      " [ 2.11445024  0.55681795]]\n",
      "반복 수: 6, 반복 멈춤. Centroids: \n",
      "[[-1.27208964  7.74944718]\n",
      " [ 1.82737296  1.77808197]\n",
      " [-0.33045149  3.74935287]\n",
      " [ 2.11445024  0.55681795]]\n"
     ]
    }
   ],
   "source": [
    "X, y = make_blobs(n_samples=100, centers = 4, cluster_std=0.6, random_state=0)\n",
    "모범답안 = np.array([[-1,8],[-1.5,3], [1, 4], [2, 1]], dtype = float)\n",
    "centroids = np.array([[0, 4],[1,1], [1, 2], [2, 1]], dtype = float)\n",
    "centroids, clusterAssigned = cluster(X, 4, centroids)"
   ]
  },
  {
   "cell_type": "markdown",
   "metadata": {},
   "source": [
    "## (데이터의 분포를 보고 첫 Centroid를 정한 경우)"
   ]
  },
  {
   "cell_type": "code",
   "execution_count": 6,
   "metadata": {},
   "outputs": [
    {
     "name": "stdout",
     "output_type": "stream",
     "text": [
      "반복 수: 1, 반복 계속함. Centroids: \n",
      "[[-1.27208964  7.74944718]\n",
      " [-1.52704861  3.14337865]\n",
      " [ 0.87673717  4.2964758 ]\n",
      " [ 1.97918933  0.97920012]]\n",
      "반복 수: 2, 반복 멈춤. Centroids: \n",
      "[[-1.27208964  7.74944718]\n",
      " [-1.52704861  3.14337865]\n",
      " [ 0.87673717  4.2964758 ]\n",
      " [ 1.97918933  0.97920012]]\n"
     ]
    }
   ],
   "source": [
    "X, y = make_blobs(n_samples=100, centers = 4, cluster_std=0.6, random_state=0)\n",
    "centroids = np.array([[-1,8],[-1.5,3], [1, 4], [2, 1]], dtype = float)\n",
    "centroids, clusterAssigned = cluster(X, 4, centroids)"
   ]
  },
  {
   "cell_type": "markdown",
   "metadata": {},
   "source": [
    "# 문제 2의 정답 \n",
    "## (최소한의 정보로 첫 Centroid를 정한 경우)\n",
    "- 왼쪽이 내가 만든 클러스터, 오른쪽이 주어진 y값"
   ]
  },
  {
   "cell_type": "code",
   "execution_count": 5,
   "metadata": {},
   "outputs": [
    {
     "data": {
      "image/png": "[encoded data removed]",
      "text/plain": [
       "<Figure size 432x288 with 2 Axes>"
      ]
     },
     "metadata": {
      "needs_background": "light"
     },
     "output_type": "display_data"
    }
   ],
   "source": [
    "np.c_[clusterAssigned[:,0], y]\n",
    "%matplotlib inline\n",
    "colors = ['red', 'blue', 'black', 'green']\n",
    "\n",
    "plt.subplot(1, 2, 1)\n",
    "for i in range(4):\n",
    "    cur = X[clusterAssigned[:, 0] == i]\n",
    "    plt.scatter(cur[:, 0], cur[:, 1], color = colors[i])\n",
    "plt.scatter(centroids[:,0], centroids[:,1], color='cyan')\n",
    "    \n",
    "plt.subplot(1, 2, 2)\n",
    "for i in range(4):\n",
    "    cur = X[y[:] == i]\n",
    "    plt.scatter(cur[:, 0], cur[:, 1], color = colors[i])\n",
    "    \n",
    "plt.show()"
   ]
  },
  {
   "cell_type": "markdown",
   "metadata": {},
   "source": [
    "## (데이터의 분포를 보고 첫 Centroid를 정한 경우)\n",
    "- 왼쪽이 내가 만든 클러스터, 오른쪽이 주어진 y값"
   ]
  },
  {
   "cell_type": "code",
   "execution_count": 7,
   "metadata": {},
   "outputs": [
    {
     "data": {
      "image/png": "[encoded data removed]",
      "text/plain": [
       "<Figure size 432x288 with 2 Axes>"
      ]
     },
     "metadata": {
      "needs_background": "light"
     },
     "output_type": "display_data"
    }
   ],
   "source": [
    "np.c_[clusterAssigned[:,0], y]\n",
    "%matplotlib inline\n",
    "colors = ['red', 'blue', 'black', 'green']\n",
    "\n",
    "plt.subplot(1, 2, 1)\n",
    "for i in range(4):\n",
    "    cur = X[clusterAssigned[:, 0] == i]\n",
    "    plt.scatter(cur[:, 0], cur[:, 1], color = colors[i])\n",
    "plt.scatter(centroids[:,0], centroids[:,1], color='cyan')\n",
    "    \n",
    "plt.subplot(1, 2, 2)\n",
    "for i in range(4):\n",
    "    cur = X[y[:] == i]\n",
    "    plt.scatter(cur[:, 0], cur[:, 1], color = colors[i])\n",
    "    \n",
    "plt.show()"
   ]
  }
 ],
 "metadata": {
  "interpreter": {
   "hash": "0fe295ad4522a8f3a1c00f73e8c1fc4bffda693b9f244974c35f867e6985c135"
  },
  "kernelspec": {
   "display_name": "Python 3.8.11 64-bit ('Analysis': conda)",
   "name": "python3"
  },
  "language_info": {
   "codemirror_mode": {
    "name": "ipython",
    "version": 3
   },
   "file_extension": ".py",
   "mimetype": "text/x-python",
   "name": "python",
   "nbconvert_exporter": "python",
   "pygments_lexer": "ipython3",
   "version": "3.8.11"
  },
  "orig_nbformat": 4
 },
 "nbformat": 4,
 "nbformat_minor": 2
}
