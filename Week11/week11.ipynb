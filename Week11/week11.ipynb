{
 "cells": [
  {
   "cell_type": "code",
   "execution_count": 13,
   "metadata": {},
   "outputs": [],
   "source": [
    "import numpy as np\n",
    "\n",
    "x = np.array(np.random.randint(low = 1, high = 10, size = 18).reshape((9, 2)), dtype = float)"
   ]
  },
  {
   "cell_type": "markdown",
   "metadata": {},
   "source": [
    "# 단계 1: 설정"
   ]
  },
  {
   "cell_type": "code",
   "execution_count": 15,
   "metadata": {},
   "outputs": [],
   "source": [
    "k = 2\n",
    "centroids = np.array([[2, 5], [7, 2]], dtype = float)"
   ]
  },
  {
   "cell_type": "code",
   "execution_count": 18,
   "metadata": {},
   "outputs": [],
   "source": [
    "def normDist(x1, x2):\n",
    "    dist = np.linalg.norm(x1 - x2)\n",
    "    return dist"
   ]
  },
  {
   "cell_type": "code",
   "execution_count": 21,
   "metadata": {},
   "outputs": [
    {
     "name": "stdout",
     "output_type": "stream",
     "text": [
      "Distance 1.414 between [2. 5.] and [3. 6.]\n",
      "Distance 5.657 between [7. 2.] and [3. 6.]\n",
      ".....Assigning [3. 6.] to 0th centroid by 1.414\n"
     ]
    }
   ],
   "source": [
    "# 가장 가까운 센트로이드에 할당됨\n",
    "minDist = np.inf\n",
    "\n",
    "for j in range(k):\n",
    "    distJ0 = normDist(centroids[j], x[0])\n",
    "    print('Distance {:.3f} between {} and {}'.format(distJ0, centroids[j], x[0]))\n",
    "    if distJ0 < minDist:\n",
    "        minDist = distJ0\n",
    "        minIndex = j\n",
    "print('.....Assigning {} to {}th centroid by {:.3f}'.format(x[0], minIndex, minDist))\n",
    "    "
   ]
  },
  {
   "cell_type": "code",
   "execution_count": 22,
   "metadata": {},
   "outputs": [
    {
     "name": "stdout",
     "output_type": "stream",
     "text": [
      "[[0. 0.]\n",
      " [0. 0.]\n",
      " [0. 0.]\n",
      " [0. 0.]\n",
      " [0. 0.]\n",
      " [0. 0.]\n",
      " [0. 0.]\n",
      " [0. 0.]\n",
      " [0. 0.]]\n"
     ]
    }
   ],
   "source": [
    "clusterAssigned = np.zeros(shape = (x.shape[0], 2), dtype = float)\n",
    "print(clusterAssigned) # index와 dist를 저장"
   ]
  },
  {
   "cell_type": "code",
   "execution_count": 24,
   "metadata": {},
   "outputs": [
    {
     "name": "stdout",
     "output_type": "stream",
     "text": [
      ".....Assigning [3. 6.] to 0th centroid by 1.414\n",
      ".....Assigning [7. 5.] to 1th centroid by 3.000\n",
      ".....Assigning [8. 5.] to 1th centroid by 3.162\n",
      ".....Assigning [9. 5.] to 1th centroid by 3.606\n",
      ".....Assigning [2. 7.] to 0th centroid by 2.000\n",
      ".....Assigning [2. 2.] to 0th centroid by 3.000\n",
      ".....Assigning [5. 4.] to 1th centroid by 2.828\n",
      ".....Assigning [6. 2.] to 1th centroid by 1.000\n",
      ".....Assigning [6. 3.] to 1th centroid by 1.414\n"
     ]
    }
   ],
   "source": [
    "row, c = x.shape\n",
    "for i in range(row):\n",
    "    minDist = np.inf\n",
    "    minIndex = -1\n",
    "    for j in range(k):\n",
    "        distJI = normDist(centroids[j], x[i])\n",
    "        if distJI < minDist:\n",
    "            minDist = distJI\n",
    "            minIndex = j\n",
    "    print('.....Assigning {} to {}th centroid by {:.3f}'.format(x[i], minIndex, minDist))\n",
    "    clusterAssigned[i] = [minIndex, minDist]"
   ]
  },
  {
   "cell_type": "markdown",
   "metadata": {},
   "source": [
    "# 단계 3: 갱신"
   ]
  },
  {
   "cell_type": "code",
   "execution_count": 25,
   "metadata": {},
   "outputs": [
    {
     "data": {
      "text/plain": [
       "array([0., 1., 1., 1., 0., 0., 1., 1., 1.])"
      ]
     },
     "execution_count": 25,
     "metadata": {},
     "output_type": "execute_result"
    }
   ],
   "source": [
    "clusterAssigned[:, 0]"
   ]
  },
  {
   "cell_type": "code",
   "execution_count": 26,
   "metadata": {},
   "outputs": [
    {
     "data": {
      "text/plain": [
       "array([[3., 6.],\n",
       "       [2., 7.],\n",
       "       [2., 2.]])"
      ]
     },
     "execution_count": 26,
     "metadata": {},
     "output_type": "execute_result"
    }
   ],
   "source": [
    "x[clusterAssigned[:, 0] == 0]"
   ]
  },
  {
   "cell_type": "code",
   "execution_count": 27,
   "metadata": {},
   "outputs": [
    {
     "data": {
      "text/plain": [
       "array([[7., 5.],\n",
       "       [8., 5.],\n",
       "       [9., 5.],\n",
       "       [5., 4.],\n",
       "       [6., 2.],\n",
       "       [6., 3.]])"
      ]
     },
     "execution_count": 27,
     "metadata": {},
     "output_type": "execute_result"
    }
   ],
   "source": [
    "x[clusterAssigned[:, 0] == 1]"
   ]
  },
  {
   "cell_type": "code",
   "execution_count": 29,
   "metadata": {},
   "outputs": [],
   "source": [
    "_centroids = np.zeros(shape = (k, x.shape[1]), dtype = float)"
   ]
  },
  {
   "cell_type": "code",
   "execution_count": 30,
   "metadata": {},
   "outputs": [
    {
     "name": "stdout",
     "output_type": "stream",
     "text": [
      "Centroids updated: \n",
      " [[2.33333333 5.        ]\n",
      " [6.83333333 4.        ]]\n"
     ]
    }
   ],
   "source": [
    "for cent in range(k):\n",
    "    _centroids[cent] = np.mean(x[clusterAssigned[:, 0] == cent], axis = 0)\n",
    "    \n",
    "print('Centroids updated: \\n', _centroids)"
   ]
  },
  {
   "cell_type": "code",
   "execution_count": 43,
   "metadata": {},
   "outputs": [
    {
     "name": "stdout",
     "output_type": "stream",
     "text": [
      "[[2. 5.]\n",
      " [7. 2.]] [[2.33333333 5.        ]\n",
      " [6.83333333 4.        ]]\n",
      "False\n"
     ]
    }
   ],
   "source": [
    "comparison = np.equal(centroids, _centroids)\n",
    "print(comparison.all())"
   ]
  },
  {
   "cell_type": "code",
   "execution_count": 44,
   "metadata": {},
   "outputs": [
    {
     "name": "stdout",
     "output_type": "stream",
     "text": [
      "False\n"
     ]
    }
   ],
   "source": [
    "comparison = np.isclose(centroids, _centroids)\n",
    "print(comparison.all())"
   ]
  },
  {
   "cell_type": "code",
   "execution_count": 45,
   "metadata": {},
   "outputs": [
    {
     "data": {
      "text/plain": [
       "<matplotlib.collections.PathCollection at 0x7f9bd2f58f40>"
      ]
     },
     "execution_count": 45,
     "metadata": {},
     "output_type": "execute_result"
    },
    {
     "data": {
      "image/png": "[encoded data removed]",
      "text/plain": [
       "<Figure size 432x288 with 1 Axes>"
      ]
     },
     "metadata": {
      "needs_background": "light"
     },
     "output_type": "display_data"
    }
   ],
   "source": [
    "%matplotlib inline\n",
    "import matplotlib.pyplot as plt\n",
    "\n",
    "plt.scatter(x[:, 0], x[:, 1], color = 'blue')\n",
    "plt.scatter(centroids[:, 0], centroids[:, 1], color = 'red')"
   ]
  },
  {
   "cell_type": "code",
   "execution_count": 47,
   "metadata": {},
   "outputs": [],
   "source": [
    "def cluster(x, k, centroids):\n",
    "    row, col = x.shape\n",
    "    clusterAssigned = np.zeros(shape=(row, k), dtype=float)\n",
    "    clusterUpdated=True\n",
    "    iter = 1\n",
    "    while(clusterUpdated):\n",
    "        print (\"\\n\\n====== Iteration {} ======\".format(iter))\n",
    "        # STEP 1: assign to closer cluster\n",
    "        for i in range(row):\n",
    "            minDist = np.inf\n",
    "            minIndex = -1\n",
    "            for j in range(k):\n",
    "                distJI = normDist(centroids[j], x[i])\n",
    "                if distJI < minDist:\n",
    "                    minDist = distJI\n",
    "                    minIndex = j\n",
    "            print (\".....Assigning {} to {}th centroid by {:.3f}\".format(x[i], minIndex, minDist))\n",
    "            clusterAssigned[i] = [minIndex, minDist]\n",
    "        print (\"\\n.....Assigned clusters: \\n {}\".format(clusterAssigned))\n",
    "        # STEP 2: update centroids\n",
    "        _centroids=np.zeros(shape = (k, x.shape[1]), dtype=float)\n",
    "        for cent in range(k):\n",
    "            _centroids[cent] = np.mean(x[clusterAssigned[:,0]==cent],axis=0)\n",
    "        # STEP 3: see if centroids is updated. STOP if NOT updated\n",
    "        comparison = np.equal(centroids, _centroids) # np.isclose() in case some tolerence is required\n",
    "        if(comparison.all() == True):\n",
    "            print (\"\\n.....NOT Updating Centroids\\n {} => \\n{}\".format(centroids, _centroids))\n",
    "            clusterUpdated = False\n",
    "            return centroids, clusterAssigned\n",
    "        else:\n",
    "            print (\"\\n.....Updating Centroids\\n {} => \\n{}\".format(centroids, _centroids))\n",
    "            centroids = _centroids\n",
    "            iter += 1"
   ]
  },
  {
   "cell_type": "code",
   "execution_count": 49,
   "metadata": {},
   "outputs": [],
   "source": [
    "def draw(x, centroids):\n",
    "    plt.scatter(x[:,0], x[:,1], color='blue')\n",
    "    plt.scatter(centroids[:,0], centroids[:,1], color='red')"
   ]
  },
  {
   "cell_type": "code",
   "execution_count": 50,
   "metadata": {},
   "outputs": [
    {
     "name": "stdout",
     "output_type": "stream",
     "text": [
      "\n",
      "\n",
      "====== Iteration 1 ======\n",
      ".....Assigning [2. 5.] to 0th centroid by 0.000\n",
      ".....Assigning [3. 6.] to 0th centroid by 1.414\n",
      ".....Assigning [2. 4.] to 0th centroid by 1.000\n",
      ".....Assigning [5. 7.] to 0th centroid by 3.606\n",
      ".....Assigning [7. 2.] to 1th centroid by 0.000\n",
      ".....Assigning [8. 3.] to 1th centroid by 1.414\n",
      ".....Assigning [9. 4.] to 1th centroid by 2.828\n",
      ".....Assigning [8. 4.] to 1th centroid by 2.236\n",
      ".....Assigning [7. 3.] to 1th centroid by 1.000\n",
      "\n",
      ".....Assigned clusters: \n",
      " [[0.         0.        ]\n",
      " [0.         1.41421356]\n",
      " [0.         1.        ]\n",
      " [0.         3.60555128]\n",
      " [1.         0.        ]\n",
      " [1.         1.41421356]\n",
      " [1.         2.82842712]\n",
      " [1.         2.23606798]\n",
      " [1.         1.        ]]\n",
      "\n",
      ".....Updating Centroids\n",
      " [[2. 5.]\n",
      " [7. 2.]] => \n",
      "[[3.  5.5]\n",
      " [7.8 3.2]]\n",
      "\n",
      "\n",
      "====== Iteration 2 ======\n",
      ".....Assigning [2. 5.] to 0th centroid by 1.118\n",
      ".....Assigning [3. 6.] to 0th centroid by 0.500\n",
      ".....Assigning [2. 4.] to 0th centroid by 1.803\n",
      ".....Assigning [5. 7.] to 0th centroid by 2.500\n",
      ".....Assigning [7. 2.] to 1th centroid by 1.442\n",
      ".....Assigning [8. 3.] to 1th centroid by 0.283\n",
      ".....Assigning [9. 4.] to 1th centroid by 1.442\n",
      ".....Assigning [8. 4.] to 1th centroid by 0.825\n",
      ".....Assigning [7. 3.] to 1th centroid by 0.825\n",
      "\n",
      ".....Assigned clusters: \n",
      " [[0.         1.11803399]\n",
      " [0.         0.5       ]\n",
      " [0.         1.80277564]\n",
      " [0.         2.5       ]\n",
      " [1.         1.44222051]\n",
      " [1.         0.28284271]\n",
      " [1.         1.44222051]\n",
      " [1.         0.82462113]\n",
      " [1.         0.82462113]]\n",
      "\n",
      ".....NOT Updating Centroids\n",
      " [[3.  5.5]\n",
      " [7.8 3.2]] => \n",
      "[[3.  5.5]\n",
      " [7.8 3.2]]\n"
     ]
    },
    {
     "data": {
      "image/png": "[encoded data removed]",
      "text/plain": [
       "<Figure size 432x288 with 1 Axes>"
      ]
     },
     "metadata": {
      "needs_background": "light"
     },
     "output_type": "display_data"
    }
   ],
   "source": [
    "%matplotlib inline\n",
    "x = np.array([[2,5],[3,6],[2,4],[5,7],[7,2],[8,3],[9,4],[8,4],[7,3]], dtype = float)\n",
    "#x = np.array([[1, 2],[1, 4],[1, 0],[4, 2],[4, 4],[4, 0]])\n",
    "k = 2\n",
    "centroids = np.array([[2,5],[7,2]], dtype = float)\n",
    "#centroids = np.array([[1,1],[4,1]], dtype = float)\n",
    "centroids, clusterAssigned = cluster(x, k, centroids)\n",
    "draw(x, centroids)"
   ]
  }
 ],
 "metadata": {
  "interpreter": {
   "hash": "0fe295ad4522a8f3a1c00f73e8c1fc4bffda693b9f244974c35f867e6985c135"
  },
  "kernelspec": {
   "display_name": "Python 3.8.11 64-bit ('Analysis': conda)",
   "name": "python3"
  },
  "language_info": {
   "codemirror_mode": {
    "name": "ipython",
    "version": 3
   },
   "file_extension": ".py",
   "mimetype": "text/x-python",
   "name": "python",
   "nbconvert_exporter": "python",
   "pygments_lexer": "ipython3",
   "version": "3.8.11"
  },
  "orig_nbformat": 4
 },
 "nbformat": 4,
 "nbformat_minor": 2
}
