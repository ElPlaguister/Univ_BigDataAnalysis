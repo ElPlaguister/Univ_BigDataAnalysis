{
 "cells": [
  {
   "cell_type": "markdown",
   "source": [
    "# 공공데이터와 열린데이터\n",
    "## 공공데이터\n",
    "- 시군구별로 제공하는 Open Data\n",
    "- data.seoul.go.kr\n",
    "- data.busan.go.kr\n",
    "- data.jongno.go.kr\n",
    "- '/'을 사용하여 api endpoint를 제공한다.\n",
    "## 열린데이터\n",
    "- 정부가 제공, 여러 관공서에서 제공하는 Open Data의 포털\n",
    "- data.go.kr\n",
    "- url에 query parameter를 추가해서 사용한다. '?'로 시작하여 key, value의 쌍을 '&'로 묶는다."
   ],
   "metadata": {}
  },
  {
   "cell_type": "code",
   "execution_count": 7,
   "source": [
    "%%writefile src/key.properties\n",
    "dataseoul=65714f71456b726938364851437a44\n",
    "gokr=8Bx4C1%2Bbogiu3i0M5k7aqOf%2BTA5yCWK%2BFDI7nTSJ0oAhDj1NC5CtbI1TMgFmnpuZxJ9LBoCScqBhuw5sul2tmQ%3D%3D"
   ],
   "outputs": [
    {
     "output_type": "stream",
     "name": "stdout",
     "text": [
      "Overwriting src/key.properties\n"
     ]
    }
   ],
   "metadata": {}
  },
  {
   "cell_type": "code",
   "execution_count": 2,
   "source": [
    "import urllib\n",
    "print(urllib.parse.urlencode({'#q' : '한글'}))\n",
    "print(urllib.parse.urlencode({'#q' : u'한글'.encode('utf-8')}))"
   ],
   "outputs": [
    {
     "output_type": "stream",
     "name": "stdout",
     "text": [
      "%23q=%ED%95%9C%EA%B8%80\n",
      "%23q=%ED%95%9C%EA%B8%80\n"
     ]
    }
   ],
   "metadata": {}
  },
  {
   "cell_type": "code",
   "execution_count": 5,
   "source": [
    "# %의 url encoding은 %25이다. \n",
    "params = urllib.parse.urlencode({'key' : '%3D'})\n",
    "print(params)"
   ],
   "outputs": [
    {
     "output_type": "stream",
     "name": "stdout",
     "text": [
      "key=%253D\n"
     ]
    }
   ],
   "metadata": {}
  },
  {
   "cell_type": "code",
   "execution_count": 8,
   "source": [
    "%%writefile src/mylib.py\n",
    "def sayHello():\n",
    "    print(\"hello\")\n",
    "\n",
    "def getKey(keyPath):\n",
    "    d = dict()\n",
    "    f = open(keyPath, 'r')\n",
    "    for line in f.readlines():\n",
    "        row = line.split('=')\n",
    "        row0 = row[0]\n",
    "        d[row0] = row[1].strip()\n",
    "    return d"
   ],
   "outputs": [
    {
     "output_type": "stream",
     "name": "stdout",
     "text": [
      "Overwriting src/mylib.py\n"
     ]
    }
   ],
   "metadata": {}
  },
  {
   "cell_type": "code",
   "execution_count": 15,
   "source": [
    "from src import mylib\n",
    "\n",
    "mylib.sayHello()"
   ],
   "outputs": [
    {
     "output_type": "stream",
     "name": "stdout",
     "text": [
      "hello\n"
     ]
    }
   ],
   "metadata": {}
  },
  {
   "cell_type": "code",
   "execution_count": 18,
   "source": [
    "import os\n",
    "from src import mylib\n",
    "\n",
    "keyPath = os.path.join(os.getcwd(), 'src', 'key.properties')\n",
    "key = mylib.getKey(keyPath)\n",
    "print(key['dataseoul'])"
   ],
   "outputs": [
    {
     "output_type": "stream",
     "name": "stdout",
     "text": [
      "65714f71456b726938364851437a44\n"
     ]
    }
   ],
   "metadata": {}
  }
 ],
 "metadata": {
  "orig_nbformat": 4,
  "language_info": {
   "name": "python",
   "version": "3.9.0",
   "mimetype": "text/x-python",
   "codemirror_mode": {
    "name": "ipython",
    "version": 3
   },
   "pygments_lexer": "ipython3",
   "nbconvert_exporter": "python",
   "file_extension": ".py"
  },
  "kernelspec": {
   "name": "python3",
   "display_name": "Python 3.9.0 64-bit ('analysis': conda)"
  },
  "interpreter": {
   "hash": "2045bdaa5fc18fa1028b425df8586c6d62386b979435d2a5408e399246556570"
  }
 },
 "nbformat": 4,
 "nbformat_minor": 2
}