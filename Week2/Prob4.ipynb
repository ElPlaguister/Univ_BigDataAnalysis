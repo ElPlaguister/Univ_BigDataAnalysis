{
 "cells": [
  {
   "cell_type": "markdown",
   "source": [
    "# 지하철역별 승하차 인원"
   ],
   "metadata": {}
  },
  {
   "cell_type": "markdown",
   "source": [
    "# 인증키"
   ],
   "metadata": {}
  },
  {
   "cell_type": "code",
   "execution_count": 1,
   "source": [
    "import os\n",
    "from src import mylib"
   ],
   "outputs": [],
   "metadata": {}
  },
  {
   "cell_type": "code",
   "execution_count": 2,
   "source": [
    "keyPath = os.path.join(os.getcwd(), 'src', 'key.properties')\n",
    "key = mylib.getKey(keyPath)"
   ],
   "outputs": [],
   "metadata": {}
  },
  {
   "cell_type": "markdown",
   "source": [
    "# 요청 인자"
   ],
   "metadata": {}
  },
  {
   "cell_type": "code",
   "execution_count": 5,
   "source": [
    "endpoint = 'http://openAPI.seoul.go.kr:8088'\n",
    "KEY = str(key['dataseoul'])\n",
    "TYPE = 'json'\n",
    "SERVICE = 'CardSubwayStatsNew'\n",
    "START_INDEX = '1'\n",
    "END_INDEX = '5'\n",
    "USE_DT = '20210801'"
   ],
   "outputs": [],
   "metadata": {}
  },
  {
   "cell_type": "markdown",
   "source": [
    "# URL 만들기"
   ],
   "metadata": {}
  },
  {
   "cell_type": "code",
   "execution_count": 6,
   "source": [
    "url = os.path.join(endpoint, KEY, TYPE, SERVICE, START_INDEX, END_INDEX, USE_DT)"
   ],
   "outputs": [],
   "metadata": {}
  },
  {
   "cell_type": "markdown",
   "source": [
    "# URL 호출하기"
   ],
   "metadata": {}
  },
  {
   "cell_type": "code",
   "execution_count": 7,
   "source": [
    "import requests\n",
    "\n",
    "response = requests.get(url)"
   ],
   "outputs": [],
   "metadata": {}
  },
  {
   "cell_type": "markdown",
   "source": [
    "# JSON 파싱"
   ],
   "metadata": {}
  },
  {
   "cell_type": "code",
   "execution_count": 9,
   "source": [
    "sub = response.json()\n",
    "print(sub)"
   ],
   "outputs": [
    {
     "output_type": "stream",
     "name": "stdout",
     "text": [
      "{'CardSubwayStatsNew': {'list_total_count': 600, 'RESULT': {'CODE': 'INFO-000', 'MESSAGE': '정상 처리되었습니다'}, 'row': [{'USE_DT': '20210801', 'LINE_NUM': '1호선', 'SUB_STA_NM': '서울역', 'RIDE_PASGR_NUM': 17896.0, 'ALIGHT_PASGR_NUM': 15468.0, 'WORK_DT': '20210804'}, {'USE_DT': '20210801', 'LINE_NUM': '1호선', 'SUB_STA_NM': '동묘앞', 'RIDE_PASGR_NUM': 7760.0, 'ALIGHT_PASGR_NUM': 7771.0, 'WORK_DT': '20210804'}, {'USE_DT': '20210801', 'LINE_NUM': '1호선', 'SUB_STA_NM': '시청', 'RIDE_PASGR_NUM': 4436.0, 'ALIGHT_PASGR_NUM': 4308.0, 'WORK_DT': '20210804'}, {'USE_DT': '20210801', 'LINE_NUM': '1호선', 'SUB_STA_NM': '종각', 'RIDE_PASGR_NUM': 7972.0, 'ALIGHT_PASGR_NUM': 7438.0, 'WORK_DT': '20210804'}, {'USE_DT': '20210801', 'LINE_NUM': '1호선', 'SUB_STA_NM': '종로3가', 'RIDE_PASGR_NUM': 8999.0, 'ALIGHT_PASGR_NUM': 8604.0, 'WORK_DT': '20210804'}]}}\n"
     ]
    }
   ],
   "metadata": {}
  },
  {
   "cell_type": "code",
   "execution_count": 10,
   "source": [
    "sub['CardSubwayStatsNew']['row']"
   ],
   "outputs": [
    {
     "output_type": "execute_result",
     "data": {
      "text/plain": [
       "[{'USE_DT': '20210801',\n",
       "  'LINE_NUM': '1호선',\n",
       "  'SUB_STA_NM': '서울역',\n",
       "  'RIDE_PASGR_NUM': 17896.0,\n",
       "  'ALIGHT_PASGR_NUM': 15468.0,\n",
       "  'WORK_DT': '20210804'},\n",
       " {'USE_DT': '20210801',\n",
       "  'LINE_NUM': '1호선',\n",
       "  'SUB_STA_NM': '동묘앞',\n",
       "  'RIDE_PASGR_NUM': 7760.0,\n",
       "  'ALIGHT_PASGR_NUM': 7771.0,\n",
       "  'WORK_DT': '20210804'},\n",
       " {'USE_DT': '20210801',\n",
       "  'LINE_NUM': '1호선',\n",
       "  'SUB_STA_NM': '시청',\n",
       "  'RIDE_PASGR_NUM': 4436.0,\n",
       "  'ALIGHT_PASGR_NUM': 4308.0,\n",
       "  'WORK_DT': '20210804'},\n",
       " {'USE_DT': '20210801',\n",
       "  'LINE_NUM': '1호선',\n",
       "  'SUB_STA_NM': '종각',\n",
       "  'RIDE_PASGR_NUM': 7972.0,\n",
       "  'ALIGHT_PASGR_NUM': 7438.0,\n",
       "  'WORK_DT': '20210804'},\n",
       " {'USE_DT': '20210801',\n",
       "  'LINE_NUM': '1호선',\n",
       "  'SUB_STA_NM': '종로3가',\n",
       "  'RIDE_PASGR_NUM': 8999.0,\n",
       "  'ALIGHT_PASGR_NUM': 8604.0,\n",
       "  'WORK_DT': '20210804'}]"
      ]
     },
     "metadata": {},
     "execution_count": 10
    }
   ],
   "metadata": {}
  },
  {
   "cell_type": "code",
   "execution_count": 11,
   "source": [
    "for e in sub['CardSubwayStatsNew']['row']:\n",
    "    print(\"{0:5s}\\t{1:10s}\\t{2:9.1f}\\t{3:9.1f}\".format(e['LINE_NUM'], e['SUB_STA_NM'], e['RIDE_PASGR_NUM'], e['ALIGHT_PASGR_NUM']))"
   ],
   "outputs": [
    {
     "output_type": "stream",
     "name": "stdout",
     "text": [
      "1호선  \t서울역       \t  17896.0\t  15468.0\n",
      "1호선  \t동묘앞       \t   7760.0\t   7771.0\n",
      "1호선  \t시청        \t   4436.0\t   4308.0\n",
      "1호선  \t종각        \t   7972.0\t   7438.0\n",
      "1호선  \t종로3가      \t   8999.0\t   8604.0\n"
     ]
    }
   ],
   "metadata": {}
  },
  {
   "cell_type": "code",
   "execution_count": 12,
   "source": [
    "%%writefile src/prob4_json.py\n",
    "import os\n",
    "import requests\n",
    "import mylib\n",
    "\n",
    "def doIt():\n",
    "    keyPath = os.path.join(os.getcwd(), 'src', 'key.properties')\n",
    "    key = mylib.getKey(keyPath)\n",
    "    endpoint = 'http://openAPI.seoul.go.kr:8088'\n",
    "    KEY = str(key['dataseoul'])\n",
    "    TYPE = 'json'\n",
    "    SERVICE = 'CardSubwayStatsNew'\n",
    "    START_INDEX = '1'\n",
    "    END_INDEX = '5'\n",
    "    USE_DT = '20210801'\n",
    "\n",
    "    url = os.path.join(endpoint, KEY, TYPE, SERVICE, START_INDEX, END_INDEX, USE_DT)\n",
    "\n",
    "    response = requests.get(url)\n",
    "    sub = response.json()\n",
    "\n",
    "    for e in sub['CardSubwayStatsNew']['row']:\n",
    "        print(\"{0:5s}\\t{1:10s}\\t{2:9.1f}\\t{3:9.1f}\".format(e['LINE_NUM'], e['SUB_STA_NM'], e['RIDE_PASGR_NUM'], e['ALIGHT_PASGR_NUM']))\n",
    "\n",
    "if __name__ == \"__main__\":\n",
    "    doIt()"
   ],
   "outputs": [
    {
     "output_type": "stream",
     "name": "stdout",
     "text": [
      "Writing src/prob4_json.py\n"
     ]
    }
   ],
   "metadata": {}
  },
  {
   "cell_type": "code",
   "execution_count": 13,
   "source": [
    "!python src/prob4_json.py"
   ],
   "outputs": [
    {
     "output_type": "stream",
     "name": "stdout",
     "text": [
      "1호선  \t서울역       \t  17896.0\t  15468.0\n",
      "1호선  \t동묘앞       \t   7760.0\t   7771.0\n",
      "1호선  \t시청        \t   4436.0\t   4308.0\n",
      "1호선  \t종각        \t   7972.0\t   7438.0\n",
      "1호선  \t종로3가      \t   8999.0\t   8604.0\n"
     ]
    }
   ],
   "metadata": {}
  }
 ],
 "metadata": {
  "orig_nbformat": 4,
  "language_info": {
   "name": "python",
   "version": "3.9.0",
   "mimetype": "text/x-python",
   "codemirror_mode": {
    "name": "ipython",
    "version": 3
   },
   "pygments_lexer": "ipython3",
   "nbconvert_exporter": "python",
   "file_extension": ".py"
  },
  "kernelspec": {
   "name": "python3",
   "display_name": "Python 3.9.0 64-bit ('analysis': conda)"
  },
  "interpreter": {
   "hash": "2045bdaa5fc18fa1028b425df8586c6d62386b979435d2a5408e399246556570"
  }
 },
 "nbformat": 4,
 "nbformat_minor": 2
}