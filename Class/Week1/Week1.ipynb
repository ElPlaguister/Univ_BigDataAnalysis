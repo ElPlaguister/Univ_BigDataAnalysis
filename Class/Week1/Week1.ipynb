{
 "cells": [
  {
   "cell_type": "markdown",
   "source": [
    "# Description #\n"
   ],
   "metadata": {}
  },
  {
   "cell_type": "code",
   "execution_count": 6,
   "source": [
    "import requests"
   ],
   "outputs": [],
   "metadata": {}
  },
  {
   "cell_type": "code",
   "execution_count": 7,
   "source": [
    "r = requests.options(\"http://httpbin.org/\")"
   ],
   "outputs": [],
   "metadata": {}
  },
  {
   "cell_type": "code",
   "execution_count": 8,
   "source": [
    "print(r.headers['allow'])"
   ],
   "outputs": [
    {
     "output_type": "stream",
     "name": "stdout",
     "text": [
      "OPTIONS, HEAD, GET\n"
     ]
    }
   ],
   "metadata": {}
  },
  {
   "cell_type": "markdown",
   "source": [
    "## HTTP 의 코드번호 상태 ##\n",
    "- 200: 앞자리 2는 성공을 의미, 200은 성공적으로 처리되었다는 뜻\n",
    "- 300: 앞자리 3은 우회를 의미, 300은 클라이언트가 선택해야 한다는 뜻\n",
    "- 404: 앞자리 4는 클라 오류, 404는 Not Found, 403은 Forbidden\n",
    "- 500: 앞자리 5는 서버 오류, 500은 서버 오류, 501은 서버 미구현"
   ],
   "metadata": {}
  },
  {
   "cell_type": "code",
   "execution_count": 9,
   "source": [
    "r.status_code"
   ],
   "outputs": [
    {
     "output_type": "execute_result",
     "data": {
      "text/plain": [
       "200"
      ]
     },
     "metadata": {},
     "execution_count": 9
    }
   ],
   "metadata": {}
  },
  {
   "cell_type": "code",
   "execution_count": 10,
   "source": [
    "r = requests.post(\"http://httpbin.org/post\", data = {\"name\" : \"js\"})\n",
    "r.json()"
   ],
   "outputs": [
    {
     "output_type": "execute_result",
     "data": {
      "text/plain": [
       "{'args': {},\n",
       " 'data': '',\n",
       " 'files': {},\n",
       " 'form': {'name': 'js'},\n",
       " 'headers': {'Accept': '*/*',\n",
       "  'Accept-Encoding': 'gzip, deflate',\n",
       "  'Content-Length': '7',\n",
       "  'Content-Type': 'application/x-www-form-urlencoded',\n",
       "  'Host': 'httpbin.org',\n",
       "  'User-Agent': 'python-requests/2.26.0',\n",
       "  'X-Amzn-Trace-Id': 'Root=1-6145afa6-124308723e845e3e0806922a'},\n",
       " 'json': None,\n",
       " 'origin': '220.89.202.18',\n",
       " 'url': 'http://httpbin.org/post'}"
      ]
     },
     "metadata": {},
     "execution_count": 10
    }
   ],
   "metadata": {}
  },
  {
   "cell_type": "code",
   "execution_count": 11,
   "source": [
    "r = requests.head(\"http://httpbin.org/\")\n",
    "print(r.headers)\n",
    "print(r.headers['Content-Type'])"
   ],
   "outputs": [
    {
     "output_type": "stream",
     "name": "stdout",
     "text": [
      "{'Date': 'Sat, 18 Sep 2021 09:21:43 GMT', 'Content-Type': 'text/html; charset=utf-8', 'Content-Length': '9593', 'Connection': 'keep-alive', 'Server': 'gunicorn/19.9.0', 'Access-Control-Allow-Origin': '*', 'Access-Control-Allow-Credentials': 'true'}\n",
      "text/html; charset=utf-8\n"
     ]
    }
   ],
   "metadata": {}
  },
  {
   "cell_type": "markdown",
   "source": [
    "# urllib"
   ],
   "metadata": {}
  },
  {
   "cell_type": "code",
   "execution_count": 12,
   "source": [
    "import urllib\n",
    "\n",
    "class HeadRequest(urllib.request.Request):\n",
    "    def get_method(self):\n",
    "        return \"HEAD\"\n",
    "\n",
    "response = urllib.request.urlopen(HeadRequest(\"http://httpbin.org/\"))"
   ],
   "outputs": [],
   "metadata": {}
  },
  {
   "cell_type": "code",
   "execution_count": 13,
   "source": [
    "print(response.info())"
   ],
   "outputs": [
    {
     "output_type": "stream",
     "name": "stdout",
     "text": [
      "Date: Sat, 18 Sep 2021 09:21:45 GMT\n",
      "Content-Type: text/html; charset=utf-8\n",
      "Content-Length: 9593\n",
      "Connection: close\n",
      "Server: gunicorn/19.9.0\n",
      "Access-Control-Allow-Origin: *\n",
      "Access-Control-Allow-Credentials: true\n",
      "\n",
      "\n"
     ]
    }
   ],
   "metadata": {}
  },
  {
   "cell_type": "code",
   "execution_count": 14,
   "source": [
    "response.geturl()"
   ],
   "outputs": [
    {
     "output_type": "execute_result",
     "data": {
      "text/plain": [
       "'http://httpbin.org/'"
      ]
     },
     "metadata": {},
     "execution_count": 14
    }
   ],
   "metadata": {}
  },
  {
   "cell_type": "markdown",
   "source": [
    "# 많이 쓰이는 웹데이터 형식\n",
    "- XML\n",
    "- JSON"
   ],
   "metadata": {}
  },
  {
   "cell_type": "markdown",
   "source": [
    "## XML\n",
    "> Extensible Markup Language"
   ],
   "metadata": {}
  },
  {
   "cell_type": "code",
   "execution_count": 15,
   "source": [
    "input = '''\n",
    "<students>\n",
    "    <student x=\"1\">\n",
    "        <id>001</id>\n",
    "        <name>Kim</name>\n",
    "    </student>\n",
    "    <student x=\"2\">\n",
    "        <id>002</id>\n",
    "        <name>Lee</name>\n",
    "    </student>\n",
    "</students>\n",
    "'''"
   ],
   "outputs": [],
   "metadata": {}
  },
  {
   "cell_type": "code",
   "execution_count": 17,
   "source": [
    "import lxml.etree\n",
    "root = lxml.etree.fromstring(input) # 문자열에서 읽는다."
   ],
   "outputs": [],
   "metadata": {}
  },
  {
   "cell_type": "code",
   "execution_count": 19,
   "source": [
    "from io import StringIO\n",
    "tree = lxml.etree.parse(StringIO(input)) # 파일에서 읽는데, StringIO로 파일처럼 읽듯이 한다.\n",
    "root = tree.getroot()"
   ],
   "outputs": [],
   "metadata": {}
  },
  {
   "cell_type": "code",
   "execution_count": 21,
   "source": [
    "%%writefile ds_open_hello.xml\n",
    "<students>\n",
    "    <student x=\"1\">\n",
    "        <id>001</id>\n",
    "        <name>Kim</name>\n",
    "    </student>\n",
    "    <student x=\"2\">\n",
    "        <id>002</id>\n",
    "        <name>Lee</name>\n",
    "    </student>\n",
    "</students>"
   ],
   "outputs": [
    {
     "output_type": "stream",
     "name": "stdout",
     "text": [
      "Writing ds_open_hello.xml\n"
     ]
    }
   ],
   "metadata": {}
  },
  {
   "cell_type": "code",
   "execution_count": 25,
   "source": [
    "import os\n",
    "tree = lxml.etree.parse('ds_open_hello.xml')\n",
    "root = tree.getroot()"
   ],
   "outputs": [],
   "metadata": {}
  },
  {
   "cell_type": "code",
   "execution_count": 30,
   "source": [
    "print(type(root.tag))\n",
    "for e in root:\n",
    "    print(e.tag)"
   ],
   "outputs": [
    {
     "output_type": "stream",
     "name": "stdout",
     "text": [
      "<class 'str'>\n",
      "student\n",
      "student\n"
     ]
    }
   ],
   "metadata": {}
  },
  {
   "cell_type": "code",
   "execution_count": 33,
   "source": [
    "print(root.getchildren())\n",
    "print(type(root.getchildren()))\n",
    "print(root.getchildren()[1])\n",
    "for ee in root.getchildren():\n",
    "    for e in ee.getchildren():\n",
    "        if not e.text:\n",
    "            text = \"None\"\n",
    "        else:\n",
    "            text = e.text\n",
    "        print(e.tag + \" => \" + text)"
   ],
   "outputs": [
    {
     "output_type": "stream",
     "name": "stdout",
     "text": [
      "[<Element student at 0x7fefe318a9c0>, <Element student at 0x7fefe3186ec0>]\n",
      "<class 'list'>\n",
      "<Element student at 0x7fefe3186ec0>\n",
      "id => 001\n",
      "name => Kim\n",
      "id => 002\n",
      "name => Lee\n"
     ]
    }
   ],
   "metadata": {}
  },
  {
   "cell_type": "code",
   "execution_count": 37,
   "source": [
    "for node in root.getiterator():\n",
    "    print('Tag: {0} \\tATTRIB: {1} \\t\\ttext: {2}'.format(node.tag, node.attrib, node.text))\n"
   ],
   "outputs": [
    {
     "output_type": "stream",
     "name": "stdout",
     "text": [
      "Tag: students \tATTRIB: {} \t\ttext: \n",
      "    \n",
      "Tag: student \tATTRIB: {'x': '1'} \t\ttext: \n",
      "        \n",
      "Tag: id \tATTRIB: {} \t\ttext: 001\n",
      "Tag: name \tATTRIB: {} \t\ttext: Kim\n",
      "Tag: student \tATTRIB: {'x': '2'} \t\ttext: \n",
      "        \n",
      "Tag: id \tATTRIB: {} \t\ttext: 002\n",
      "Tag: name \tATTRIB: {} \t\ttext: Lee\n"
     ]
    }
   ],
   "metadata": {}
  },
  {
   "cell_type": "markdown",
   "source": [
    "## XML 검색\n",
    "- iterfind() : 반복적으로 인자와 일치하는 요소를 검색\n",
    "- findall() : 인자와 일치하는 요소들을 리스트로 반환\n",
    "- find() : 인자와 일치하는 첫 요소를 반환\n",
    "- findtext() : 인자와 일치하는 첫 요소의 .text 내용을 반환"
   ],
   "metadata": {}
  },
  {
   "cell_type": "code",
   "execution_count": 40,
   "source": [
    "std = root.find('student')\n",
    "for node in std:\n",
    "    print(node.text)\n",
    "print(std.attrib)"
   ],
   "outputs": [
    {
     "output_type": "stream",
     "name": "stdout",
     "text": [
      "001\n",
      "Kim\n",
      "{'x': '1'}\n"
     ]
    }
   ],
   "metadata": {}
  },
  {
   "cell_type": "code",
   "execution_count": 42,
   "source": [
    "stds = root.findall('student')\n",
    "for node in stds:\n",
    "    for item in node:\n",
    "        print(item.text)"
   ],
   "outputs": [
    {
     "output_type": "stream",
     "name": "stdout",
     "text": [
      "001\n",
      "Kim\n",
      "002\n",
      "Lee\n"
     ]
    }
   ],
   "metadata": {}
  },
  {
   "cell_type": "markdown",
   "source": [
    "## XPath\n",
    "- /: 루트 바로 아래 수준만 검색\n",
    "- //: 모든 부분에서 검색\n",
    "- @: 속성을 검색"
   ],
   "metadata": {}
  },
  {
   "cell_type": "code",
   "execution_count": 43,
   "source": [
    "root.xpath('//@x')"
   ],
   "outputs": [
    {
     "output_type": "execute_result",
     "data": {
      "text/plain": [
       "['1', '2']"
      ]
     },
     "metadata": {},
     "execution_count": 43
    }
   ],
   "metadata": {}
  },
  {
   "cell_type": "code",
   "execution_count": 45,
   "source": [
    "root.xpath('//*[@x=\"1\"]/id/text()')"
   ],
   "outputs": [
    {
     "output_type": "execute_result",
     "data": {
      "text/plain": [
       "['001']"
      ]
     },
     "metadata": {},
     "execution_count": 45
    }
   ],
   "metadata": {}
  },
  {
   "cell_type": "markdown",
   "source": [
    "## CSS 검색 ##\n",
    "- . 을 사용해 클래스\n",
    "- \\# 을 사용해 아이디"
   ],
   "metadata": {}
  },
  {
   "cell_type": "code",
   "execution_count": 46,
   "source": [
    "from lxml.cssselect import CSSSelector\n",
    "sel = CSSSelector('student')"
   ],
   "outputs": [],
   "metadata": {}
  },
  {
   "cell_type": "code",
   "execution_count": 47,
   "source": [
    "print(sel)\n",
    "print(sel.css)\n",
    "print(sel.path)"
   ],
   "outputs": [
    {
     "output_type": "stream",
     "name": "stdout",
     "text": [
      "<CSSSelector 7fefe31944a0 for 'student'>\n",
      "student\n",
      "descendant-or-self::student\n"
     ]
    }
   ],
   "metadata": {}
  },
  {
   "cell_type": "code",
   "execution_count": 52,
   "source": [
    "root = lxml.etree.fromstring(input)\n",
    "nodes = sel(root)\n",
    "print(type(nodes))\n",
    "print(len(nodes))\n",
    "for e in nodes:\n",
    "    print(e.get('x'))"
   ],
   "outputs": [
    {
     "output_type": "stream",
     "name": "stdout",
     "text": [
      "<class 'list'>\n",
      "2\n",
      "1\n",
      "2\n"
     ]
    }
   ],
   "metadata": {}
  },
  {
   "cell_type": "code",
   "execution_count": 54,
   "source": [
    "sel = CSSSelector('id')\n",
    "nodes = sel(root)\n",
    "print(type(nodes))\n",
    "for e in nodes:\n",
    "    print(e.text)"
   ],
   "outputs": [
    {
     "output_type": "stream",
     "name": "stdout",
     "text": [
      "<class 'list'>\n",
      "001\n",
      "002\n"
     ]
    }
   ],
   "metadata": {}
  },
  {
   "cell_type": "markdown",
   "source": [
    "JSON\n",
    "> JavaScript Object Notation"
   ],
   "metadata": {}
  },
  {
   "cell_type": "code",
   "execution_count": 57,
   "source": [
    "input = '''[\n",
    "    { \"id\" : \"001\", \"x\" : \"2\", \"name\" : \"Chuck\"},\n",
    "    { \"id\" : \"009\", \"x\" : \"7\", \"name\" : \"Brent\"}\n",
    "]'''"
   ],
   "outputs": [],
   "metadata": {}
  },
  {
   "cell_type": "code",
   "execution_count": 58,
   "source": [
    "import json\n",
    "info = json.loads(input)"
   ],
   "outputs": [],
   "metadata": {}
  },
  {
   "cell_type": "code",
   "execution_count": 59,
   "source": [
    "'User count:{}'.format(len(info))"
   ],
   "outputs": [
    {
     "output_type": "execute_result",
     "data": {
      "text/plain": [
       "'User count:2'"
      ]
     },
     "metadata": {},
     "execution_count": 59
    }
   ],
   "metadata": {}
  },
  {
   "cell_type": "code",
   "execution_count": 60,
   "source": [
    "for item in info:\n",
    "    print(\"id: {} \\tname: {}\".format(item['id'], item['name']))"
   ],
   "outputs": [
    {
     "output_type": "stream",
     "name": "stdout",
     "text": [
      "id: 001 \tname: Chuck\n",
      "id: 009 \tname: Brent\n"
     ]
    }
   ],
   "metadata": {}
  },
  {
   "cell_type": "code",
   "execution_count": 63,
   "source": [
    "import json\n",
    "my = json.dumps(\n",
    "    ['foo', {'bar': ('baz', None, 1.0, 2)}]\n",
    ")\n",
    "print(type(my))\n",
    "# 자바스크립트에서 사용하는 문법으로 변환해서 출력할 수 있다.\n",
    "print(my)"
   ],
   "outputs": [
    {
     "output_type": "stream",
     "name": "stdout",
     "text": [
      "<class 'str'>\n",
      "[\"foo\", {\"bar\": [\"baz\", null, 1.0, 2]}]\n"
     ]
    }
   ],
   "metadata": {}
  }
 ],
 "metadata": {
  "orig_nbformat": 4,
  "language_info": {
   "name": "python",
   "version": "3.9.0",
   "mimetype": "text/x-python",
   "codemirror_mode": {
    "name": "ipython",
    "version": 3
   },
   "pygments_lexer": "ipython3",
   "nbconvert_exporter": "python",
   "file_extension": ".py"
  },
  "kernelspec": {
   "name": "python3",
   "display_name": "Python 3.9.0 64-bit ('analysis': conda)"
  },
  "interpreter": {
   "hash": "2045bdaa5fc18fa1028b425df8586c6d62386b979435d2a5408e399246556570"
  }
 },
 "nbformat": 4,
 "nbformat_minor": 2
}