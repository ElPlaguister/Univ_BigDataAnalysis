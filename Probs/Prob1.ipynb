{
 "cells": [
  {
   "cell_type": "markdown",
   "source": [
    "# 문제 1: IP주소에서 지역정보 알아내기\n",
    "인터넷 주소를 판단하여, 누가 어디서 접근하는지 알아내려고 한다. OPEN API를 사용해서 구현해보자"
   ],
   "metadata": {}
  },
  {
   "cell_type": "markdown",
   "source": [
    "## ipstack api를 사용해보자\n",
    "### http://api.ipstack.com/<ip주소>?access_key=<인중키>"
   ],
   "metadata": {}
  },
  {
   "cell_type": "code",
   "execution_count": 1,
   "source": [
    "url = 'http://api.ipstack.com/125.176.129.177?access_key=d7cdd0602f68e39767eba8a0e245e849'\n"
   ],
   "outputs": [],
   "metadata": {}
  },
  {
   "cell_type": "code",
   "execution_count": 2,
   "source": [
    "import requests\n",
    "\n",
    "r = requests.get(url)"
   ],
   "outputs": [],
   "metadata": {}
  },
  {
   "cell_type": "code",
   "execution_count": 6,
   "source": [
    "import json\n",
    "geo = json.loads(r.text)\n",
    "print(type(geo))\n",
    "print(geo)"
   ],
   "outputs": [
    {
     "output_type": "stream",
     "name": "stdout",
     "text": [
      "<class 'dict'>\n",
      "{'ip': '125.176.129.177', 'type': 'ipv4', 'continent_code': 'AS', 'continent_name': 'Asia', 'country_code': 'KR', 'country_name': 'South Korea', 'region_code': '11', 'region_name': 'Seoul', 'city': 'Seoul', 'zip': '100-011', 'latitude': 37.56100082397461, 'longitude': 126.98265075683594, 'location': {'geoname_id': 1835848, 'capital': 'Seoul', 'languages': [{'code': 'ko', 'name': 'Korean', 'native': '한국어'}], 'country_flag': 'https://assets.ipstack.com/flags/kr.svg', 'country_flag_emoji': '🇰🇷', 'country_flag_emoji_unicode': 'U+1F1F0 U+1F1F7', 'calling_code': '82', 'is_eu': False}}\n"
     ]
    }
   ],
   "metadata": {}
  },
  {
   "cell_type": "code",
   "execution_count": 10,
   "source": [
    "print(geo.get('ip'))\n",
    "print(geo['ip'])\n",
    "print(geo['city'])\n",
    "print(geo.get('ip'))"
   ],
   "outputs": [
    {
     "output_type": "stream",
     "name": "stdout",
     "text": [
      "125.176.129.177\n",
      "125.176.129.177\n",
      "Seoul\n",
      "125.176.129.177\n"
     ]
    }
   ],
   "metadata": {}
  },
  {
   "cell_type": "code",
   "execution_count": 12,
   "source": [
    "for k, v in geo.items():\n",
    "    print(k, \"\\t: \", v)"
   ],
   "outputs": [
    {
     "output_type": "stream",
     "name": "stdout",
     "text": [
      "ip \t:  125.176.129.177\n",
      "type \t:  ipv4\n",
      "continent_code \t:  AS\n",
      "continent_name \t:  Asia\n",
      "country_code \t:  KR\n",
      "country_name \t:  South Korea\n",
      "region_code \t:  11\n",
      "region_name \t:  Seoul\n",
      "city \t:  Seoul\n",
      "zip \t:  100-011\n",
      "latitude \t:  37.56100082397461\n",
      "longitude \t:  126.98265075683594\n",
      "location \t:  {'geoname_id': 1835848, 'capital': 'Seoul', 'languages': [{'code': 'ko', 'name': 'Korean', 'native': '한국어'}], 'country_flag': 'https://assets.ipstack.com/flags/kr.svg', 'country_flag_emoji': '🇰🇷', 'country_flag_emoji_unicode': 'U+1F1F0 U+1F1F7', 'calling_code': '82', 'is_eu': False}\n"
     ]
    }
   ],
   "metadata": {}
  }
 ],
 "metadata": {
  "orig_nbformat": 4,
  "language_info": {
   "name": "python",
   "version": "3.9.0",
   "mimetype": "text/x-python",
   "codemirror_mode": {
    "name": "ipython",
    "version": 3
   },
   "pygments_lexer": "ipython3",
   "nbconvert_exporter": "python",
   "file_extension": ".py"
  },
  "kernelspec": {
   "name": "python3",
   "display_name": "Python 3.9.0 64-bit ('analysis': conda)"
  },
  "interpreter": {
   "hash": "2045bdaa5fc18fa1028b425df8586c6d62386b979435d2a5408e399246556570"
  }
 },
 "nbformat": 4,
 "nbformat_minor": 2
}