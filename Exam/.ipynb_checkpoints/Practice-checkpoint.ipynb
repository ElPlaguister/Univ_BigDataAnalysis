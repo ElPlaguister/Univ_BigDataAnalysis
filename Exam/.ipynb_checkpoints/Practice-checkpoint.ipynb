{
 "cells": [
  {
   "cell_type": "markdown",
   "id": "52a8b446",
   "metadata": {},
   "source": [
    "# XML JSON"
   ]
  },
  {
   "cell_type": "code",
   "execution_count": 1,
   "id": "2a40adf2",
   "metadata": {},
   "outputs": [],
   "source": [
    "import requests\n",
    "import lxml.etree"
   ]
  },
  {
   "cell_type": "code",
   "execution_count": 2,
   "id": "ed4e5930",
   "metadata": {},
   "outputs": [],
   "source": [
    "input = '''\n",
    "<students>\n",
    "    <student x=\"1\">\n",
    "        <id>001</id>\n",
    "        <name>Kim</name>\n",
    "    </student>\n",
    "    <student x=\"2\">\n",
    "        <id>002</id>\n",
    "        <name>Lee</name>\n",
    "    </student>\n",
    "</students>\n",
    "'''"
   ]
  },
  {
   "cell_type": "code",
   "execution_count": 9,
   "id": "cd4c3d3e",
   "metadata": {},
   "outputs": [
    {
     "name": "stdout",
     "output_type": "stream",
     "text": [
      "Writing src/ds_open_hello.xml\n"
     ]
    }
   ],
   "source": [
    "%%writefile src/ds_open_hello.xml\n",
    "<students>\n",
    "    <student x=\"1\">\n",
    "        <id>001</id>\n",
    "        <name>Kim</name>\n",
    "    </student>\n",
    "    <student x=\"2\">\n",
    "        <id>002</id>\n",
    "        <name>Lee</name>\n",
    "    </student>\n",
    "</students>"
   ]
  },
  {
   "cell_type": "code",
   "execution_count": 5,
   "id": "1fe819bd",
   "metadata": {},
   "outputs": [
    {
     "data": {
      "text/plain": [
       "<Element students at 0x7fe9b9f0bb80>"
      ]
     },
     "execution_count": 5,
     "metadata": {},
     "output_type": "execute_result"
    }
   ],
   "source": [
    "root = lxml.etree.fromstring(input)\n",
    "root"
   ]
  },
  {
   "cell_type": "code",
   "execution_count": 7,
   "id": "2eeb3bd3",
   "metadata": {},
   "outputs": [
    {
     "data": {
      "text/plain": [
       "<Element students at 0x7fe9b9eb8a80>"
      ]
     },
     "execution_count": 7,
     "metadata": {},
     "output_type": "execute_result"
    }
   ],
   "source": [
    "from io import StringIO\n",
    "tree = lxml.etree.parse(StringIO(input))\n",
    "root = tree.getroot()\n",
    "root"
   ]
  },
  {
   "cell_type": "code",
   "execution_count": 11,
   "id": "f1363d39",
   "metadata": {},
   "outputs": [],
   "source": [
    "import os\n",
    "tree = lxml.etree.parse(os.path.join('src', 'ds_open_hello.xml'))\n",
    "root = tree.getroot()"
   ]
  },
  {
   "cell_type": "code",
   "execution_count": 16,
   "id": "e30e46b1",
   "metadata": {
    "scrolled": true
   },
   "outputs": [
    {
     "name": "stdout",
     "output_type": "stream",
     "text": [
      "student\n",
      "student\n"
     ]
    }
   ],
   "source": [
    "for e in root:\n",
    "    print(e.tag) # root태그의 바로 아래 태그"
   ]
  },
  {
   "cell_type": "code",
   "execution_count": 18,
   "id": "e1235d4f",
   "metadata": {},
   "outputs": [
    {
     "name": "stdout",
     "output_type": "stream",
     "text": [
      "[<Element student at 0x7fe9b9a27a00>, <Element student at 0x7fe9b9fadf00>]\n",
      "id => 001\n",
      "name => Kim\n",
      "id => 002\n",
      "name => Lee\n"
     ]
    }
   ],
   "source": [
    "print(root.getchildren())\n",
    "for ee in root.getchildren():\n",
    "    for e in ee.getchildren():\n",
    "        if not e.text:\n",
    "            text = 'None'\n",
    "        else:\n",
    "            text = e.text\n",
    "        print(e.tag + \" => \" + text)"
   ]
  },
  {
   "cell_type": "code",
   "execution_count": 27,
   "id": "896671d3",
   "metadata": {},
   "outputs": [
    {
     "data": {
      "text/plain": [
       "{'x': '2'}"
      ]
     },
     "execution_count": 27,
     "metadata": {},
     "output_type": "execute_result"
    }
   ],
   "source": [
    "root.getchildren()[1].attrib # 해당 블록의 attrib를 가져온다."
   ]
  },
  {
   "cell_type": "code",
   "execution_count": 28,
   "id": "83df1fab",
   "metadata": {},
   "outputs": [
    {
     "data": {
      "text/plain": [
       "'002'"
      ]
     },
     "execution_count": 28,
     "metadata": {},
     "output_type": "execute_result"
    }
   ],
   "source": [
    "(root.getchildren()[1]).getchildren()[0].text "
   ]
  },
  {
   "cell_type": "code",
   "execution_count": 29,
   "id": "9c316418",
   "metadata": {},
   "outputs": [
    {
     "name": "stdout",
     "output_type": "stream",
     "text": [
      "TAG: students \tATTRIB: {} \t\t TEXT: \n",
      "    \n",
      "TAG: student \tATTRIB: {'x': '1'} \t\t TEXT: \n",
      "        \n",
      "TAG: id \tATTRIB: {} \t\t TEXT: 001\n",
      "TAG: name \tATTRIB: {} \t\t TEXT: Kim\n",
      "TAG: student \tATTRIB: {'x': '2'} \t\t TEXT: \n",
      "        \n",
      "TAG: id \tATTRIB: {} \t\t TEXT: 002\n",
      "TAG: name \tATTRIB: {} \t\t TEXT: Lee\n"
     ]
    }
   ],
   "source": [
    "for node in root.getiterator():\n",
    "    print('TAG: {} \\tATTRIB: {} \\t\\t TEXT: {}'.format(node.tag, node.attrib, node.text))"
   ]
  },
  {
   "cell_type": "markdown",
   "id": "97dade34",
   "metadata": {},
   "source": [
    "## XML FIND"
   ]
  },
  {
   "cell_type": "code",
   "execution_count": 31,
   "id": "27491f3e",
   "metadata": {},
   "outputs": [
    {
     "name": "stdout",
     "output_type": "stream",
     "text": [
      "001\n",
      "Kim\n",
      "{'x': '1'}\n",
      "student\n"
     ]
    }
   ],
   "source": [
    "std = root.find('student')\n",
    "for node in std:\n",
    "    print(node.text)\n",
    "print(std.attrib)\n",
    "print(std.tag)"
   ]
  },
  {
   "cell_type": "code",
   "execution_count": 32,
   "id": "d0df2cba",
   "metadata": {},
   "outputs": [
    {
     "name": "stdout",
     "output_type": "stream",
     "text": [
      "001\n",
      "Kim\n",
      "002\n",
      "Lee\n"
     ]
    }
   ],
   "source": [
    "stds = root.findall('student')\n",
    "for node in stds:\n",
    "    for item in node:\n",
    "        print(item.text)"
   ]
  },
  {
   "cell_type": "markdown",
   "id": "f20c6258",
   "metadata": {},
   "source": [
    "## XPath\n",
    "- / : 루트 바로 아래 수준만 검색\n",
    "- // : 계층의 어디에 있던지 상관하지 않고 일치하는 요소 검색\n",
    "- @ : 속성을 검색"
   ]
  },
  {
   "cell_type": "code",
   "execution_count": 37,
   "id": "2964127c",
   "metadata": {},
   "outputs": [
    {
     "data": {
      "text/plain": [
       "['1', '2']"
      ]
     },
     "execution_count": 37,
     "metadata": {},
     "output_type": "execute_result"
    }
   ],
   "source": [
    "root.xpath('//@x') # 모든 위치의 x라는 속성을 가진 요소를 검색"
   ]
  },
  {
   "cell_type": "code",
   "execution_count": 39,
   "id": "831bd265",
   "metadata": {},
   "outputs": [
    {
     "data": {
      "text/plain": [
       "['001']"
      ]
     },
     "execution_count": 39,
     "metadata": {},
     "output_type": "execute_result"
    }
   ],
   "source": [
    "root.xpath('//*[@x=\"1\"]/id/text()') # 모든 위치에, 속성 x가 1인 것들만 찾아서, 그들의 id의 text()를 검색한다 -> 시험에 나올 것 같다."
   ]
  },
  {
   "cell_type": "code",
   "execution_count": null,
   "id": "4b49f692",
   "metadata": {},
   "outputs": [],
   "source": []
  }
 ],
 "metadata": {
  "kernelspec": {
   "display_name": "Python 3 (ipykernel)",
   "language": "python",
   "name": "python3"
  },
  "language_info": {
   "codemirror_mode": {
    "name": "ipython",
    "version": 3
   },
   "file_extension": ".py",
   "mimetype": "text/x-python",
   "name": "python",
   "nbconvert_exporter": "python",
   "pygments_lexer": "ipython3",
   "version": "3.8.11"
  }
 },
 "nbformat": 4,
 "nbformat_minor": 5
}
