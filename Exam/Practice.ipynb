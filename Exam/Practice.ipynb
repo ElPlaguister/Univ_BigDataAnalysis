{
 "cells": [
  {
   "cell_type": "markdown",
   "id": "4b8e8bcb",
   "metadata": {},
   "source": [
    "# XML JSON"
   ]
  },
  {
   "cell_type": "code",
   "execution_count": 1,
   "id": "3a8bfdcf",
   "metadata": {},
   "outputs": [],
   "source": [
    "import requests\n",
    "import lxml.etree"
   ]
  },
  {
   "cell_type": "code",
   "execution_count": 2,
   "id": "f1f3083d",
   "metadata": {},
   "outputs": [],
   "source": [
    "input = '''\n",
    "<students>\n",
    "    <student x=\"1\">\n",
    "        <id>001</id>\n",
    "        <name>Kim</name>\n",
    "    </student>\n",
    "    <student x=\"2\">\n",
    "        <id>002</id>\n",
    "        <name>Lee</name>\n",
    "    </student>\n",
    "</students>\n",
    "'''"
   ]
  },
  {
   "cell_type": "code",
   "execution_count": 9,
   "id": "d002e366",
   "metadata": {},
   "outputs": [
    {
     "name": "stdout",
     "output_type": "stream",
     "text": [
      "Writing src/ds_open_hello.xml\n"
     ]
    }
   ],
   "source": [
    "%%writefile src/ds_open_hello.xml\n",
    "<students>\n",
    "    <student x=\"1\">\n",
    "        <id>001</id>\n",
    "        <name>Kim</name>\n",
    "    </student>\n",
    "    <student x=\"2\">\n",
    "        <id>002</id>\n",
    "        <name>Lee</name>\n",
    "    </student>\n",
    "</students>"
   ]
  },
  {
   "cell_type": "code",
   "execution_count": 5,
   "id": "4d24f78d",
   "metadata": {},
   "outputs": [
    {
     "data": {
      "text/plain": [
       "<Element students at 0x7fe9b9f0bb80>"
      ]
     },
     "execution_count": 5,
     "metadata": {},
     "output_type": "execute_result"
    }
   ],
   "source": [
    "root = lxml.etree.fromstring(input)\n",
    "root"
   ]
  },
  {
   "cell_type": "code",
   "execution_count": 7,
   "id": "c8dba6df",
   "metadata": {},
   "outputs": [
    {
     "data": {
      "text/plain": [
       "<Element students at 0x7fe9b9eb8a80>"
      ]
     },
     "execution_count": 7,
     "metadata": {},
     "output_type": "execute_result"
    }
   ],
   "source": [
    "from io import StringIO\n",
    "tree = lxml.etree.parse(StringIO(input))\n",
    "root = tree.getroot()\n",
    "root"
   ]
  },
  {
   "cell_type": "code",
   "execution_count": 11,
   "id": "300276d3",
   "metadata": {},
   "outputs": [],
   "source": [
    "import os\n",
    "tree = lxml.etree.parse(os.path.join('src', 'ds_open_hello.xml'))\n",
    "root = tree.getroot()"
   ]
  },
  {
   "cell_type": "code",
   "execution_count": 16,
   "id": "768f08a6",
   "metadata": {
    "scrolled": true
   },
   "outputs": [
    {
     "name": "stdout",
     "output_type": "stream",
     "text": [
      "student\n",
      "student\n"
     ]
    }
   ],
   "source": [
    "for e in root:\n",
    "    print(e.tag) # root태그의 바로 아래 태그"
   ]
  },
  {
   "cell_type": "code",
   "execution_count": 18,
   "id": "56f85887",
   "metadata": {},
   "outputs": [
    {
     "name": "stdout",
     "output_type": "stream",
     "text": [
      "[<Element student at 0x7fe9b9a27a00>, <Element student at 0x7fe9b9fadf00>]\n",
      "id => 001\n",
      "name => Kim\n",
      "id => 002\n",
      "name => Lee\n"
     ]
    }
   ],
   "source": [
    "print(root.getchildren())\n",
    "for ee in root.getchildren():\n",
    "    for e in ee.getchildren():\n",
    "        if not e.text:\n",
    "            text = 'None'\n",
    "        else:\n",
    "            text = e.text\n",
    "        print(e.tag + \" => \" + text)"
   ]
  },
  {
   "cell_type": "code",
   "execution_count": 27,
   "id": "a99d1a4c",
   "metadata": {},
   "outputs": [
    {
     "data": {
      "text/plain": [
       "{'x': '2'}"
      ]
     },
     "execution_count": 27,
     "metadata": {},
     "output_type": "execute_result"
    }
   ],
   "source": [
    "root.getchildren()[1].attrib # 해당 블록의 attrib를 가져온다."
   ]
  },
  {
   "cell_type": "code",
   "execution_count": 28,
   "id": "12ecc20b",
   "metadata": {},
   "outputs": [
    {
     "data": {
      "text/plain": [
       "'002'"
      ]
     },
     "execution_count": 28,
     "metadata": {},
     "output_type": "execute_result"
    }
   ],
   "source": [
    "(root.getchildren()[1]).getchildren()[0].text "
   ]
  },
  {
   "cell_type": "code",
   "execution_count": 29,
   "id": "41e23220",
   "metadata": {},
   "outputs": [
    {
     "name": "stdout",
     "output_type": "stream",
     "text": [
      "TAG: students \tATTRIB: {} \t\t TEXT: \n",
      "    \n",
      "TAG: student \tATTRIB: {'x': '1'} \t\t TEXT: \n",
      "        \n",
      "TAG: id \tATTRIB: {} \t\t TEXT: 001\n",
      "TAG: name \tATTRIB: {} \t\t TEXT: Kim\n",
      "TAG: student \tATTRIB: {'x': '2'} \t\t TEXT: \n",
      "        \n",
      "TAG: id \tATTRIB: {} \t\t TEXT: 002\n",
      "TAG: name \tATTRIB: {} \t\t TEXT: Lee\n"
     ]
    }
   ],
   "source": [
    "for node in root.getiterator():\n",
    "    print('TAG: {} \\tATTRIB: {} \\t\\t TEXT: {}'.format(node.tag, node.attrib, node.text))"
   ]
  },
  {
   "cell_type": "markdown",
   "id": "83477960",
   "metadata": {},
   "source": [
    "## XML FIND"
   ]
  },
  {
   "cell_type": "code",
   "execution_count": 31,
   "id": "8e41047e",
   "metadata": {},
   "outputs": [
    {
     "name": "stdout",
     "output_type": "stream",
     "text": [
      "001\n",
      "Kim\n",
      "{'x': '1'}\n",
      "student\n"
     ]
    }
   ],
   "source": [
    "std = root.find('student')\n",
    "for node in std:\n",
    "    print(node.text)\n",
    "print(std.attrib)\n",
    "print(std.tag)"
   ]
  },
  {
   "cell_type": "code",
   "execution_count": 32,
   "id": "8173c699",
   "metadata": {},
   "outputs": [
    {
     "name": "stdout",
     "output_type": "stream",
     "text": [
      "001\n",
      "Kim\n",
      "002\n",
      "Lee\n"
     ]
    }
   ],
   "source": [
    "stds = root.findall('student')\n",
    "for node in stds:\n",
    "    for item in node:\n",
    "        print(item.text)"
   ]
  },
  {
   "cell_type": "markdown",
   "id": "b0104957",
   "metadata": {},
   "source": [
    "## XPath\n",
    "- / : 루트 바로 아래 수준만 검색\n",
    "- // : 계층의 어디에 있던지 상관하지 않고 일치하는 요소 검색\n",
    "- @ : 속성을 검색"
   ]
  },
  {
   "cell_type": "code",
   "execution_count": 37,
   "id": "f7285867",
   "metadata": {},
   "outputs": [
    {
     "data": {
      "text/plain": [
       "['1', '2']"
      ]
     },
     "execution_count": 37,
     "metadata": {},
     "output_type": "execute_result"
    }
   ],
   "source": [
    "root.xpath('//@x') # 모든 위치의 x라는 속성을 가진 요소를 검색"
   ]
  },
  {
   "cell_type": "code",
   "execution_count": 39,
   "id": "5c12c527",
   "metadata": {},
   "outputs": [
    {
     "data": {
      "text/plain": [
       "['001']"
      ]
     },
     "execution_count": 39,
     "metadata": {},
     "output_type": "execute_result"
    }
   ],
   "source": [
    "root.xpath('//*[@x=\"1\"]/id/text()') # 모든 위치에, 속성 x가 1인 것들만 찾아서, 그들의 id의 text()를 검색한다 -> 시험에 나올 것 같다."
   ]
  },
  {
   "cell_type": "code",
   "execution_count": 43,
   "id": "302863a3",
   "metadata": {
    "scrolled": true
   },
   "outputs": [],
   "source": [
    "from lxml.cssselect import CSSSelector"
   ]
  },
  {
   "cell_type": "code",
   "execution_count": 46,
   "id": "5519461b",
   "metadata": {},
   "outputs": [
    {
     "name": "stdout",
     "output_type": "stream",
     "text": [
      "student\n"
     ]
    }
   ],
   "source": [
    "sel = CSSSelector('student')\n",
    "print(sel.css)"
   ]
  },
  {
   "cell_type": "code",
   "execution_count": 48,
   "id": "9a41637b",
   "metadata": {},
   "outputs": [
    {
     "data": {
      "text/plain": [
       "[<Element student at 0x7fe9b9fe3e80>, <Element student at 0x7fe9b9feaa80>]"
      ]
     },
     "execution_count": 48,
     "metadata": {},
     "output_type": "execute_result"
    }
   ],
   "source": [
    "root = lxml.etree.fromstring(input)\n",
    "nodes = sel(root)\n",
    "nodes"
   ]
  },
  {
   "cell_type": "code",
   "execution_count": 49,
   "id": "0f2b380b",
   "metadata": {},
   "outputs": [
    {
     "name": "stdout",
     "output_type": "stream",
     "text": [
      "1\n",
      "2\n"
     ]
    }
   ],
   "source": [
    "for e in nodes:\n",
    "    print(e.get('x'))"
   ]
  },
  {
   "cell_type": "code",
   "execution_count": 51,
   "id": "ee0fe687",
   "metadata": {},
   "outputs": [
    {
     "name": "stdout",
     "output_type": "stream",
     "text": [
      "001\n",
      "002\n"
     ]
    }
   ],
   "source": [
    "# CSSSelector를 재설정해주어야 다른 쿼리를 사용할 수 있다.\n",
    "sel = CSSSelector('id')\n",
    "nodes = sel(root)\n",
    "for e in nodes:\n",
    "    print(e.text)"
   ]
  },
  {
   "cell_type": "markdown",
   "id": "484232f1",
   "metadata": {},
   "source": [
    "# JSON"
   ]
  },
  {
   "cell_type": "code",
   "execution_count": 52,
   "id": "3734ab47",
   "metadata": {},
   "outputs": [],
   "source": [
    "input = '''[\n",
    "    { \"id\" : \"001\", \"x\" : \"2\", \"name\" : \"Chuck\"},\n",
    "    { \"id\" : \"009\", \"x\" : \"7\", \"name\" : \"Brent\"}\n",
    "]'''"
   ]
  },
  {
   "cell_type": "code",
   "execution_count": 53,
   "id": "987fce0b",
   "metadata": {},
   "outputs": [],
   "source": [
    "import json\n",
    "\n",
    "info = json.loads(input)"
   ]
  },
  {
   "cell_type": "code",
   "execution_count": 54,
   "id": "9adb747d",
   "metadata": {},
   "outputs": [
    {
     "name": "stdout",
     "output_type": "stream",
     "text": [
      "id: 001 \tname: Chuck\n",
      "id: 009 \tname: Brent\n"
     ]
    }
   ],
   "source": [
    "for item in info:\n",
    "    print('id: {} \\tname: {}'.format(item['id'], item['name']))"
   ]
  },
  {
   "cell_type": "code",
   "execution_count": 56,
   "id": "c68106d3",
   "metadata": {},
   "outputs": [
    {
     "name": "stdout",
     "output_type": "stream",
     "text": [
      "<class 'str'> [\"foo\", {\"bar\": [\"baz\", null, 1.0, 2]}]\n"
     ]
    }
   ],
   "source": [
    "my = json.dumps(\n",
    "    ['foo', {'bar': ('baz', None, 1.0, 2)}]\n",
    ")\n",
    "\n",
    "print(type(my), my)"
   ]
  },
  {
   "cell_type": "markdown",
   "id": "19d75c43",
   "metadata": {},
   "source": [
    "# URL Encoding"
   ]
  },
  {
   "cell_type": "code",
   "execution_count": 57,
   "id": "8cf5ac89",
   "metadata": {},
   "outputs": [
    {
     "name": "stdout",
     "output_type": "stream",
     "text": [
      "%23q=%ED%95%9C%EA%B8%80\n",
      "%23q=%ED%95%9C%EA%B8%80\n"
     ]
    }
   ],
   "source": [
    "import urllib\n",
    "\n",
    "print(urllib.parse.urlencode({'#q' : '한글'}))\n",
    "print(urllib.parse.urlencode({'#q' : u'한글'.encode('utf-8')}))"
   ]
  },
  {
   "cell_type": "markdown",
   "metadata": {},
   "source": [
    "# mongodb"
   ]
  },
  {
   "cell_type": "code",
   "execution_count": 6,
   "metadata": {},
   "outputs": [],
   "source": [
    "import pymongo\n",
    "Client = pymongo.MongoClient()"
   ]
  },
  {
   "cell_type": "code",
   "execution_count": 7,
   "metadata": {},
   "outputs": [
    {
     "name": "stdout",
     "output_type": "stream",
     "text": [
      "['admin', 'config', 'local']\n"
     ]
    }
   ],
   "source": [
    "db = Client.myDB\n",
    "print(Client.list_database_names())"
   ]
  },
  {
   "cell_type": "code",
   "execution_count": 8,
   "metadata": {},
   "outputs": [
    {
     "data": {
      "text/plain": [
       "<pymongo.results.InsertOneResult at 0x7f850c37cec0>"
      ]
     },
     "execution_count": 8,
     "metadata": {},
     "output_type": "execute_result"
    }
   ],
   "source": [
    "_id = 1\n",
    "_name = 'js'\n",
    "_age = 11\n",
    "_country = 'ko'\n",
    "\n",
    "db.kritiasTable.insert_one({\n",
    "    'id': _id,\n",
    "    'name': _name,\n",
    "    'age': _age,\n",
    "    'country': _country\n",
    "})"
   ]
  },
  {
   "cell_type": "code",
   "execution_count": 10,
   "metadata": {},
   "outputs": [
    {
     "name": "stdout",
     "output_type": "stream",
     "text": [
      "['admin', 'config', 'local', 'myDB']\n",
      "['kritiasTable']\n"
     ]
    }
   ],
   "source": [
    "print(Client.list_database_names())\n",
    "print(db.list_collection_names())"
   ]
  },
  {
   "cell_type": "code",
   "execution_count": 11,
   "metadata": {},
   "outputs": [
    {
     "name": "stdout",
     "output_type": "stream",
     "text": [
      "js\n"
     ]
    }
   ],
   "source": [
    "results = db.kritiasTable.find()\n",
    "for r in results:\n",
    "    print(r['name'])"
   ]
  }
 ],
 "metadata": {
  "interpreter": {
   "hash": "0fe295ad4522a8f3a1c00f73e8c1fc4bffda693b9f244974c35f867e6985c135"
  },
  "kernelspec": {
   "display_name": "Python 3.8.11 64-bit ('Analysis': conda)",
   "name": "python3"
  },
  "language_info": {
   "codemirror_mode": {
    "name": "ipython",
    "version": 3
   },
   "file_extension": ".py",
   "mimetype": "text/x-python",
   "name": "python",
   "nbconvert_exporter": "python",
   "pygments_lexer": "ipython3",
   "version": "3.8.11"
  }
 },
 "nbformat": 4,
 "nbformat_minor": 5
}
