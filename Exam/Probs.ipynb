{
 "cells": [
  {
   "cell_type": "markdown",
   "id": "27a491dd",
   "metadata": {},
   "source": [
    "# 2"
   ]
  },
  {
   "cell_type": "code",
   "execution_count": 19,
   "id": "e7bd851d",
   "metadata": {},
   "outputs": [
    {
     "name": "stdout",
     "output_type": "stream",
     "text": [
      "Overwriting src/prob2.py\n"
     ]
    }
   ],
   "source": [
    "%%writefile src/prob2.py\n",
    "import os\n",
    "import requests\n",
    "import urllib\n",
    "import mylib\n",
    "\n",
    "def doIt():\n",
    "    keyPath = os.path.join(os.getcwd(), 'src', 'key.properties')\n",
    "    key = mylib.getKey(keyPath)\n",
    "    \n",
    "    KEY = str(key['dataseoul'])\n",
    "    TYPE = 'json'\n",
    "    SERVICE = 'SearchSTNBySubwayLineInfo'\n",
    "    LINE_NUM = str(2)\n",
    "    START_INDEX = str(1)\n",
    "    END_INDEX = str(10)\n",
    "    params = '/'.join([KEY, TYPE, SERVICE, START_INDEX, END_INDEX, '', '', LINE_NUM])\n",
    "    _url = 'http://openAPI.seoul.go.kr:8088'\n",
    "    url = '/'.join([_url, params])\n",
    "    \n",
    "    r = requests.get(url)\n",
    "    stations = r.json()\n",
    "    for e in stations['SearchSTNBySubwayLineInfo']['row']:\n",
    "        print(u\"{0:4s}\\t{1:15s}\\t{2:3s}\\t{3:2s}\".format(e['STATION_CD'], e['STATION_NM'], e['FR_CODE'], e['LINE_NUM']))\n",
    "        \n",
    "if __name__ ==\"__main__\":\n",
    "    doIt()"
   ]
  },
  {
   "cell_type": "code",
   "execution_count": 20,
   "id": "bae15c71",
   "metadata": {
    "scrolled": true
   },
   "outputs": [
    {
     "name": "stdout",
     "output_type": "stream",
     "text": [
      "0159\t동묘앞            \t127\t01호선\r\n",
      "0416\t미아사거리          \t416\t04호선\r\n",
      "0423\t충무로            \t423\t04호선\r\n",
      "1004\t노량진            \t136\t01호선\r\n",
      "1010\t한남             \tK113\t경의선\r\n",
      "0309\t지축             \t319\t03호선\r\n",
      "0321\t충무로            \t331\t03호선\r\n",
      "0333\t매봉             \t343\t03호선\r\n",
      "0340\t가락시장           \t350\t03호선\r\n",
      "0424\t명동             \t424\t04호선\r\n"
     ]
    }
   ],
   "source": [
    "!python src/prob2.py"
   ]
  }
 ],
 "metadata": {
  "kernelspec": {
   "display_name": "Python 3 (ipykernel)",
   "language": "python",
   "name": "python3"
  },
  "language_info": {
   "codemirror_mode": {
    "name": "ipython",
    "version": 3
   },
   "file_extension": ".py",
   "mimetype": "text/x-python",
   "name": "python",
   "nbconvert_exporter": "python",
   "pygments_lexer": "ipython3",
   "version": "3.8.11"
  }
 },
 "nbformat": 4,
 "nbformat_minor": 5
}
