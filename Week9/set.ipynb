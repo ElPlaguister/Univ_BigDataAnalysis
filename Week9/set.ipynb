{
 "cells": [
  {
   "cell_type": "code",
   "execution_count": 7,
   "metadata": {},
   "outputs": [
    {
     "name": "stdout",
     "output_type": "stream",
     "text": [
      "Overwriting src/report_1.py\n"
     ]
    }
   ],
   "source": [
    "%%writefile src/report_1.py\n",
    "import os\n",
    "import requests\n",
    "import json\n",
    "from pymongo import MongoClient\n",
    "import mylib\n",
    "\n",
    "Client = MongoClient('mongodb://localhost:27017')\n",
    "_db = Client['myDB']\n",
    "_table = _db['report1']\n",
    "\n",
    "def saveJson(_fname, _data):\n",
    "    import io\n",
    "    with io.open(_fname, 'a', encoding='utf-8') as json_file:\n",
    "        _j = json.dump(_data, json_file, ensure_ascii=False)\n",
    "        json_file.write(str(_j) + \"\\n\")\n",
    "\n",
    "def readJson(_fname):\n",
    "    for line in open(_fname, 'r').readlines():\n",
    "        _j = json.loads(line)\n",
    "        print(_j['id'])\n",
    "\n",
    "def saveDB(_data):\n",
    "    _table.insert_one(_data)\n",
    "\n",
    "def readDB():\n",
    "    for tweet in _table.find():\n",
    "        print(tweet['id'], tweet['text'])\n",
    "\n",
    "def saveFile(_fname, _data):\n",
    "    fp = open(_fname, 'a')\n",
    "    fp.write(_data + \"\\n\")\n",
    "\n",
    "def doIt():\n",
    "    keyPath = os.path.join(os.getcwd(), 'src', 'key.properties')\n",
    "    key = mylib.getKey(keyPath)\n",
    "\n",
    "    endpoint = 'http://openAPI.seoul.go.kr:8088'\n",
    "    KEY = str(key['dataseoul'])\n",
    "    TYPE = 'json'\n",
    "    SERVICE = 'landActualPriceInfo'\n",
    "    _startIndex = 1\n",
    "    _endIndex = 50\n",
    "\n",
    "    _maxIter = 100\n",
    "    _iter = 0\n",
    "    _jfname = 'src/LandActualPriceInfo.json'\n",
    "    rows = []\n",
    "    myJson = 0\n",
    "\n",
    "    while _iter < _maxIter:\n",
    "        url  = \"/\".join([endpoint, KEY, TYPE, SERVICE, str(_startIndex), str(_endIndex)])\n",
    "        _json = requests.get(url).json()\n",
    "        if(_iter == 0):\n",
    "            print('apiSize: ', _json['landActualPriceInfo']['list_total_count'])\n",
    "            myJson = _json\n",
    "        if(_iter == _maxIter - 1):\n",
    "            print('myDB Size: ', str(_maxIter * (_endIndex - _startIndex + 1)))\n",
    "            print('last item: ', _json['landActualPriceInfo']['row'][-1])\n",
    "        rows.extend(_json['landActualPriceInfo']['row'])\n",
    "        #saveDB(_json)\n",
    "        _startIndex += 50\n",
    "        _endIndex += 50\n",
    "        _iter += 1\n",
    "    myJson['landActualPriceInfo']['row'] = rows\n",
    "    saveJson(_jfname, myJson)\n",
    "\n",
    "if __name__ == '__main__':\n",
    "    doIt()"
   ]
  },
  {
   "cell_type": "code",
   "execution_count": 8,
   "metadata": {},
   "outputs": [
    {
     "name": "stdout",
     "output_type": "stream",
     "text": [
      "apiSize:  2381895\n",
      "myDB Size:  5000\n",
      "last item:  {'RTMS_ID': '11110-2021-4-0006127-1', 'LAND_CD': '1111018000101260000', 'SGG_CD': '11110', 'SGG_NM': '종로구', 'BJDONG10_CD': '1111018000', 'BJDONG_NM': '교북동', 'ACC_YEAR': '2021', 'JOB_GBN': '4', 'JOB_GBN_NM': '신고', 'DEAL_YMD': '20211002', 'OBJ_SEQNO': '1', 'TOT_AREA': '43.610000', 'BLDG_AREA': '25.910000', 'RIGHT_GBN': '0', 'FLR_INFO': '2', 'BLDG_MUSE_CD': '14202', 'BLDG_MUSE_NM': '오피스텔', 'OBJ_AMT': '330000000', 'BLDG_NM': '경희궁자이', 'BUILD_YEAR': '2017'}\n"
     ]
    }
   ],
   "source": [
    "!python src/report_1.py"
   ]
  },
  {
   "cell_type": "code",
   "execution_count": null,
   "metadata": {},
   "outputs": [],
   "source": [
    "# 파일 읽기\n",
    "# 각 줄마다 json이 생성됨.\n",
    "# 각 줄의 json의 row element만 저장해서 expand\n",
    "# 그 결과 json으로 저장\n",
    "\n",
    "# 다른 스크립트에서:\n",
    "# json에서 \n",
    "import os\n",
    "import json\n",
    "\n",
    "r = open(os.path.join('src', 'LandActualPriceInfo.json'), 'r')\n",
    "\n"
   ]
  }
 ],
 "metadata": {
  "interpreter": {
   "hash": "0fe295ad4522a8f3a1c00f73e8c1fc4bffda693b9f244974c35f867e6985c135"
  },
  "kernelspec": {
   "display_name": "Python 3.8.11 64-bit ('Analysis': conda)",
   "name": "python3"
  },
  "language_info": {
   "codemirror_mode": {
    "name": "ipython",
    "version": 3
   },
   "file_extension": ".py",
   "mimetype": "text/x-python",
   "name": "python",
   "nbconvert_exporter": "python",
   "pygments_lexer": "ipython3",
   "version": "3.8.11"
  },
  "orig_nbformat": 4
 },
 "nbformat": 4,
 "nbformat_minor": 2
}
